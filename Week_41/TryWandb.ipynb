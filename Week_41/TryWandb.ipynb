{
 "cells": [
  {
   "cell_type": "markdown",
   "id": "8f03eb61",
   "metadata": {},
   "source": [
    "## Illustration of **wandb** for visual inspection og ML optimization and validation\n",
    "\n",
    "- Sign-up at https://wandb.ai/ \n",
    "- Install wandb in the same virtual environment as tensorflow\n",
    "  - conda install -c conda-forge wandb\n",
    "- in the prompt: wandb login\n",
    "  - copy the key from the web page and paste it in the prompt"
   ]
  },
  {
   "cell_type": "code",
   "execution_count": null,
   "id": "d4871de8",
   "metadata": {},
   "outputs": [],
   "source": [
    "import os\n",
    "import wandb\n",
    "\n",
    "from wandb.keras import WandbCallback"
   ]
  },
  {
   "cell_type": "code",
   "execution_count": null,
   "id": "33b71f3d",
   "metadata": {},
   "outputs": [],
   "source": [
    "import tensorflow as tf\n",
    "\n",
    "from matplotlib import pyplot as plt\n",
    "\n",
    "(x_train, y_train), (x_test, y_test) = tf.keras.datasets.fashion_mnist.load_data()\n",
    "\n",
    "x_train = x_train / 255\n",
    "x_test = x_test / 255"
   ]
  },
  {
   "cell_type": "code",
   "execution_count": null,
   "id": "52534791-3c8a-483f-a83f-30e331627833",
   "metadata": {},
   "outputs": [],
   "source": [
    "def build_model(size, activation, weight_regularizer, dropout, batch_norm):\n",
    "    layers = [tf.keras.layers.Flatten(input_shape=(28, 28))]\n",
    "    \n",
    "    nb_layers = size\n",
    "    nb_neurons = size ** 2 * 4\n",
    "    \n",
    "    for i in range(nb_layers):\n",
    "        layers.append(tf.keras.layers.Dense(nb_neurons, activation=activation, \n",
    "                                            kernel_regularizer=weight_regularizer))\n",
    "        if batch_norm:\n",
    "            layers.append(tf.keras.layers.BatchNormalization())\n",
    "        if dropout:\n",
    "            layers.append(tf.keras.layers.Dropout(0.2))\n",
    "\n",
    "    layers.append(tf.keras.layers.Dense(10, activation='softmax'))\n",
    "    \n",
    "    model = tf.keras.models.Sequential(layers)\n",
    "    model.compile(\n",
    "        loss='sparse_categorical_crossentropy',\n",
    "        optimizer=tf.keras.optimizers.Adam(0.0001),\n",
    "        metrics=['sparse_categorical_crossentropy', 'accuracy'],\n",
    "        )\n",
    "    \n",
    "    return model"
   ]
  },
  {
   "cell_type": "code",
   "execution_count": null,
   "id": "236ed920-075e-48c9-83c1-ebd388e7c4a6",
   "metadata": {},
   "outputs": [],
   "source": [
    "model_small = build_model(1, 'relu', None, False, False)\n",
    "model_small.summary()"
   ]
  },
  {
   "cell_type": "code",
   "execution_count": null,
   "id": "ae7ca2fc-581c-4742-bd81-16e393a40af0",
   "metadata": {},
   "outputs": [],
   "source": [
    "## Here you need to supply your own wandb API key (if it has not been set by wandb login at prompt has not been used), project name and entity name.\n",
    "\n",
    "#os.environ[\"WANDB_API_KEY\"]= 'YOUR_API_KEY'\n",
    "os.environ[\"WANDB_NAME\"]= 'fashion-mnist-small'\n",
    "os.environ[\"WANDB_NOTEBOOK_NAME\"]='TryWandb.ipynb'\n",
    "run = wandb.init(project=\"amlfall23\",entity='christianmdahl',job_type='train')\n",
    "config = wandb.config"
   ]
  },
  {
   "cell_type": "code",
   "execution_count": null,
   "id": "36c0993d-0058-4c4c-90d9-2222022d2cdb",
   "metadata": {},
   "outputs": [],
   "source": [
    "# Define WandbCallback for experiment tracking\n",
    "wandb_callback = WandbCallback(monitor='val_loss',verbose=True,save_model=False,\n",
    "                               log_weights=True,\n",
    "                               log_evaluation=True,\n",
    "                               validation_steps=2)\n",
    "callbacks = [wandb_callback]\n"
   ]
  },
  {
   "cell_type": "code",
   "execution_count": null,
   "id": "83714998-4954-467e-a305-d83df6c013c4",
   "metadata": {},
   "outputs": [],
   "source": [
    "history_small = model_small.fit(x_train, y_train,\n",
    "                                validation_data=(x_test, y_test),\n",
    "                                epochs=40, verbose=1,\n",
    "                                callbacks = callbacks)"
   ]
  }
 ],
 "metadata": {
  "kernelspec": {
   "display_name": "Python 3.10.4 ('amlfall22')",
   "language": "python",
   "name": "python3"
  },
  "language_info": {
   "codemirror_mode": {
    "name": "ipython",
    "version": 3
   },
   "file_extension": ".py",
   "mimetype": "text/x-python",
   "name": "python",
   "nbconvert_exporter": "python",
   "pygments_lexer": "ipython3",
   "version": "3.10.9"
  },
  "vscode": {
   "interpreter": {
    "hash": "d3cedec8935a2c28d6fd602c3007747750e2af1c4c937c29fac0d323bf1b544b"
   }
  }
 },
 "nbformat": 4,
 "nbformat_minor": 5
}
