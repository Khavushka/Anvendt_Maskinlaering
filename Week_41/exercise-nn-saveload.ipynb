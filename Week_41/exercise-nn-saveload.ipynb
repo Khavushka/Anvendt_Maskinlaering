{
 "cells": [
  {
   "cell_type": "markdown",
   "metadata": {},
   "source": [
    "# Exercise - saving, loading, and TensorBoard\n",
    "\n",
    "1. Use the **fashion_mnist** dataset (classification of images of cloths). Train a neural network to classify the images, **training only for 2 epochs**. Evaluate its performance. Now save it. Reload it (with a new name) and perform evaluation again (to check it is the same). Train the reloaded model for 2 epochs. Evaluate. See how its performance is better now - this is since it has trained for 4 total epochs now.\n",
    "1. Train a model aiming at as good performance as possible, using a combination of what we have covered so far in class, optimization of hyperparameters (remember to use a validation set), and any other ideas you have. Track the performance of your final model using TensorBoard.\n",
    "\n",
    "**See slides for more details!**"
   ]
  },
  {
   "cell_type": "markdown",
   "metadata": {},
   "source": [
    "# Exercise 1\n",
    "\n",
    "Use the **fashion_mnist** dataset (classification of images of cloths). Train a neural network to classify the images, **training only for 2 epochs**. Evaluate its performance. Now save it. Reload it (with a new name) and perform evaluation again (to check it is the same). Train the reloaded model for 2 epochs. Evaluate. See how its performance is better now - this is since it has trained for 4 total epochs now."
   ]
  },
  {
   "cell_type": "code",
   "execution_count": null,
   "metadata": {},
   "outputs": [],
   "source": [
    "import tensorflow as tf\n",
    "from matplotlib import pyplot as plt\n",
    "\n",
    "(x_train, y_train), (x_test, y_test) = tf.keras.datasets.fashion_mnist.load_data()\n",
    "\n",
    "# A simply way to scale data. Remember pixels are in [0, 255] so this ensures [0, 1]\n",
    "x_train = x_train / 255\n",
    "x_test = x_test / 255\n",
    "\n",
    "print(x_train.shape, y_train.shape, x_test.shape, y_test.shape)"
   ]
  },
  {
   "cell_type": "code",
   "execution_count": null,
   "metadata": {},
   "outputs": [],
   "source": [
    "# Check the images\n",
    "fig = plt.figure(figsize=plt.figaspect(0.2))\n",
    "\n",
    "ax = fig.add_subplot(1, 4, 1)\n",
    "plt.imshow(x_train[0], cmap='gray')\n",
    "\n",
    "ax = fig.add_subplot(1, 4, 2)\n",
    "plt.imshow(x_train[1], cmap='gray')\n",
    "\n",
    "ax = fig.add_subplot(1, 4, 3)\n",
    "plt.imshow(x_train[2], cmap='gray')\n",
    "\n",
    "ax = fig.add_subplot(1, 4, 4)\n",
    "plt.imshow(x_train[3], cmap='gray')"
   ]
  },
  {
   "cell_type": "markdown",
   "metadata": {},
   "source": [
    "Now build a model. Recall the need for a \"rehape\" layer as the first layer!\n",
    "\n",
    "**Note**: Do feel free to experiment with the number of layers, nodes per layer, and optimizer."
   ]
  },
  {
   "cell_type": "code",
   "execution_count": null,
   "metadata": {},
   "outputs": [],
   "source": [
    "model = \n",
    "model.compile(???)\n",
    "\n",
    "model.summary()"
   ]
  },
  {
   "cell_type": "code",
   "execution_count": null,
   "metadata": {},
   "outputs": [],
   "source": [
    "model.fit(x_train, y_train, validation_data=(x_test, y_test), epochs=2)"
   ]
  },
  {
   "cell_type": "code",
   "execution_count": null,
   "metadata": {},
   "outputs": [],
   "source": [
    "model.evaluate(x_test, y_test)"
   ]
  },
  {
   "cell_type": "code",
   "execution_count": null,
   "metadata": {},
   "outputs": [],
   "source": [
    "# Save the model\n",
    "model.save('exercise-nn-saveload')"
   ]
  },
  {
   "cell_type": "code",
   "execution_count": null,
   "metadata": {
    "scrolled": true
   },
   "outputs": [],
   "source": [
    "model_reloaded = tf.keras.models.load_model('exercise-nn-saveload')\n",
    "model_reloaded.summary()"
   ]
  },
  {
   "cell_type": "code",
   "execution_count": null,
   "metadata": {},
   "outputs": [],
   "source": [
    "model_reloaded.evaluate(x_test, y_test)"
   ]
  },
  {
   "cell_type": "code",
   "execution_count": null,
   "metadata": {
    "scrolled": true
   },
   "outputs": [],
   "source": [
    "model_reloaded.fit(x_train, y_train, validation_data=(x_test, y_test), epochs=2)"
   ]
  },
  {
   "cell_type": "code",
   "execution_count": null,
   "metadata": {},
   "outputs": [],
   "source": [
    "model_reloaded.evaluate(x_test, y_test)"
   ]
  },
  {
   "cell_type": "markdown",
   "metadata": {},
   "source": [
    "# Exercise 2\n",
    "\n",
    "Train a model aiming at as good performance as possible, using a combination of what we have covered so far in class, optimization of hyperparameters (remember to use a validation set), and any other ideas you have. Track the performance of your final model using TensorBoard.\n",
    "\n",
    "**Note**: Remember to create the folder where you want to store your logs."
   ]
  },
  {
   "cell_type": "markdown",
   "metadata": {},
   "source": [
    "Below is some code you can use to test it out, provided you have created the directory with the given name (i.e. logs_exercise_nn_saveload).\n",
    "\n",
    "However, be sure to try to optimize your model!"
   ]
  },
  {
   "cell_type": "code",
   "execution_count": null,
   "metadata": {},
   "outputs": [],
   "source": [
    "model = tf.keras.models.Sequential([\n",
    "    tf.keras.layers.Flatten(input_shape=(28, 28)),\n",
    "    tf.keras.layers.Dense(128, activation='sigmoid'),\n",
    "    tf.keras.layers.Dense(128, activation='sigmoid'),\n",
    "    tf.keras.layers.Dense(128, activation='sigmoid'),\n",
    "    tf.keras.layers.Dense(128, activation='sigmoid'),\n",
    "    tf.keras.layers.Dense(10, activation='softmax'),\n",
    "])\n",
    "model.compile(\n",
    "    loss='sparse_categorical_crossentropy',\n",
    "    optimizer='sgd',\n",
    "    metrics=['accuracy'],\n",
    ")\n",
    "\n",
    "\n",
    "model.fit(x_train, y_train, validation_data=(x_test, y_test), epochs=40)"
   ]
  }
 ],
 "metadata": {
  "kernelspec": {
   "display_name": "Python 3",
   "language": "python",
   "name": "python3"
  },
  "language_info": {
   "codemirror_mode": {
    "name": "ipython",
    "version": 3
   },
   "file_extension": ".py",
   "mimetype": "text/x-python",
   "name": "python",
   "nbconvert_exporter": "python",
   "pygments_lexer": "ipython3",
   "version": "3.10.4"
  }
 },
 "nbformat": 4,
 "nbformat_minor": 4
}
