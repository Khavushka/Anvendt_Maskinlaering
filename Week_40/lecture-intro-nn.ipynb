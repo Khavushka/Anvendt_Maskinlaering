{
 "cells": [
  {
   "cell_type": "markdown",
   "metadata": {
    "slideshow": {
     "slide_type": "slide"
    }
   },
   "source": [
    "## DS807: Applied machine learning\n",
    "Christian M. Dahl. cmd@sam.sdu.dk.\n",
    "\n",
    "## Introduction to neural networks\n",
    "\n",
    "Notes: For the purpose of this notebook, DLWP refers to Deep Learning with Python by Francois Collet."
   ]
  },
  {
   "cell_type": "markdown",
   "metadata": {
    "slideshow": {
     "slide_type": "slide"
    },
    "tags": []
   },
   "source": [
    "## Program\n",
    "\n",
    "*Note that this lecture covers both October 6th and October 13th. I have decided to keep it in one set of slides, as the topics are so interdependent, and I believe it will make easier reading for you once you want to prepare for the exam or go back and look through some old material.*\n",
    "\n",
    "After this lecture, you will:\n",
    "1. Know what distinguishes deep learning from machine learning in general.\n",
    "1. Be familiar with the basics of fully connected neural networks, including how to build and train them.\n",
    "1. Know how to use fully connected neural networks to solve classification and regression problems.\n",
    "1. Have applied your knowledge to solve problems within classification and regression using fully connected neural networks."
   ]
  },
  {
   "cell_type": "markdown",
   "metadata": {
    "slideshow": {
     "slide_type": "slide"
    }
   },
   "source": [
    "## Machine learning in general\n",
    "\n",
    "To perform any kind of machine learning, we need:\n",
    "1. Data.\n",
    "1. A model (such as an SVM, DT, RF, etc.).\n",
    "1. A criterium to optimize (i.e. a measure of success, such as MSE).\n",
    "1. A method to perform optimization (greedy search, evolution, gradient based methods, etc.).\n",
    "\n",
    "Deep learning is a **subset** of machine learning. It still has all the general features of machine learning."
   ]
  },
  {
   "cell_type": "markdown",
   "metadata": {
    "slideshow": {
     "slide_type": "slide"
    }
   },
   "source": [
    "## Artificial intelligence, machine learning, and deep learning\n",
    "\n",
    "<img src=\"./graphics/ai-ml-dl.png\" alt=\"Drawing\" style=\"width: 1800px;\"/>\n",
    "\n",
    "- Artificial intelligence is essentially a system that seems smart\n",
    "    - On a basic level, artificial intelligence is where a machine seems human-like and can imitate human behavior. These behaviors include problem-solving, learning, and planning.\n",
    "\n",
    "Source: \"DLWP\""
   ]
  },
  {
   "cell_type": "markdown",
   "metadata": {
    "slideshow": {
     "slide_type": "slide"
    }
   },
   "source": [
    "## Important: What is outdated from the book\n",
    "\n",
    "Methods:\n",
    "1. Chollet stresses neural networks and boosting as the two key techniques for machine learning. This is still true.\n",
    "1. However, he stresses the Keras and the XGBoost libraries. This is not true: Keras is still used, but is part of TensorFlow, and XGBoost is starting to be outdated.\n",
    "\n",
    "Frameworks:\n",
    "1. Chollet notes three backends for Keras: TensorFlow, Theano, and CNTK.\n",
    "1. Today, Keras is directly a part of TensorFlow.\n",
    "1. Theano and CNTK are not used. The same is true for Caffe (a formerly popular framework).\n",
    "1. The second most important framework (after TensorFlow) to know for deep learning is PyTorch. This is also one of my favorite python libraries."
   ]
  },
  {
   "cell_type": "markdown",
   "metadata": {
    "slideshow": {
     "slide_type": "slide"
    }
   },
   "source": [
    "## The \"deep\" in deep learning\n",
    "\n",
    "<img src=\"./graphics/deep-nn.png\" alt=\"Drawing\" style=\"width: 1800px;\"/>\n",
    "\n",
    "- Layered representations learning\n",
    "- \"deep\" refers to the number of successive layers\n",
    "\n",
    "Source: \"DLWP\""
   ]
  },
  {
   "cell_type": "markdown",
   "metadata": {
    "slideshow": {
     "slide_type": "slide"
    }
   },
   "source": [
    "\n",
    "## Deep learning incrementally improves representations\n",
    "\n",
    "<img src=\"./graphics/deep-nn-representations.png\" alt=\"Drawing\" style=\"width: 1000px;\"/>\n",
    "Source: \"DLWP\""
   ]
  },
  {
   "cell_type": "markdown",
   "metadata": {
    "slideshow": {
     "slide_type": "slide"
    }
   },
   "source": [
    "## The \"deep\" in deep learning\n",
    "\n",
    "- Define $y = f(x) + \\epsilon$ where $f$ is some unknown function and $\\epsilon$ is some noise.\n",
    "- Mathematically layers are approximating the function $f(x)$ by a chain of functions (chain of layers):\n",
    "$$f(x) \\approx g_{4} ( g_{3} ( g_{2} ( g_{1} ( x ) ) ) )$$\n",
    "- If each function $g_{i}$ is a squashing function (an activation map), then the composition of functions is also a squashing function and it can be shown that this representation possesses the universial approximation property."
   ]
  },
  {
   "cell_type": "markdown",
   "metadata": {
    "slideshow": {
     "slide_type": "slide"
    }
   },
   "source": [
    "## What is a neural network?\n",
    "\n",
    "A neural network is a mathematical function. For example, a neural network may be the simple linear function:\n",
    "\n",
    "$f(x) = ax + b$\n",
    "\n",
    "However, in practice the functions represented by neural networks are *very* complex, with thousands, millions, *or even billions* of parameters (illustration on blackboard).\n",
    "\n",
    "Importantly, these functions are in general so complex, that they can ***approximate any function*** (under certain restrictions and up to arbitrary high precision).\n",
    "\n",
    "Here, a functions can be literally anything. That is, this proof is extremely powerful, proving that neural networks can drive cars, perform surgery, play any game, and do ***all of these at a near-to-human level***. In theory..."
   ]
  },
  {
   "cell_type": "markdown",
   "metadata": {
    "slideshow": {
     "slide_type": "slide"
    }
   },
   "source": [
    "## Status today\n",
    "\n",
    "1. Near-to-human level generating human-like text (chatGPT, LLAMA, etc.)\n",
    "2. Near-to-human level image classification.\n",
    "3. Near-to-human level speech recognition.\n",
    "4. Near-to-human level handwriting transcription.\n",
    "5. Near-to-human level autonomous driving.\n",
    "6. Digital assistants such as Google Assistant and Amazon Alexa\n",
    "7. Dramatically improved machine translation.\n",
    "8. Dramatically improved text-to-speech conversion.\n",
    "9. Dramatically improved text-to-image conversion.\n",
    "10. Perform effective ad targeting.\n",
    "11. ... and much more."
   ]
  },
  {
   "cell_type": "markdown",
   "metadata": {
    "slideshow": {
     "slide_type": "slide"
    }
   },
   "source": [
    "## Building blocks of neural networks\n",
    "\n",
    "In general, neural networks consist of two building blocks, alternating after each other (hierarchically/layered).\n",
    "\n",
    "1. Linear transformations (like linear regression).\n",
    "1. Nonlinear transformations.\n",
    "\n",
    "Now, there are various additions, but these are minor tweaks.\n",
    "\n",
    "The main take-away: the building blocks of neural networks are **simple**. The complexity of neural networks emerges as you combine these two building blocks.\n",
    "\n",
    "It's like lego. The building blocks are simple. Everyone can use them. But building something impressive requires a lot of thoughts on *how* to combine the blocks.\n",
    "\n",
    "The good thing: If this is something you find fun, tinkering with neural networks really is great."
   ]
  },
  {
   "cell_type": "markdown",
   "metadata": {
    "slideshow": {
     "slide_type": "slide"
    }
   },
   "source": [
    "## Nonlinear transforms\n",
    "\n",
    "Between each linear transformation, we use a nonlinear transformation.\n",
    "\n",
    "Why? Multiple linear transformations after each other are equivalent to **one** linear transformation. Hence, it does not do anything to place multiple linear transformations after each other!\n",
    "\n",
    "So it is crucial we place nonlinearities if we plan to model anything that is not linear. Which we do!\n",
    "\n",
    "But which nonlinearity? Just a small, simple one! Basically a simple, **element-wise** nonlinearity."
   ]
  },
  {
   "cell_type": "markdown",
   "metadata": {
    "slideshow": {
     "slide_type": "slide"
    }
   },
   "source": [
    "## Nonlinear transforms\n",
    "\n",
    "A simple illustration on how to construct a multilayer fully-connected neural network by stacking linear and nonlinear transformations:\n",
    "\n",
    "<img src=\"./graphics/stackedlayers.png\" alt=\"Drawing\" style=\"width: 1000px;\"/>"
   ]
  },
  {
   "cell_type": "markdown",
   "metadata": {
    "slideshow": {
     "slide_type": "slide"
    }
   },
   "source": [
    "## Squashing functions: Sigmoid - the \"old\" nonlinearity\n",
    "\n",
    "<img src=\"./graphics/sigmoid.png\" alt=\"Drawing\" style=\"width: 800px;\"/>\n",
    "\n",
    "Source: \"DLWP\""
   ]
  },
  {
   "cell_type": "markdown",
   "metadata": {
    "slideshow": {
     "slide_type": "slide"
    }
   },
   "source": [
    "## Rectified linear unit (ReLU) - the current nonlinearity\n",
    "\n",
    "<img src=\"./graphics/relu.png\" alt=\"Drawing\" style=\"width: 800px;\"/>\n",
    "\n",
    "Source: \"DLWP\""
   ]
  },
  {
   "cell_type": "markdown",
   "metadata": {
    "slideshow": {
     "slide_type": "slide"
    }
   },
   "source": [
    "## Popular nonlinearities\n",
    "\n",
    "1. ReLU. **The** choice. Almost always a good/the best idea.\n",
    "1. Softmax. Used as the **last layer** when performing classification. It makes sure the outputs are all $\\geq0$ and sum to $1$ (i.e. represent probabilities). Also useful in a few other settings.\n",
    "1. Linear (by which *no transformation* is meant). Used when performing regression.\n",
    "1. \"ReLU-like\". Lots of variants (ELU, leaky ReLU, parametric ReLU, swish). Occasionally useful.\n",
    "1. Sigmoid. The historic choice. However, this it useful when you have a reason to \"squeeze\" the value to (0, 1), such as when estimating a ratio or a probability. Often used in **recurrent neural networks**, but also in quite some other cases.\n",
    "1. Hyperbolic tangent. Useful when you want to \"squeeze\" a value to (-1, 1). Often used in **recurrent neural networks** and not much in other cases.\n",
    "\n",
    "See https://www.tensorflow.org/api_docs/python/tf/keras/activations for an overview."
   ]
  },
  {
   "cell_type": "markdown",
   "metadata": {
    "slideshow": {
     "slide_type": "slide"
    }
   },
   "source": [
    "## Fully connected neural network achitecture\n",
    "\n",
    "<img src=\"./graphics/Example-of-fully-connected-neural-network.png\" alt=\"Drawing\" style=\"width: 800px;\"/>\n"
   ]
  },
  {
   "cell_type": "markdown",
   "metadata": {
    "slideshow": {
     "slide_type": "slide"
    }
   },
   "source": [
    "## A neural network and its parameters...\n",
    "\n",
    "<img src=\"./graphics/nn-parameters.png\" alt=\"Drawing\" style=\"width: 1000px;\"/>\n",
    "Source: \"DLWP\""
   ]
  },
  {
   "cell_type": "markdown",
   "metadata": {
    "slideshow": {
     "slide_type": "slide"
    }
   },
   "source": [
    "## ... and how to use a loss function and an optimizer to find the best parameters\n",
    "\n",
    "<img src=\"./graphics/nn-optimizer.png\" alt=\"Drawing\" style=\"width: 1000px;\"/>\n",
    "Source: \"DLWP\""
   ]
  },
  {
   "cell_type": "markdown",
   "metadata": {
    "slideshow": {
     "slide_type": "slide"
    }
   },
   "source": [
    "## Essential code to build neural networks using TensorFlow\n",
    "\n",
    "1. To initialize a simple sequential model we use $\\texttt{tf.keras.models.Sequential}$.\n",
    "1. To implement a simple linear transformation with some activation we use $\\texttt{tf.keras.models.layers.Dense}$.\n",
    "1. After building a model, we need to **compile** it, where we use the method $\\texttt{.compile}$. This is essentially to tell that we are \"finished\" with initializing our model, so it may be considered a part of the initialization process.\n",
    "1. Training is exactly like with $\\texttt{sklearn}$, i.e. we use the method $\\texttt{.fit}$.\n",
    "1. We can also predict much like as with $\\texttt{sklearn}$, i.e. using the method $\\texttt{.predict}$. However, to evaluate our model, it is easier to use the method $\\texttt{.evaluate}$.\n",
    "1. We can take a look at our model using the method $\\texttt{.summary}$, which is super cool and useful!\n",
    "\n",
    "**Note**: There are more advanced (but also more flexible) ways to initialize and train a model. However, the above \"steps\" are useful to solve most problems."
   ]
  },
  {
   "cell_type": "code",
   "execution_count": 2,
   "metadata": {
    "slideshow": {
     "slide_type": "slide"
    }
   },
   "outputs": [
    {
     "name": "stdout",
     "output_type": "stream",
     "text": [
      "Model: \"sequential\"\n",
      "_________________________________________________________________\n",
      " Layer (type)                Output Shape              Param #   \n",
      "=================================================================\n",
      " dense (Dense)               (None, 64)                1984      \n",
      "                                                                 \n",
      " dense_1 (Dense)             (None, 128)               8320      \n",
      "                                                                 \n",
      " dense_2 (Dense)             (None, 2)                 258       \n",
      "                                                                 \n",
      "=================================================================\n",
      "Total params: 10,562\n",
      "Trainable params: 10,562\n",
      "Non-trainable params: 0\n",
      "_________________________________________________________________\n"
     ]
    }
   ],
   "source": [
    "import tensorflow as tf\n",
    "\n",
    "our_first_nn = tf.keras.models.Sequential([\n",
    "    tf.keras.layers.Dense(64, activation='relu', input_shape=(30,)), # input shape required in the first layer\n",
    "    tf.keras.layers.Dense(128, activation='relu'), # map 64 to 128 features and apply ReLU\n",
    "    tf.keras.layers.Dense(2, activation='softmax'), # softmax is used for classification\n",
    "    ])\n",
    "\n",
    "our_first_nn.summary()\n"
   ]
  },
  {
   "cell_type": "code",
   "execution_count": 1,
   "metadata": {
    "slideshow": {
     "slide_type": "slide"
    }
   },
   "outputs": [],
   "source": [
    "from sklearn.datasets import load_breast_cancer\n",
    "from sklearn.model_selection import train_test_split\n",
    "from sklearn.preprocessing import StandardScaler\n",
    "\n",
    "# Use the `load_breast_cancer` function to construct your dataset\n",
    "x, y = load_breast_cancer(return_X_y=True)\n",
    "\n",
    "# Use `train_test_split` to split your data into a train and a test set.\n",
    "x_train, x_test, y_train, y_test = train_test_split(x,\n",
    "                                                    y,\n",
    "                                                    test_size=0.2,\n",
    "                                                    random_state=42)\n",
    "\n",
    "scaler = StandardScaler()\n",
    "z_train = scaler.fit_transform(x_train)\n",
    "z_test = scaler.transform(x_test)"
   ]
  },
  {
   "cell_type": "code",
   "execution_count": 3,
   "metadata": {
    "slideshow": {
     "slide_type": "slide"
    }
   },
   "outputs": [
    {
     "name": "stdout",
     "output_type": "stream",
     "text": [
      "Epoch 1/5\n",
      "15/15 [==============================] - 0s 2ms/step - loss: 0.6528 - accuracy: 0.6176\n",
      "Epoch 2/5\n",
      "15/15 [==============================] - 0s 832us/step - loss: 0.4587 - accuracy: 0.8659\n",
      "Epoch 3/5\n",
      "15/15 [==============================] - 0s 587us/step - loss: 0.3622 - accuracy: 0.9275\n",
      "Epoch 4/5\n",
      "15/15 [==============================] - 0s 784us/step - loss: 0.3032 - accuracy: 0.9407\n",
      "Epoch 5/5\n",
      "15/15 [==============================] - 0s 1ms/step - loss: 0.2626 - accuracy: 0.9473\n",
      "4/4 [==============================] - 0s 0s/step - loss: 0.2291 - accuracy: 0.9474\n",
      "\n",
      "Out first neural network managed 94.74% accuracy.\n"
     ]
    }
   ],
   "source": [
    "our_first_nn.compile(\n",
    "    optimizer='sgd',\n",
    "    loss='sparse_categorical_crossentropy',\n",
    "    metrics=['accuracy'],\n",
    ")\n",
    "\n",
    "our_first_nn.fit(z_train, y_train, epochs=5)\n",
    "\n",
    "loss, accuracy = our_first_nn.evaluate(z_test, y_test)\n",
    "\n",
    "print(\n",
    "    f'\\nOut first neural network managed {round(accuracy * 100, 2)}% accuracy.'\n",
    ")"
   ]
  },
  {
   "cell_type": "markdown",
   "metadata": {
    "slideshow": {
     "slide_type": "slide"
    }
   },
   "source": [
    "## Exercise\n",
    "\n",
    "Time to get you started!\n",
    "\n",
    "1. Start by replicating the neural network in the slides (not the training - building it and using the method $\\texttt{.summary}$. You can see the number of parameters in each layer. Can you relate this to the number of features, the number of hidden nodes, and the number of output nodes?\n",
    "2. Do you believe the model has too many parameters? Too few? Try to change the number of parameters (in whichever direction you believe is best) and then train the model on the breast cancer data. Is your model better than the one in the slides? **Bonus**: try also to change the number of epochs you train for, as well as anything else you might want to experiment with.\n",
    "\n",
    "**Note**: The number of epochs is the number of times the neural network sees each observation. In the above example, each observation is shown 5 times.\n",
    "\n",
    "**Hint**: You may use the notebook I have uploaded under this lecture as a starting point ($\\texttt{exercise-nn-build.ipynb}$). It provides some of the code, and you then have to fill in the rest. You do not have to use it - it is there if you think it might be helpful!"
   ]
  },
  {
   "cell_type": "markdown",
   "metadata": {
    "slideshow": {
     "slide_type": "slide"
    }
   },
   "source": [
    "## Loss functions\n",
    "\n",
    "A loss function is basically any function that measures the performance of your model (where lower values are better). Hence, which loss function to choose depends on what kind of problem you are trying to solve!\n",
    "\n",
    "This may seem overwhelming: Which to choose? There are so many functions!\n",
    "\n",
    "In practice, howevever, the choice is simple. \n",
    "1. For classification: Use cross entropy. $l=-\\sum_{k}y_k ln(\\hat{y}_k)$.\n",
    "2. For regression: Use mean squared error. $l=(y-\\hat{y})^2$.\n",
    "\n",
    "Exceptions to these \"rules\" are rare."
   ]
  },
  {
   "cell_type": "markdown",
   "metadata": {
    "slideshow": {
     "slide_type": "slide"
    }
   },
   "source": [
    "## Optimizing a neural network\n",
    "\n",
    "So after making a prediction and using the target values to calculate the loss, how do we change the parameters of the network?\n",
    "\n",
    "We use **gradient descent**, specifically **stochastic gradient descent** (SGD). There are a few versions of this method, which is the **optimizer** you select, but they are all minor tweaks to SGD.\n",
    "\n",
    "**But what is SGD?** It is calculating the slope of a function based on some observations, and then \"going in the direction\" that lowers the loss (i.e. *descending* the loss \"mountain\"). Computed on a randomly selected subset of the data (a **batch**).\n",
    "\n",
    "We use something called **backpropagation** to calculate the slope of the function with respect to the parameters of the neural network and then change these parameters in the way our optimizer tells us to.\n",
    "\n",
    "It is not super difficult to calculate these derivatives by hand, but ***it is really tedious***. Luckily, TensorFlow (and any other decent framework) does everything for us."
   ]
  },
  {
   "cell_type": "markdown",
   "metadata": {
    "slideshow": {
     "slide_type": "slide"
    }
   },
   "source": [
    "## A function and its derivative...\n",
    "\n",
    "<img src=\"./graphics/derivative-1-var.png\" alt=\"Drawing\" style=\"width: 1000px;\"/>\n",
    "Source: \"DLWP\""
   ]
  },
  {
   "cell_type": "markdown",
   "metadata": {
    "slideshow": {
     "slide_type": "slide"
    }
   },
   "source": [
    "## ... and how we use it to find the optimum...\n",
    "\n",
    "<img src=\"./graphics/sgd-1-var.png\" alt=\"Drawing\" style=\"width: 1000px;\"/>\n",
    "Source: \"DLWP\""
   ]
  },
  {
   "cell_type": "markdown",
   "metadata": {
    "slideshow": {
     "slide_type": "slide"
    }
   },
   "source": [
    "## ... also in 2D\n",
    "\n",
    "<img src=\"./graphics/sgd-2-vars.png\" alt=\"Drawing\" style=\"width: 1000px;\"/>\n",
    "Source: \"DLWP\""
   ]
  },
  {
   "cell_type": "markdown",
   "metadata": {
    "slideshow": {
     "slide_type": "slide"
    }
   },
   "source": [
    "## Local and global minimum\n",
    "\n",
    "<img src=\"./graphics/local-and-global-minima.png\" alt=\"Drawing\" style=\"width: 1000px;\"/>\n",
    "Source: \"DLWP\""
   ]
  },
  {
   "cell_type": "markdown",
   "metadata": {
    "slideshow": {
     "slide_type": "slide"
    }
   },
   "source": [
    "## Optimizers\n",
    "\n",
    "The most important optimizers to know are:\n",
    "\n",
    "1. SGD including minor variations (specifically momentum and to a lesser degree weight decay and Nesterov  acceleration). Sometimes a bit difficult to \"get right\".\n",
    "1. Adam is the best \"out-of-the-box\" tool. Tends to work well, converge fast, and not require a lot of tuning. \n",
    "1. Adagrad is an optimizer that seeks to perform bigger updates for parameters that rarely gets updated, which in some settings is beneficial. \n",
    "1. Adadelta is a more \"robust\" version of Adagrad, which considers a \"window\" of sum of squares rather than the entire sequence. T\n",
    "1. RMSProp is similar in spirit to Adadelta, in that it keeps track of a running average of squared gradients which it uses to normalize its updates.\n",
    "\n",
    "The (or my) \"rule of thumb\": Use Adam. For best performance (at least in the field I am most familiar with), SGD (*with momentum*) tends to come out on top but is slightly more difficult to use than Adam. Hence, start with Adam, and maybe consider switching to SGD to squeeze out that little extra performance of your model. See https://www.tensorflow.org/api_docs/python/tf/keras/optimizers for an overview and for the optimizers' parameters."
   ]
  },
  {
   "cell_type": "markdown",
   "metadata": {
    "slideshow": {
     "slide_type": "slide"
    }
   },
   "source": [
    "## Optimizers\n",
    "\n",
    "For a good overview of the optimizers and how they work and how they are different (in simple terms), see, \n",
    "\n",
    "https://medium.com/konvergen/momentum-method-and-nesterov-accelerated-gradient-487ba776c987\n",
    "\n",
    "https://arxiv.org/pdf/1609.04747.pdf"
   ]
  },
  {
   "cell_type": "markdown",
   "metadata": {
    "slideshow": {
     "slide_type": "slide"
    }
   },
   "source": [
    "## The ADAM Optimizer\n",
    "\n",
    "<img src=\"./graphics/ADAM_Algorithm_flow.PNG\" alt=\"Drawing\" style=\"width: 800px;\"/>\n",
    "\n",
    "<h7>Source: \"KINGMA, Diederik P.; BA, Jimmy. Adam: A method for stochastic optimization\". arXiv preprint arXiv:1412.6980, 2014.\"</h7>\n",
    "``` \n",
    "tf.keras.optimizers.Adam(\n",
    "    learning_rate=0.001, \n",
    "    beta_1=0.9, beta_2=0.999, epsilon=1e-07, \n",
    "    amsgrad=False,name='Adam', **kwargs\n",
    ")\n",
    "```"
   ]
  },
  {
   "cell_type": "markdown",
   "metadata": {
    "slideshow": {
     "slide_type": "slide"
    }
   },
   "source": [
    "## Zooming in on the learning rate\n",
    "\n",
    "The learning rate controls how much the neural networks adjusts its parameters in a single step.\n",
    "\n",
    "A too high value may cause the parameters to rapidly change, making it difficult to converge.\n",
    "\n",
    "A too low value means that the network converges very slowly, and it is also more likely to get stuck in bad local minima.\n",
    "\n",
    "As such, finding the correct learning rate is quite important! This is a *hyperparameter*, and as such you can tune it similarly to how we have otherwise optimized our machine learning models.\n",
    "\n",
    "However, an important note is that **momentum** helps a lot! That is, it allows for convergence even if your learning rate may be slightly too high/low, it often allows for much faster convergence, and it helps avoiding local minima."
   ]
  },
  {
   "cell_type": "markdown",
   "metadata": {
    "slideshow": {
     "slide_type": "slide"
    }
   },
   "source": [
    "## Basic SGD\n",
    "\n",
    "<img src=\"./graphics/lr.gif\" alt=\"Drawing\" style=\"width: 1000px;\"/>\n",
    "Source: \"DLWP\""
   ]
  },
  {
   "cell_type": "markdown",
   "metadata": {
    "slideshow": {
     "slide_type": "slide"
    }
   },
   "source": [
    "## Now with momentum\n",
    "\n",
    "<img src=\"./graphics/lr-momentum.gif\" alt=\"Drawing\" style=\"width: 1000px;\"/>\n",
    "Source: \"DLWP\""
   ]
  },
  {
   "cell_type": "markdown",
   "metadata": {
    "slideshow": {
     "slide_type": "slide"
    }
   },
   "source": [
    "## Even helps with local minima!\n",
    "\n",
    "<img src=\"./graphics/lr-local-min.gif\" alt=\"Drawing\" style=\"width: 1000px;\"/>\n",
    "Source: \"DLWP\""
   ]
  },
  {
   "cell_type": "markdown",
   "metadata": {
    "slideshow": {
     "slide_type": "slide"
    }
   },
   "source": [
    "## Exercise\n",
    "\n",
    "Time to experiment with activation functions and optimizers! And now we're at it, let's use this as an introduction to regression using neural networks as well.\n",
    "\n",
    "1. Use the **fetch_california_housing** data (remember to split your data into a train and test data). Use the five optimizers presented in class to train five neural networks (identival aside from the optimizer used). How well does the networks perform on the test set, as measured by MSE and MAE? Rank the optimizers.\n",
    "1. Select the best optimizer and use it for this exercise. Experiment with different activation functions, including at least sigmoid, tanh, and relu. Rank the activation functions you try. \n",
    "1. Using your findings, as well as experimenting with more layers, try to minimize the test MSE.\n",
    "\n",
    "**Note**: You may want to use https://www.tensorflow.org/api_docs/python/tf/keras/activations and https://www.tensorflow.org/api_docs/python/tf/keras/optimizers.\n",
    "\n",
    "**Hint**: You may use the notebook I have uploaded under this lecture as a starting point (**exercise-nn-optimizers.ipynb**). It provides some of the code, and you then have to fill in the rest. You do not have to use it - it is there if you think it might be helpful!"
   ]
  },
  {
   "cell_type": "markdown",
   "metadata": {
    "slideshow": {
     "slide_type": "slide"
    }
   },
   "source": [
    "## Using $\\texttt{.add}$ to build networks\n",
    "\n",
    "Instead of wrapping everything inside $\\texttt{tf.keras.models.Sequential}$, we can instead start by initializing a model with $\\texttt{tf.keras.models.Sequential()}$ and then using $\\texttt{.add}$ to add layers to out model.\n",
    "\n",
    "Note that **add()** essentially is similar to the **append()** method of a Python list."
   ]
  },
  {
   "cell_type": "code",
   "execution_count": 4,
   "metadata": {
    "slideshow": {
     "slide_type": "slide"
    }
   },
   "outputs": [
    {
     "name": "stdout",
     "output_type": "stream",
     "text": [
      "Model: \"sequential_1\"\n",
      "_________________________________________________________________\n",
      " Layer (type)                Output Shape              Param #   \n",
      "=================================================================\n",
      " dense_3 (Dense)             (None, 64)                576       \n",
      "                                                                 \n",
      " dense_4 (Dense)             (None, 1)                 65        \n",
      "                                                                 \n",
      "=================================================================\n",
      "Total params: 641\n",
      "Trainable params: 641\n",
      "Non-trainable params: 0\n",
      "_________________________________________________________________\n"
     ]
    }
   ],
   "source": [
    "import tensorflow as tf\n",
    "\n",
    "model = tf.keras.models.Sequential()\n",
    "model.add(tf.keras.layers.Dense(64, activation='relu', input_shape=(8, )))\n",
    "model.add(tf.keras.layers.Dense(1, activation='linear'))\n",
    "\n",
    "model.summary()"
   ]
  },
  {
   "cell_type": "markdown",
   "metadata": {
    "slideshow": {
     "slide_type": "slide"
    }
   },
   "source": [
    "## Unstructured data\n",
    "\n",
    "So far, we have (almost) exclusively considered \"structured\" data, i.e. data we can easily represent in a table.\n",
    "\n",
    "However, a lot of data is more \"unstructured\".\n",
    "\n",
    "In the most simple cases, this may be in the form of time series/panel data, which is still quite easy to represent in a table.\n",
    "\n",
    "But more complex examples exists, such as images or even videos.\n",
    "\n",
    "Working with such unstructured data is something neural networks are **exceptionally** good at compared to more \"classical\" machine learning methods.\n",
    "\n",
    "We will cover this in detail during the lecture on convolutional and recurrent neural networks."
   ]
  },
  {
   "cell_type": "markdown",
   "metadata": {
    "slideshow": {
     "slide_type": "slide"
    }
   },
   "source": [
    "<img src=\"./graphics/timeseries-data.png\" alt=\"Drawing\" style=\"width: 1800px;\"/>\n",
    "Source: \"DLWP\""
   ]
  },
  {
   "cell_type": "markdown",
   "metadata": {
    "slideshow": {
     "slide_type": "slide"
    }
   },
   "source": [
    "<img src=\"./graphics/image-data.png\" alt=\"Drawing\" style=\"width: 1800px;\"/>\n",
    "Source: \"DLWP\""
   ]
  },
  {
   "cell_type": "markdown",
   "metadata": {
    "slideshow": {
     "slide_type": "slide"
    }
   },
   "source": [
    "## Training for \"too long\"\n",
    "\n",
    "When training neural networks, there is no clear indication of when \"to stop\". This is quite different from methods such as linear regression and decision trees, where there is a clear \"end point\" of training!\n",
    "\n",
    "This is since we *iteratively* update the parameters of the neural network. However, when do we \"stop\" this procedure? It depends on the problem, but the following are often the motivation for stopping:\n",
    "\n",
    "1. The *gradients* are approaching zero, and hence even though updates still occur, they are very small - in practice, nothing more is happening and we may as well stop. We can use the training data to track this.\n",
    "1. Training takes too long, and we simply train for as long as possible.\n",
    "1. **Most importantly**: Our neural network is beginning to *overfit*. Even though the *training* loss is decreasing, the *validation* loss is now increasing. We are past the \"sweetspot\" of the bias/variance tradeoff."
   ]
  },
  {
   "cell_type": "markdown",
   "metadata": {
    "slideshow": {
     "slide_type": "slide"
    }
   },
   "source": [
    "<img src=\"./graphics/train-val-loss-2.png\" alt=\"Drawing\" style=\"width: 1800px;\"/>\n",
    "Source: \"DLWP\""
   ]
  },
  {
   "cell_type": "markdown",
   "metadata": {
    "slideshow": {
     "slide_type": "slide"
    }
   },
   "source": [
    "<img src=\"./graphics/train-val-acc-2.png\" alt=\"Drawing\" style=\"width: 1800px;\"/>\n",
    "Source: \"DLWP\""
   ]
  },
  {
   "cell_type": "code",
   "execution_count": 6,
   "metadata": {
    "slideshow": {
     "slide_type": "slide"
    }
   },
   "outputs": [
    {
     "name": "stdout",
     "output_type": "stream",
     "text": [
      "(60000, 28, 28) (60000,) (10000, 28, 28) (10000,)\n"
     ]
    }
   ],
   "source": [
    "import tensorflow as tf\n",
    "from matplotlib import pyplot as plt\n",
    "\n",
    "(x_train, y_train), (x_test, y_test) = tf.keras.datasets.mnist.load_data()\n",
    "print(x_train.shape, y_train.shape, x_test.shape, y_test.shape)\n",
    "\n",
    "# A simply way to scale data. Remember pixels are in [0, 255] so this ensures [0, 1]\n",
    "x_train = x_train / 255\n",
    "x_test = x_test / 255\n",
    "\n",
    "model = tf.keras.models.Sequential([\n",
    "    tf.keras.layers.Flatten(input_shape=(28, 28)),\n",
    "    tf.keras.layers.Dense(256, activation='relu'),\n",
    "    tf.keras.layers.Dense(256, activation='relu'),\n",
    "    tf.keras.layers.Dense(10, activation='softmax'),\n",
    "])"
   ]
  },
  {
   "cell_type": "code",
   "execution_count": 7,
   "metadata": {
    "slideshow": {
     "slide_type": "slide"
    }
   },
   "outputs": [
    {
     "data": {
      "text/plain": [
       "<matplotlib.image.AxesImage at 0x2c4c1e4ebf0>"
      ]
     },
     "execution_count": 7,
     "metadata": {},
     "output_type": "execute_result"
    },
    {
     "data": {
      "image/png": "[encoded data removed]",
      "text/plain": [
       "<Figure size 1600x320 with 4 Axes>"
      ]
     },
     "metadata": {},
     "output_type": "display_data"
    }
   ],
   "source": [
    "# Check the images\n",
    "fig = plt.figure(figsize=plt.figaspect(0.2))\n",
    "\n",
    "ax = fig.add_subplot(1, 4, 1)\n",
    "plt.imshow(x_train[0], cmap='gray')\n",
    "\n",
    "ax = fig.add_subplot(1, 4, 2)\n",
    "plt.imshow(x_train[1], cmap='gray')\n",
    "\n",
    "ax = fig.add_subplot(1, 4, 3)\n",
    "plt.imshow(x_train[2], cmap='gray')\n",
    "\n",
    "ax = fig.add_subplot(1, 4, 4)\n",
    "plt.imshow(x_train[3], cmap='gray')"
   ]
  },
  {
   "cell_type": "code",
   "execution_count": 10,
   "metadata": {
    "slideshow": {
     "slide_type": "slide"
    }
   },
   "outputs": [
    {
     "name": "stdout",
     "output_type": "stream",
     "text": [
      "Epoch 1/50\n",
      "235/235 [==============================] - 1s 4ms/step - loss: 0.0143 - accuracy: 0.9950 - val_loss: 0.0866 - val_accuracy: 0.9785\n",
      "Epoch 2/50\n",
      "235/235 [==============================] - 1s 3ms/step - loss: 0.0113 - accuracy: 0.9965 - val_loss: 0.0796 - val_accuracy: 0.9798\n",
      "Epoch 3/50\n",
      "235/235 [==============================] - 1s 3ms/step - loss: 0.0098 - accuracy: 0.9965 - val_loss: 0.0785 - val_accuracy: 0.9806\n",
      "Epoch 4/50\n",
      "235/235 [==============================] - 1s 3ms/step - loss: 0.0097 - accuracy: 0.9968 - val_loss: 0.0867 - val_accuracy: 0.9774\n",
      "Epoch 5/50\n",
      "235/235 [==============================] - 1s 3ms/step - loss: 0.0087 - accuracy: 0.9972 - val_loss: 0.0945 - val_accuracy: 0.9785\n",
      "Epoch 6/50\n",
      "235/235 [==============================] - 1s 3ms/step - loss: 0.0072 - accuracy: 0.9977 - val_loss: 0.0803 - val_accuracy: 0.9807\n",
      "Epoch 7/50\n",
      "235/235 [==============================] - 1s 3ms/step - loss: 0.0040 - accuracy: 0.9989 - val_loss: 0.0929 - val_accuracy: 0.9795\n",
      "Epoch 8/50\n",
      "235/235 [==============================] - 1s 3ms/step - loss: 0.0097 - accuracy: 0.9967 - val_loss: 0.0845 - val_accuracy: 0.9807\n",
      "Epoch 9/50\n",
      "235/235 [==============================] - 1s 3ms/step - loss: 0.0046 - accuracy: 0.9986 - val_loss: 0.0896 - val_accuracy: 0.9811\n",
      "Epoch 10/50\n",
      "235/235 [==============================] - 1s 3ms/step - loss: 0.0023 - accuracy: 0.9993 - val_loss: 0.0967 - val_accuracy: 0.9802\n",
      "Epoch 11/50\n",
      "235/235 [==============================] - 1s 3ms/step - loss: 0.0033 - accuracy: 0.9990 - val_loss: 0.1020 - val_accuracy: 0.9809\n",
      "Epoch 12/50\n",
      "235/235 [==============================] - 1s 3ms/step - loss: 0.0102 - accuracy: 0.9964 - val_loss: 0.1219 - val_accuracy: 0.9747\n",
      "Epoch 13/50\n",
      "235/235 [==============================] - 1s 3ms/step - loss: 0.0091 - accuracy: 0.9969 - val_loss: 0.0991 - val_accuracy: 0.9800\n",
      "Epoch 14/50\n",
      "235/235 [==============================] - 1s 3ms/step - loss: 0.0062 - accuracy: 0.9979 - val_loss: 0.0908 - val_accuracy: 0.9817\n",
      "Epoch 15/50\n",
      "235/235 [==============================] - 1s 3ms/step - loss: 0.0061 - accuracy: 0.9980 - val_loss: 0.0975 - val_accuracy: 0.9807\n",
      "Epoch 16/50\n",
      "235/235 [==============================] - 1s 3ms/step - loss: 0.0019 - accuracy: 0.9994 - val_loss: 0.0943 - val_accuracy: 0.9810\n",
      "Epoch 17/50\n",
      "235/235 [==============================] - 1s 3ms/step - loss: 0.0021 - accuracy: 0.9994 - val_loss: 0.0923 - val_accuracy: 0.9830\n",
      "Epoch 18/50\n",
      "235/235 [==============================] - 1s 3ms/step - loss: 0.0010 - accuracy: 0.9997 - val_loss: 0.1184 - val_accuracy: 0.9790\n",
      "Epoch 19/50\n",
      "235/235 [==============================] - 1s 3ms/step - loss: 0.0044 - accuracy: 0.9985 - val_loss: 0.1162 - val_accuracy: 0.9800\n",
      "Epoch 20/50\n",
      "235/235 [==============================] - 1s 3ms/step - loss: 0.0124 - accuracy: 0.9956 - val_loss: 0.1226 - val_accuracy: 0.9759\n",
      "Epoch 21/50\n",
      "235/235 [==============================] - 1s 3ms/step - loss: 0.0061 - accuracy: 0.9979 - val_loss: 0.0935 - val_accuracy: 0.9802\n",
      "Epoch 22/50\n",
      "235/235 [==============================] - 1s 3ms/step - loss: 0.0025 - accuracy: 0.9992 - val_loss: 0.0926 - val_accuracy: 0.9829\n",
      "Epoch 23/50\n",
      "235/235 [==============================] - 1s 3ms/step - loss: 9.9554e-04 - accuracy: 0.9997 - val_loss: 0.0972 - val_accuracy: 0.9840\n",
      "Epoch 24/50\n",
      "235/235 [==============================] - 1s 3ms/step - loss: 0.0013 - accuracy: 0.9997 - val_loss: 0.1019 - val_accuracy: 0.9835\n",
      "Epoch 25/50\n",
      "235/235 [==============================] - 1s 3ms/step - loss: 0.0094 - accuracy: 0.9970 - val_loss: 0.1090 - val_accuracy: 0.9802\n",
      "Epoch 26/50\n",
      "235/235 [==============================] - 1s 3ms/step - loss: 0.0058 - accuracy: 0.9979 - val_loss: 0.1062 - val_accuracy: 0.9812\n",
      "Epoch 27/50\n",
      "235/235 [==============================] - 1s 3ms/step - loss: 0.0016 - accuracy: 0.9995 - val_loss: 0.0920 - val_accuracy: 0.9831\n",
      "Epoch 28/50\n",
      "235/235 [==============================] - 1s 3ms/step - loss: 3.7373e-04 - accuracy: 0.9999 - val_loss: 0.0920 - val_accuracy: 0.9846\n",
      "Epoch 29/50\n",
      "235/235 [==============================] - 1s 3ms/step - loss: 7.3699e-05 - accuracy: 1.0000 - val_loss: 0.0909 - val_accuracy: 0.9846\n",
      "Epoch 30/50\n",
      "235/235 [==============================] - 1s 3ms/step - loss: 3.7623e-05 - accuracy: 1.0000 - val_loss: 0.0916 - val_accuracy: 0.9849\n",
      "Epoch 31/50\n",
      "235/235 [==============================] - 1s 3ms/step - loss: 2.9794e-05 - accuracy: 1.0000 - val_loss: 0.0921 - val_accuracy: 0.9848\n",
      "Epoch 32/50\n",
      "235/235 [==============================] - 1s 3ms/step - loss: 2.4807e-05 - accuracy: 1.0000 - val_loss: 0.0927 - val_accuracy: 0.9849\n",
      "Epoch 33/50\n",
      "235/235 [==============================] - 1s 3ms/step - loss: 2.1262e-05 - accuracy: 1.0000 - val_loss: 0.0932 - val_accuracy: 0.9848\n",
      "Epoch 34/50\n",
      "235/235 [==============================] - 1s 3ms/step - loss: 1.8562e-05 - accuracy: 1.0000 - val_loss: 0.0938 - val_accuracy: 0.9846\n",
      "Epoch 35/50\n",
      "235/235 [==============================] - 1s 3ms/step - loss: 1.6258e-05 - accuracy: 1.0000 - val_loss: 0.0942 - val_accuracy: 0.9847\n",
      "Epoch 36/50\n",
      "235/235 [==============================] - 1s 3ms/step - loss: 1.4452e-05 - accuracy: 1.0000 - val_loss: 0.0949 - val_accuracy: 0.9845\n",
      "Epoch 37/50\n",
      "235/235 [==============================] - 1s 3ms/step - loss: 1.2692e-05 - accuracy: 1.0000 - val_loss: 0.0955 - val_accuracy: 0.9848\n",
      "Epoch 38/50\n",
      "235/235 [==============================] - 1s 3ms/step - loss: 1.1453e-05 - accuracy: 1.0000 - val_loss: 0.0961 - val_accuracy: 0.9847\n",
      "Epoch 39/50\n",
      "235/235 [==============================] - 1s 3ms/step - loss: 1.0109e-05 - accuracy: 1.0000 - val_loss: 0.0967 - val_accuracy: 0.9847\n",
      "Epoch 40/50\n",
      "235/235 [==============================] - 1s 3ms/step - loss: 9.1053e-06 - accuracy: 1.0000 - val_loss: 0.0972 - val_accuracy: 0.9845\n",
      "Epoch 41/50\n",
      "235/235 [==============================] - 1s 3ms/step - loss: 8.1133e-06 - accuracy: 1.0000 - val_loss: 0.0977 - val_accuracy: 0.9844\n",
      "Epoch 42/50\n",
      "235/235 [==============================] - 1s 3ms/step - loss: 7.3057e-06 - accuracy: 1.0000 - val_loss: 0.0983 - val_accuracy: 0.9846\n",
      "Epoch 43/50\n",
      "235/235 [==============================] - 1s 3ms/step - loss: 6.5275e-06 - accuracy: 1.0000 - val_loss: 0.0990 - val_accuracy: 0.9845\n",
      "Epoch 44/50\n",
      "235/235 [==============================] - 1s 3ms/step - loss: 5.8898e-06 - accuracy: 1.0000 - val_loss: 0.0996 - val_accuracy: 0.9845\n",
      "Epoch 45/50\n",
      "235/235 [==============================] - 1s 3ms/step - loss: 5.2628e-06 - accuracy: 1.0000 - val_loss: 0.1001 - val_accuracy: 0.9845\n",
      "Epoch 46/50\n",
      "235/235 [==============================] - 1s 3ms/step - loss: 4.7161e-06 - accuracy: 1.0000 - val_loss: 0.1009 - val_accuracy: 0.9844\n",
      "Epoch 47/50\n",
      "235/235 [==============================] - 1s 3ms/step - loss: 4.2051e-06 - accuracy: 1.0000 - val_loss: 0.1016 - val_accuracy: 0.9841\n",
      "Epoch 48/50\n",
      "235/235 [==============================] - 1s 3ms/step - loss: 3.8121e-06 - accuracy: 1.0000 - val_loss: 0.1021 - val_accuracy: 0.9844\n",
      "Epoch 49/50\n",
      "235/235 [==============================] - 1s 3ms/step - loss: 3.4049e-06 - accuracy: 1.0000 - val_loss: 0.1028 - val_accuracy: 0.9845\n",
      "Epoch 50/50\n",
      "235/235 [==============================] - 1s 3ms/step - loss: 3.0548e-06 - accuracy: 1.0000 - val_loss: 0.1033 - val_accuracy: 0.9844\n"
     ]
    }
   ],
   "source": [
    "model.compile(\n",
    "    loss=\n",
    "    'sparse_categorical_crossentropy',  #why sparse_categorical_crossentropy and not categorical_crossentropy\n",
    "    optimizer='adam',\n",
    "    metrics=['accuracy'],\n",
    ")\n",
    "history = model.fit(x_train,\n",
    "                    y_train,\n",
    "                    validation_data=(x_test, y_test),\n",
    "                    epochs=50,\n",
    "                    batch_size=256,\n",
    "                    verbose=1)"
   ]
  },
  {
   "cell_type": "code",
   "execution_count": 35,
   "metadata": {
    "slideshow": {
     "slide_type": "slide"
    }
   },
   "outputs": [
    {
     "data": {
      "image/png": "[encoded data removed]",
      "text/plain": [
       "<Figure size 1600x320 with 2 Axes>"
      ]
     },
     "metadata": {},
     "output_type": "display_data"
    }
   ],
   "source": [
    "from matplotlib import pyplot as plt\n",
    "\n",
    "fig = plt.figure(figsize=plt.figaspect(0.2))\n",
    "\n",
    "ax = fig.add_subplot(1, 2, 1)\n",
    "ax.plot(history.history['loss'], label='Training loss')\n",
    "ax.plot(history.history['val_loss'], label='Test loss')\n",
    "plt.xlabel('Epoch')\n",
    "plt.ylabel('Loss')\n",
    "plt.legend()\n",
    "\n",
    "ax = fig.add_subplot(1, 2, 2)\n",
    "ax.plot(history.history['accuracy'], label='Training accuracy')\n",
    "ax.plot(history.history['val_accuracy'], label='Test accuracy')\n",
    "plt.xlabel('Epoch')\n",
    "plt.ylabel('Accuracy')\n",
    "plt.legend()\n",
    "\n",
    "plt.show()"
   ]
  },
  {
   "cell_type": "markdown",
   "metadata": {
    "slideshow": {
     "slide_type": "slide"
    }
   },
   "source": [
    "## Exercise\n",
    "\n",
    "The most classical example to code in deep learning - the so-called \"Hello World\" of deep learning - is classification of images of digits: The MNIST dataset. This is very similar to the digits example from our first lecture, but the images are larger and we have more of them. So let's try to see what we can do!\n",
    "\n",
    "1. Use the $\\texttt{mnist}$ dataset (as just shown in the slides). Build a neural network using what we have explored so far and evaluate its performance on the test data.\n",
    "1. Explore whether your neural network appears to be under- or overfitting by constructing plots of the train and test losses and accuracies during training. Use this information to improve your model - that is, train for longer if it appears to be underfitting and shorter if it appears to be overfitting. Does your test performance improve? What about your train performance?\n",
    "1. (Bonus): Later during the semester, we will explore *convolutional neural networks*. For those of you finished with (1) and (2), you may try this now to improve your model; check https://www.tensorflow.org/api_docs/python/tf/keras/layers/Conv2D for details.\n",
    "\n",
    "**Hint**: You may use the notebook I have uploaded under this lecture as a starting point ($\\texttt{exercise-nn-mnist.ipynb}$). It provides some of the code, and you then have to fill in the rest. You do not have to use it - it is there if you think it might be helpful!"
   ]
  },
  {
   "cell_type": "markdown",
   "metadata": {
    "slideshow": {
     "slide_type": "slide"
    }
   },
   "source": [
    "## Fundamental steps/parameters to a successful neural network\n",
    "\n",
    "**Note**: This list is not exhaustive - we will \"add to it\" throughout the semester.\n",
    "\n",
    "1. Use appropriate data, including needed transformations (such as scaling).\n",
    "1. Use appropriate *architecture*, such as knowing when to use fully connected layers (what we have done today) and when to deviate (a focus of future lectures). Also some trivial choices are here, i.e. use \"good\" activation functions, output functions, etc., but it also includes considering the optimal width and depth of your network, which is not trivial.\n",
    "1. A proper loss function. In practice this is very easy - use cross entropy for classification, mean squared error for regression.\n",
    "1. Use a good optimzier and an appropriate learning rate, batch size, and number of epochs. In practice: Adam with default settings, maybe tuning the learning rate and/or batch size, and keeping track of validation loss while training to know when to stop.\n",
    "1. Make sure to balance bias and variance so as to neither under- nor overfit. How to do this? Something we will discuss in more detail later."
   ]
  },
  {
   "cell_type": "markdown",
   "metadata": {
    "slideshow": {
     "slide_type": "slide"
    }
   },
   "source": [
    "## Learning rate and batch size in code\n",
    "\n",
    "1. Setting learning rate: Define optimizer *outside* $\\texttt{.compile}$.\n",
    "1. Setting batch size: Parameter of $\\texttt{.fit}$.\n",
    "\n",
    "**Note**: There is a trade-off between learning rate and batch size, such that a higher batch size allows for the use of a larger learning rate."
   ]
  },
  {
   "cell_type": "code",
   "execution_count": 8,
   "metadata": {
    "slideshow": {
     "slide_type": "slide"
    }
   },
   "outputs": [
    {
     "name": "stdout",
     "output_type": "stream",
     "text": [
      "469/469 [==============================] - 2s 4ms/step - loss: 0.0050\n"
     ]
    },
    {
     "data": {
      "text/plain": [
       "<keras.callbacks.History at 0x1c4024189a0>"
      ]
     },
     "execution_count": 8,
     "metadata": {},
     "output_type": "execute_result"
    }
   ],
   "source": [
    "optimizer = tf.keras.optimizers.SGD(\n",
    "    learning_rate=0.01)  # similar syntax for Adam, RMSprop, etc.\n",
    "model.compile(\n",
    "    optimizer=optimizer,  # before we simply wrote \"sgd\", \"adam\", etc. here,\n",
    "    loss='sparse_categorical_crossentropy')\n",
    "model.fit(x_train, y_train, batch_size=128, verbose=1)\n",
    "# the batch size is now 128. Default is 32"
   ]
  },
  {
   "cell_type": "markdown",
   "metadata": {
    "slideshow": {
     "slide_type": "slide"
    }
   },
   "source": [
    "### Exercise\n",
    "\n",
    "1. Consider last exercise (i.e. the MNIST data). Suppose you are restricted to **training for only 2 epochs** but still want a good model. You recognize that finding the right learning rate is going to be very important. For this reason, you split your training data into a train and a validation set and use the validation set to find the optimal learning rate. Train a model with you optimized learning rate and evaluate it on your test data.\n",
    "1. Recognizing that the batch size is also important for training speed, you decide to extend your above analysis to also find the optimal batch size. Once again, train a model with you optimized learning rate *and* batch size and evaluate it on your test data.\n",
    "1. You have heard that momentum is important. You know that many optimizers already incorporate momentum by default, but you are now forced by your evil teacher to use SGD and otherwise repeat (1) and (2). You decide to extend your above analysis to also find the optimal momentum for SGD (see https://www.tensorflow.org/api_docs/python/tf/keras/optimizers/SGD for how to set it). Once again, train a model with you optimized learning rate, batch size, *and* momentum and evaluate it on your test data.\n",
    "\n",
    "**Hint**: You may use the notebook I have uploaded under this lecture as a starting point ($\\texttt{exercise-nn-lr.ipynb}$). "
   ]
  },
  {
   "cell_type": "markdown",
   "metadata": {
    "slideshow": {
     "slide_type": "slide"
    }
   },
   "source": [
    "## Practicalities of using neural networks\n",
    "\n",
    "Now, some important practical stuff. Neural networks tend to take a long time to train, so being able to save and load them is important.\n",
    "\n",
    "This is also helpful if we train for a bit, then take a break, and then want to resume training later. We can simply save the model after the first training, and then load it back when we want to resume.\n",
    "\n",
    "Further, as we have already looked intro briefly, keeping track of how they do *while* they are training is important (i.e. keeping track of how the training and validation losses and potentially other metrics change during training)."
   ]
  },
  {
   "cell_type": "markdown",
   "metadata": {
    "slideshow": {
     "slide_type": "slide"
    }
   },
   "source": [
    "## Saving and loading a model\n",
    "\n",
    "See https://www.tensorflow.org/guide/keras/save_and_serialize for more details."
   ]
  },
  {
   "cell_type": "code",
   "execution_count": 12,
   "metadata": {
    "slideshow": {
     "slide_type": "slide"
    }
   },
   "outputs": [
    {
     "name": "stdout",
     "output_type": "stream",
     "text": [
      "INFO:tensorflow:Assets written to: my_model\\assets\n"
     ]
    }
   ],
   "source": [
    "import tensorflow as tf\n",
    "\n",
    "model = tf.keras.models.Sequential([\n",
    "    tf.keras.layers.Flatten(input_shape=(28, 28)),\n",
    "    tf.keras.layers.Dense(32, activation='relu'),\n",
    "    tf.keras.layers.Dense(10, activation='softmax'),\n",
    "])\n",
    "\n",
    "model.compile(\n",
    "    loss='sparse_categorical_crossentropy',\n",
    "    optimizer='adam',\n",
    "    metrics=['accuracy'],\n",
    ")\n",
    "\n",
    "model.save('my_model')\n",
    "\n",
    "model_reloaded = tf.keras.models.load_model('my_model')"
   ]
  },
  {
   "cell_type": "code",
   "execution_count": 13,
   "metadata": {
    "slideshow": {
     "slide_type": "slide"
    }
   },
   "outputs": [
    {
     "name": "stdout",
     "output_type": "stream",
     "text": [
      "Model: \"sequential_3\"\n",
      "_________________________________________________________________\n",
      " Layer (type)                Output Shape              Param #   \n",
      "=================================================================\n",
      " flatten_2 (Flatten)         (None, 784)               0         \n",
      "                                                                 \n",
      " dense_9 (Dense)             (None, 32)                25120     \n",
      "                                                                 \n",
      " dense_10 (Dense)            (None, 10)                330       \n",
      "                                                                 \n",
      "=================================================================\n",
      "Total params: 25,450\n",
      "Trainable params: 25,450\n",
      "Non-trainable params: 0\n",
      "_________________________________________________________________\n",
      "Model: \"sequential_3\"\n",
      "_________________________________________________________________\n",
      " Layer (type)                Output Shape              Param #   \n",
      "=================================================================\n",
      " flatten_2 (Flatten)         (None, 784)               0         \n",
      "                                                                 \n",
      " dense_9 (Dense)             (None, 32)                25120     \n",
      "                                                                 \n",
      " dense_10 (Dense)            (None, 10)                330       \n",
      "                                                                 \n",
      "=================================================================\n",
      "Total params: 25,450\n",
      "Trainable params: 25,450\n",
      "Non-trainable params: 0\n",
      "_________________________________________________________________\n"
     ]
    }
   ],
   "source": [
    "model.summary()\n",
    "model_reloaded.summary()"
   ]
  },
  {
   "cell_type": "markdown",
   "metadata": {
    "slideshow": {
     "slide_type": "slide"
    }
   },
   "source": [
    "## Using TensorBoard\n",
    "\n",
    "A really cool (and super helpful) tool to learn is **TensorBoard**. It helps you keep track of metrics (such as losses and accuracies) while training, visualize your neural networks in a cool (and helpful) way, and tons of other things.\n",
    "\n",
    "Learning to use TensorBoard is a huge help in quickly developing and improving neural networks. It can run *while* you are training, and in that way allows you to tune stuff *even while training*.\n",
    "\n",
    "Now, as long as your model/data is quite small and training is very fast, these techniques are not crucial. However, when you are training models that take multiple days or even weeks, making sure everything is proceeding as planned during training is important if you don't want to potentially waste weeks of work!\n",
    "\n",
    "You can run TensorBoard from the command line or alternatively using Python \"magic commands\".\n",
    "\n",
    "See https://www.tensorflow.org/tensorboard/get_started and https://www.tensorflow.org/tensorboard/tensorboard_in_notebooks for more details."
   ]
  },
  {
   "cell_type": "code",
   "execution_count": 14,
   "metadata": {
    "slideshow": {
     "slide_type": "slide"
    }
   },
   "outputs": [
    {
     "name": "stdout",
     "output_type": "stream",
     "text": [
      "Downloading data from https://storage.googleapis.com/tensorflow/tf-keras-datasets/train-labels-idx1-ubyte.gz\n"
     ]
    },
    {
     "name": "stdout",
     "output_type": "stream",
     "text": [
      "29515/29515 [==============================] - 0s 1us/step\n",
      "Downloading data from https://storage.googleapis.com/tensorflow/tf-keras-datasets/train-images-idx3-ubyte.gz\n",
      "26421880/26421880 [==============================] - 4s 0us/step\n",
      "Downloading data from https://storage.googleapis.com/tensorflow/tf-keras-datasets/t10k-labels-idx1-ubyte.gz\n",
      "5148/5148 [==============================] - 0s 0s/step\n",
      "Downloading data from https://storage.googleapis.com/tensorflow/tf-keras-datasets/t10k-images-idx3-ubyte.gz\n",
      "4422102/4422102 [==============================] - 1s 0us/step\n",
      "Epoch 1/10\n",
      "1875/1875 [==============================] - 2s 1ms/step - loss: 0.5360 - accuracy: 0.8120 - val_loss: 0.4621 - val_accuracy: 0.8290\n",
      "Epoch 2/10\n",
      "1875/1875 [==============================] - 2s 941us/step - loss: 0.3989 - accuracy: 0.8541 - val_loss: 0.4187 - val_accuracy: 0.8427\n",
      "Epoch 3/10\n",
      "1875/1875 [==============================] - 2s 918us/step - loss: 0.3641 - accuracy: 0.8655 - val_loss: 0.3871 - val_accuracy: 0.8599\n",
      "Epoch 4/10\n",
      "1875/1875 [==============================] - 2s 947us/step - loss: 0.3429 - accuracy: 0.8729 - val_loss: 0.3788 - val_accuracy: 0.8603\n",
      "Epoch 5/10\n",
      "1875/1875 [==============================] - 2s 923us/step - loss: 0.3261 - accuracy: 0.8795 - val_loss: 0.3667 - val_accuracy: 0.8673\n",
      "Epoch 6/10\n",
      "1875/1875 [==============================] - 2s 952us/step - loss: 0.3133 - accuracy: 0.8840 - val_loss: 0.3671 - val_accuracy: 0.8658\n",
      "Epoch 7/10\n",
      "1875/1875 [==============================] - 2s 947us/step - loss: 0.3039 - accuracy: 0.8864 - val_loss: 0.3614 - val_accuracy: 0.8703\n",
      "Epoch 8/10\n",
      "1875/1875 [==============================] - 2s 922us/step - loss: 0.2941 - accuracy: 0.8897 - val_loss: 0.3869 - val_accuracy: 0.8617\n",
      "Epoch 9/10\n",
      "1875/1875 [==============================] - 2s 939us/step - loss: 0.2862 - accuracy: 0.8931 - val_loss: 0.3540 - val_accuracy: 0.8734\n",
      "Epoch 10/10\n",
      "1875/1875 [==============================] - 2s 934us/step - loss: 0.2803 - accuracy: 0.8944 - val_loss: 0.3566 - val_accuracy: 0.8742\n"
     ]
    },
    {
     "data": {
      "text/plain": [
       "<keras.callbacks.History at 0x2c4c20e15a0>"
      ]
     },
     "execution_count": 14,
     "metadata": {},
     "output_type": "execute_result"
    }
   ],
   "source": [
    "import tensorflow as tf\n",
    "import datetime\n",
    "(x_train, y_train), (x_test,\n",
    "                     y_test) = tf.keras.datasets.fashion_mnist.load_data()\n",
    "x_train, x_test = x_train / 255.0, x_test / 255.0\n",
    "\n",
    "model = tf.keras.models.Sequential([\n",
    "    tf.keras.layers.Flatten(input_shape=(28, 28)),\n",
    "    tf.keras.layers.Dense(32, activation='relu'),\n",
    "    tf.keras.layers.Dense(64, activation='relu'),\n",
    "    tf.keras.layers.Dense(10, activation='softmax'),\n",
    "])\n",
    "model.compile(\n",
    "    loss='sparse_categorical_crossentropy',\n",
    "    optimizer='adam',\n",
    "    metrics=['accuracy'],\n",
    ")\n",
    "log_dir = \"logs/\" + datetime.datetime.now().strftime(\"%Y%m%d-%H%M%S\")\n",
    "tensorboard_callback = tf.keras.callbacks.TensorBoard(log_dir,\n",
    "                                                      histogram_freq=1)\n",
    "\n",
    "model.fit(x_train,\n",
    "          y_train,\n",
    "          epochs=10,\n",
    "          validation_data=(x_test, y_test),\n",
    "          callbacks=[tensorboard_callback])"
   ]
  },
  {
   "cell_type": "code",
   "execution_count": null,
   "metadata": {
    "slideshow": {
     "slide_type": "skip"
    }
   },
   "outputs": [],
   "source": [
    "%env TENSORBOARD_BINARY=c:/users/cmd/appdata/roaming/python/python310/site-packages"
   ]
  },
  {
   "cell_type": "code",
   "execution_count": null,
   "metadata": {
    "slideshow": {
     "slide_type": "skip"
    }
   },
   "outputs": [],
   "source": [
    "# this (starting with %) is called a \"magic command\"\n",
    "%load_ext tensorboard"
   ]
  },
  {
   "cell_type": "code",
   "execution_count": null,
   "metadata": {
    "slideshow": {
     "slide_type": "skip"
    }
   },
   "outputs": [],
   "source": [
    "#%tensorboard --logdir log_dir --port 1234\n",
    "%tensorboard --logdir 'logs/20221007-101552' --port 1234 "
   ]
  },
  {
   "cell_type": "markdown",
   "metadata": {
    "slideshow": {
     "slide_type": "slide"
    }
   },
   "source": [
    "## Exercise\n",
    "\n",
    "1. Use the **fashion_mnist** dataset (classification of images of cloths). Train a neural network to classify the images, **training only for 2 epochs**. Evaluate its performance. Now save it. Reload it (with a new name) and perform evaluation again (to check it is the same). Train the reloaded model for 2 epochs. Evaluate. See how its performance is better now - this is since it has trained for 4 total epochs now.\n",
    "1. Train a model aiming at as good performance as possible, using a combination of what we have covered so far in class, optimization of hyperparameters (remember to use a validation set), and any other ideas you have. Track the performance of your final model using TensorBoard.\n",
    "\n",
    "**Hint**: You may use the notebook I have uploaded under this lecture as a starting point ($\\texttt{exercise-nn-saveload.ipynb}$). It provides some of the code, and you then have to fill in the rest. You do not have to use it - it is there if you think it might be helpful!"
   ]
  },
  {
   "cell_type": "markdown",
   "metadata": {
    "slideshow": {
     "slide_type": "slide"
    }
   },
   "source": [
    "## Some \"rule-of-thumbs\" and good defaults\n",
    "\n",
    "We've covered a lot of stuff, and the number of parameters can easily seem overwhelming. Luckily, there are some empirically validated \"good choices\" for a lot of the parameters. Let's discuss some of those!\n",
    "\n",
    "1. Activations: ReLU in hidden layers. Output layer: Softmax for classification, linear for regression.\n",
    "1. Optimizers: Adam with default settings, perhaps tuning the learning rate.\n",
    "1. Loss functions: Cross entropy for classification, mean squared error for regression.\n",
    "1. Scaling/data prep: Almost always crucial to scale features. Occasionally target for regression problems.\n",
    "1. Batch size: 32 (default) tends to work, but it may be slow. To speed up training, one often scales up the batch size as far as your computer can. In these cases, using an increased learning rate is recommended. However, batch sizes can become \"too large\" so do not go crazy."
   ]
  },
  {
   "cell_type": "markdown",
   "metadata": {
    "slideshow": {
     "slide_type": "slide"
    }
   },
   "source": [
    "## Advantages and disadvantages of NNs\n",
    "\n",
    "Advantages\n",
    "\n",
    "1. Neural networks can model just about everything, including associations that DTs and SVMs may have trouble modelling.\n",
    "1. They work well on both structured and unstructured data.\n",
    "1. Achieves SOTA for a large range of problems, especially when data size is large and/or when data is unstructured.\n",
    "\n",
    "Disadvantages\n",
    "\n",
    "1. Even though neural networks can in theory model nearly everything, actually reaching this state is nontrivial.\n",
    "1. Neural networks are difficult to interpret (\"black boxes\").\n",
    "1. Neural networks are prone to overfit (but ways to combat this).\n",
    "1. Neural networks are somewhat difficult to use."
   ]
  },
  {
   "cell_type": "markdown",
   "metadata": {
    "slideshow": {
     "slide_type": "slide"
    }
   },
   "source": [
    "## Summary and looking ahead\n",
    "\n",
    "In this/these lectures we:\n",
    "\n",
    "1. Used neural networks to solve classification and regression problems using Python.\n",
    "1. Discussed the general structure of neural networks and which choices are generally \"good\".\n",
    "1. Discussed optimization of neural networks, including optimizers, learning rates, batch sizes, and more.\n",
    "1. Learned to save and load neural networks and how to use TensorBoard.\n",
    "\n",
    "Great! What's next?\n",
    "\n",
    "We'll move on to various tricks to better train neural networks, including combating overfitting and speeding up training. These techniques will prove crucial to obtain good performance."
   ]
  }
 ],
 "metadata": {
  "celltoolbar": "Slideshow",
  "kernelspec": {
   "display_name": "Python 3",
   "language": "python",
   "name": "python3"
  },
  "language_info": {
   "codemirror_mode": {
    "name": "ipython",
    "version": 3
   },
   "file_extension": ".py",
   "mimetype": "text/x-python",
   "name": "python",
   "nbconvert_exporter": "python",
   "pygments_lexer": "ipython3",
   "version": "3.10.9"
  },
  "vscode": {
   "interpreter": {
    "hash": "d3cedec8935a2c28d6fd602c3007747750e2af1c4c937c29fac0d323bf1b544b"
   }
  }
 },
 "nbformat": 4,
 "nbformat_minor": 4
}
