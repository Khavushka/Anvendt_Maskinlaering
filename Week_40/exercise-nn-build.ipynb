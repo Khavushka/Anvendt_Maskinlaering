{
 "cells": [
  {
   "cell_type": "markdown",
   "metadata": {},
   "source": [
    "# Exercise - building neural networks using TensorFlow\n",
    "\n",
    "1. Start by replicating the neural network in the slides (not the training - building it and using the method $\\texttt{.summary}$. You can see the number of parameters in each layer. Can you relate this to the number of features, the number of hidden nodes, and the number of output nodes?\n",
    "2. Do you believe the model has too many parameters? Too few? Try to change the number of parameters (in whichever direction you believe is best) and then train the model on the breast cancer data. Is your model better than the one in the slides? **Bonus**: try also to change the number of epochs you train for, as well as anything else you might want to experiment with.\n",
    "\n",
    "**Note**: The number of epochs is the number of times the neural network sees each observation. In the above example, each observation is shown 5 times.\n",
    "\n",
    "**See slides for more details!**"
   ]
  },
  {
   "cell_type": "markdown",
   "metadata": {},
   "source": [
    "# Exercise 1\n",
    "\n",
    "Start by replicating the neural network in the slides (not the training - building it and using the method $\\texttt{.summary}$. You can see the number of parameters in each layer. Can you relate this to the number of features, the number of hidden nodes, and the number of output nodes?"
   ]
  },
  {
   "cell_type": "code",
   "execution_count": 1,
   "metadata": {},
   "outputs": [
    {
     "name": "stdout",
     "output_type": "stream",
     "text": [
      "Model: \"sequential\"\n",
      "_________________________________________________________________\n",
      " Layer (type)                Output Shape              Param #   \n",
      "=================================================================\n",
      " dense (Dense)               (None, 64)                1984      \n",
      "                                                                 \n",
      " dense_1 (Dense)             (None, 128)               8320      \n",
      "                                                                 \n",
      " dense_2 (Dense)             (None, 2)                 258       \n",
      "                                                                 \n",
      "=================================================================\n",
      "Total params: 10562 (41.26 KB)\n",
      "Trainable params: 10562 (41.26 KB)\n",
      "Non-trainable params: 0 (0.00 Byte)\n",
      "_________________________________________________________________\n"
     ]
    }
   ],
   "source": [
    "import tensorflow as tf\n",
    "\n",
    "my_nn = tf.keras.models.Sequential([\n",
    "    tf.keras.layers.Dense(64, activation='relu', input_shape=(30,)), # input shape required in the first layer\n",
    "    tf.keras.layers.Dense(128, activation='relu'), # map 64 to 128 features and apply ReLU\n",
    "    tf.keras.layers.Dense(2, activation='softmax'), # softmax is used for classification\n",
    "    ])\n",
    "\n",
    "my_nn.summary()"
   ]
  },
  {
   "cell_type": "markdown",
   "metadata": {},
   "source": [
    "# Exercise 2\n",
    "\n",
    "Do you believe the model has too many parameters? Too few? Try to change the number of parameters (in whichever direction you believe is best) and then train the model on the breast cancer data. Is your model better than the one in the slides? **Bonus**: try also to change the number of epochs you train for, as well as anything else you might want to experiment with."
   ]
  },
  {
   "cell_type": "code",
   "execution_count": 2,
   "metadata": {},
   "outputs": [],
   "source": [
    "from sklearn.datasets import load_breast_cancer\n",
    "from sklearn.model_selection import train_test_split\n",
    "from sklearn.preprocessing import StandardScaler\n",
    "\n",
    "# Use the `load_breast_cancer` function to construct your dataset\n",
    "x, y = load_breast_cancer(return_X_y=True)\n",
    "\n",
    "# Use `train_test_split` to split your data into a train and a test set.\n",
    "x_train, x_test, y_train, y_test = train_test_split(x, y, test_size=0.2, random_state=42)\n",
    "\n",
    "scaler = StandardScaler()\n",
    "z_train = scaler.fit_transform(x_train)\n",
    "z_test = scaler.transform(x_test)"
   ]
  },
  {
   "cell_type": "code",
   "execution_count": 3,
   "metadata": {},
   "outputs": [
    {
     "name": "stdout",
     "output_type": "stream",
     "text": [
      "Model: \"sequential_1\"\n",
      "_________________________________________________________________\n",
      " Layer (type)                Output Shape              Param #   \n",
      "=================================================================\n",
      " dense_3 (Dense)             (None, 64)                1984      \n",
      "                                                                 \n",
      " dense_4 (Dense)             (None, 128)               8320      \n",
      "                                                                 \n",
      " dense_5 (Dense)             (None, 128)               16512     \n",
      "                                                                 \n",
      " dense_6 (Dense)             (None, 64)                8256      \n",
      "                                                                 \n",
      " dense_7 (Dense)             (None, 2)                 130       \n",
      "                                                                 \n",
      "=================================================================\n",
      "Total params: 35202 (137.51 KB)\n",
      "Trainable params: 35202 (137.51 KB)\n",
      "Non-trainable params: 0 (0.00 Byte)\n",
      "_________________________________________________________________\n"
     ]
    }
   ],
   "source": [
    "# Build your own, new neural network here\n",
    "import tensorflow as tf\n",
    "first = tf.keras.models.Sequential([\n",
    "    tf.keras.layers.Dense(64, activation='relu', input_shape=(30,)), # input shape required in the first layer\n",
    "    tf.keras.layers.Dense(128, activation='relu'), # map 64 to 128 features and apply ReLU\n",
    "    tf.keras.layers.Dense(128, activation='relu'), # map 128 to 128 features and apply ReLU\n",
    "    tf.keras.layers.Dense(64, activation='relu'), # map 128 to 64 features and apply ReLU\n",
    "    tf.keras.layers.Dense(2, activation='softmax'), # softmax is used for classification\n",
    "    ])\n",
    "first.summary()"
   ]
  },
  {
   "cell_type": "code",
   "execution_count": 4,
   "metadata": {},
   "outputs": [
    {
     "name": "stdout",
     "output_type": "stream",
     "text": [
      "Epoch 1/5\n",
      "15/15 [==============================] - 4s 13ms/step - loss: 0.5707 - accuracy: 0.8440\n",
      "Epoch 2/5\n",
      "15/15 [==============================] - 0s 10ms/step - loss: 0.4699 - accuracy: 0.8923\n",
      "Epoch 3/5\n",
      "15/15 [==============================] - 0s 13ms/step - loss: 0.3923 - accuracy: 0.9121\n",
      "Epoch 4/5\n",
      "15/15 [==============================] - 0s 8ms/step - loss: 0.3317 - accuracy: 0.9231\n",
      "Epoch 5/5\n",
      "15/15 [==============================] - 0s 9ms/step - loss: 0.2862 - accuracy: 0.9341\n",
      "4/4 [==============================] - 2s 15ms/step - loss: 0.2478 - accuracy: 0.9386\n",
      "\n",
      "Out first neural network managed 93.86% accuracy.\n"
     ]
    }
   ],
   "source": [
    "# Compile it, train it, and evaluate it\n",
    "first.compile(\n",
    "    optimizer='sgd',\n",
    "    loss='sparse_categorical_crossentropy',\n",
    "    metrics=['accuracy'],\n",
    "    )\n",
    "first.fit(z_train,y_train,epochs=5)\n",
    "\n",
    "loss, accuracy = first.evaluate(z_test, y_test)\n",
    "\n",
    "print(f'\\nOut first neural network managed {round(accuracy * 100, 2)}% accuracy.')"
   ]
  },
  {
   "cell_type": "code",
   "execution_count": 5,
   "metadata": {},
   "outputs": [
    {
     "name": "stdout",
     "output_type": "stream",
     "text": [
      "Epoch 1/50\n",
      "15/15 [==============================] - 8s 13ms/step - loss: 0.1652 - accuracy: 0.9538\n",
      "Epoch 2/50\n",
      "15/15 [==============================] - 0s 13ms/step - loss: 0.0780 - accuracy: 0.9692\n",
      "Epoch 3/50\n",
      "15/15 [==============================] - 0s 11ms/step - loss: 0.0513 - accuracy: 0.9824\n",
      "Epoch 4/50\n",
      "15/15 [==============================] - 0s 10ms/step - loss: 0.0382 - accuracy: 0.9934\n",
      "Epoch 5/50\n",
      "15/15 [==============================] - 0s 12ms/step - loss: 0.0313 - accuracy: 0.9890\n",
      "Epoch 6/50\n",
      "15/15 [==============================] - 0s 11ms/step - loss: 0.0236 - accuracy: 0.9934\n",
      "Epoch 7/50\n",
      "15/15 [==============================] - 0s 8ms/step - loss: 0.0160 - accuracy: 0.9956\n",
      "Epoch 8/50\n",
      "15/15 [==============================] - 0s 8ms/step - loss: 0.0208 - accuracy: 0.9956\n",
      "Epoch 9/50\n",
      "15/15 [==============================] - 0s 10ms/step - loss: 0.0240 - accuracy: 0.9912\n",
      "Epoch 10/50\n",
      "15/15 [==============================] - 0s 11ms/step - loss: 0.0104 - accuracy: 0.9978\n",
      "Epoch 11/50\n",
      "15/15 [==============================] - 0s 9ms/step - loss: 0.0059 - accuracy: 0.9978\n",
      "Epoch 12/50\n",
      "15/15 [==============================] - 0s 14ms/step - loss: 0.0029 - accuracy: 1.0000\n",
      "Epoch 13/50\n",
      "15/15 [==============================] - 0s 11ms/step - loss: 0.0022 - accuracy: 1.0000\n",
      "Epoch 14/50\n",
      "15/15 [==============================] - 0s 11ms/step - loss: 0.0014 - accuracy: 1.0000\n",
      "Epoch 15/50\n",
      "15/15 [==============================] - 0s 13ms/step - loss: 0.0011 - accuracy: 1.0000\n",
      "Epoch 16/50\n",
      "15/15 [==============================] - 0s 10ms/step - loss: 8.7087e-04 - accuracy: 1.0000\n",
      "Epoch 17/50\n",
      "15/15 [==============================] - 0s 9ms/step - loss: 7.2738e-04 - accuracy: 1.0000\n",
      "Epoch 18/50\n",
      "15/15 [==============================] - 0s 9ms/step - loss: 6.2571e-04 - accuracy: 1.0000\n",
      "Epoch 19/50\n",
      "15/15 [==============================] - 0s 10ms/step - loss: 5.1585e-04 - accuracy: 1.0000\n",
      "Epoch 20/50\n",
      "15/15 [==============================] - 0s 10ms/step - loss: 4.5303e-04 - accuracy: 1.0000\n",
      "Epoch 21/50\n",
      "15/15 [==============================] - 0s 12ms/step - loss: 3.8818e-04 - accuracy: 1.0000\n",
      "Epoch 22/50\n",
      "15/15 [==============================] - 0s 12ms/step - loss: 3.3883e-04 - accuracy: 1.0000\n",
      "Epoch 23/50\n",
      "15/15 [==============================] - 0s 9ms/step - loss: 3.0021e-04 - accuracy: 1.0000\n",
      "Epoch 24/50\n",
      "15/15 [==============================] - 0s 9ms/step - loss: 2.7065e-04 - accuracy: 1.0000\n",
      "Epoch 25/50\n",
      "15/15 [==============================] - 0s 8ms/step - loss: 2.3566e-04 - accuracy: 1.0000\n",
      "Epoch 26/50\n",
      "15/15 [==============================] - 0s 11ms/step - loss: 2.1338e-04 - accuracy: 1.0000\n",
      "Epoch 27/50\n",
      "15/15 [==============================] - 0s 13ms/step - loss: 1.9496e-04 - accuracy: 1.0000\n",
      "Epoch 28/50\n",
      "15/15 [==============================] - 0s 8ms/step - loss: 1.7497e-04 - accuracy: 1.0000\n",
      "Epoch 29/50\n",
      "15/15 [==============================] - 0s 9ms/step - loss: 1.5929e-04 - accuracy: 1.0000\n",
      "Epoch 30/50\n",
      "15/15 [==============================] - 0s 9ms/step - loss: 1.4504e-04 - accuracy: 1.0000\n",
      "Epoch 31/50\n",
      "15/15 [==============================] - 0s 10ms/step - loss: 1.3639e-04 - accuracy: 1.0000\n",
      "Epoch 32/50\n",
      "15/15 [==============================] - 0s 12ms/step - loss: 1.2273e-04 - accuracy: 1.0000\n",
      "Epoch 33/50\n",
      "15/15 [==============================] - 0s 11ms/step - loss: 1.1342e-04 - accuracy: 1.0000\n",
      "Epoch 34/50\n",
      "15/15 [==============================] - 0s 9ms/step - loss: 1.0413e-04 - accuracy: 1.0000\n",
      "Epoch 35/50\n",
      "15/15 [==============================] - 0s 9ms/step - loss: 9.6808e-05 - accuracy: 1.0000\n",
      "Epoch 36/50\n",
      "15/15 [==============================] - 0s 10ms/step - loss: 9.2960e-05 - accuracy: 1.0000\n",
      "Epoch 37/50\n",
      "15/15 [==============================] - 0s 13ms/step - loss: 8.5440e-05 - accuracy: 1.0000\n",
      "Epoch 38/50\n",
      "15/15 [==============================] - 0s 12ms/step - loss: 7.8039e-05 - accuracy: 1.0000\n",
      "Epoch 39/50\n",
      "15/15 [==============================] - 0s 11ms/step - loss: 7.2360e-05 - accuracy: 1.0000\n",
      "Epoch 40/50\n",
      "15/15 [==============================] - 0s 10ms/step - loss: 6.7332e-05 - accuracy: 1.0000\n",
      "Epoch 41/50\n",
      "15/15 [==============================] - 0s 9ms/step - loss: 6.3259e-05 - accuracy: 1.0000\n",
      "Epoch 42/50\n",
      "15/15 [==============================] - 0s 10ms/step - loss: 5.9837e-05 - accuracy: 1.0000\n",
      "Epoch 43/50\n",
      "15/15 [==============================] - 0s 11ms/step - loss: 5.5952e-05 - accuracy: 1.0000\n",
      "Epoch 44/50\n",
      "15/15 [==============================] - 0s 10ms/step - loss: 5.3547e-05 - accuracy: 1.0000\n",
      "Epoch 45/50\n",
      "15/15 [==============================] - 0s 11ms/step - loss: 4.9919e-05 - accuracy: 1.0000\n",
      "Epoch 46/50\n",
      "15/15 [==============================] - 0s 9ms/step - loss: 4.7605e-05 - accuracy: 1.0000\n",
      "Epoch 47/50\n",
      "15/15 [==============================] - 0s 13ms/step - loss: 4.5727e-05 - accuracy: 1.0000\n",
      "Epoch 48/50\n",
      "15/15 [==============================] - 0s 12ms/step - loss: 4.2725e-05 - accuracy: 1.0000\n",
      "Epoch 49/50\n",
      "15/15 [==============================] - 0s 9ms/step - loss: 4.0686e-05 - accuracy: 1.0000\n",
      "Epoch 50/50\n",
      "15/15 [==============================] - 0s 9ms/step - loss: 3.9080e-05 - accuracy: 1.0000\n",
      "4/4 [==============================] - 1s 17ms/step - loss: 0.1378 - accuracy: 0.9737\n",
      "\n",
      "Out second neural network managed 97.37% accuracy.\n"
     ]
    }
   ],
   "source": [
    "# And now try some other stuff, such as training for another number of epochs\n",
    "first.compile(\n",
    "    optimizer='adam',\n",
    "    loss='sparse_categorical_crossentropy',\n",
    "    metrics=['accuracy'],\n",
    "    )\n",
    "first.fit(z_train,y_train,epochs=50)\n",
    "\n",
    "loss, accuracy = first.evaluate(z_test, y_test)\n",
    "\n",
    "print(f'\\nOut second neural network managed {round(accuracy * 100, 2)}% accuracy.')"
   ]
  },
  {
   "cell_type": "code",
   "execution_count": 6,
   "metadata": {},
   "outputs": [],
   "source": [
    "# You may even want to try to split your train data to also \n",
    "# get validation data and then try to optimize the parameters of your network"
   ]
  }
 ],
 "metadata": {
  "kernelspec": {
   "display_name": "Python 3.10.4 ('amlfall22')",
   "language": "python",
   "name": "python3"
  },
  "language_info": {
   "codemirror_mode": {
    "name": "ipython",
    "version": 3
   },
   "file_extension": ".py",
   "mimetype": "text/x-python",
   "name": "python",
   "nbconvert_exporter": "python",
   "pygments_lexer": "ipython3",
   "version": "3.10.11"
  },
  "vscode": {
   "interpreter": {
    "hash": "d3cedec8935a2c28d6fd602c3007747750e2af1c4c937c29fac0d323bf1b544b"
   }
  }
 },
 "nbformat": 4,
 "nbformat_minor": 4
}
