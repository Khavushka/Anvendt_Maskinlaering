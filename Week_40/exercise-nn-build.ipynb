{
 "cells": [
  {
   "cell_type": "markdown",
   "metadata": {},
   "source": [
    "# Exercise - building neural networks using TensorFlow\n",
    "\n",
    "1. Start by replicating the neural network in the slides (not the training - building it and using the method $\\texttt{.summary}$. You can see the number of parameters in each layer. Can you relate this to the number of features, the number of hidden nodes, and the number of output nodes?\n",
    "2. Do you believe the model has too many parameters? Too few? Try to change the number of parameters (in whichever direction you believe is best) and then train the model on the breast cancer data. Is your model better than the one in the slides? **Bonus**: try also to change the number of epochs you train for, as well as anything else you might want to experiment with.\n",
    "\n",
    "**Note**: The number of epochs is the number of times the neural network sees each observation. In the above example, each observation is shown 5 times.\n",
    "\n",
    "**See slides for more details!**"
   ]
  },
  {
   "cell_type": "markdown",
   "metadata": {},
   "source": [
    "# Exercise 1\n",
    "\n",
    "Start by replicating the neural network in the slides (not the training - building it and using the method $\\texttt{.summary}$. You can see the number of parameters in each layer. Can you relate this to the number of features, the number of hidden nodes, and the number of output nodes?"
   ]
  },
  {
   "cell_type": "code",
   "execution_count": 12,
   "metadata": {},
   "outputs": [
    {
     "name": "stdout",
     "output_type": "stream",
     "text": [
      "Model: \"sequential_2\"\n",
      "_________________________________________________________________\n",
      " Layer (type)                Output Shape              Param #   \n",
      "=================================================================\n",
      " dense_8 (Dense)             (None, 64)                1984      \n",
      "                                                                 \n",
      " dense_9 (Dense)             (None, 128)               8320      \n",
      "                                                                 \n",
      " dense_10 (Dense)            (None, 2)                 258       \n",
      "                                                                 \n",
      "=================================================================\n",
      "Total params: 10,562\n",
      "Trainable params: 10,562\n",
      "Non-trainable params: 0\n",
      "_________________________________________________________________\n"
     ]
    }
   ],
   "source": [
    "import tensorflow as tf\n",
    "\n",
    "my_nn = tf.keras.models.Sequential([\n",
    "    tf.keras.layers.Dense(64, activation='relu', input_shape=(30,)), # input shape required in the first layer\n",
    "    tf.keras.layers.Dense(128, activation='relu'), # map 64 to 128 features and apply ReLU\n",
    "    tf.keras.layers.Dense(2, activation='softmax'), # softmax is used for classification\n",
    "    ])\n",
    "\n",
    "my_nn.summary()"
   ]
  },
  {
   "cell_type": "markdown",
   "metadata": {},
   "source": [
    "# Exercise 2\n",
    "\n",
    "Do you believe the model has too many parameters? Too few? Try to change the number of parameters (in whichever direction you believe is best) and then train the model on the breast cancer data. Is your model better than the one in the slides? **Bonus**: try also to change the number of epochs you train for, as well as anything else you might want to experiment with."
   ]
  },
  {
   "cell_type": "code",
   "execution_count": 13,
   "metadata": {},
   "outputs": [],
   "source": [
    "from sklearn.datasets import load_breast_cancer\n",
    "from sklearn.model_selection import train_test_split\n",
    "from sklearn.preprocessing import StandardScaler\n",
    "\n",
    "# Use the `load_breast_cancer` function to construct your dataset\n",
    "x, y = load_breast_cancer(return_X_y=True)\n",
    "\n",
    "# Use `train_test_split` to split your data into a train and a test set.\n",
    "x_train, x_test, y_train, y_test = train_test_split(x, y, test_size=0.2, random_state=42)\n",
    "\n",
    "scaler = StandardScaler()\n",
    "z_train = scaler.fit_transform(x_train)\n",
    "z_test = scaler.transform(x_test)"
   ]
  },
  {
   "cell_type": "code",
   "execution_count": 14,
   "metadata": {},
   "outputs": [
    {
     "name": "stdout",
     "output_type": "stream",
     "text": [
      "Model: \"sequential_3\"\n",
      "_________________________________________________________________\n",
      " Layer (type)                Output Shape              Param #   \n",
      "=================================================================\n",
      " dense_11 (Dense)            (None, 64)                1984      \n",
      "                                                                 \n",
      " dense_12 (Dense)            (None, 128)               8320      \n",
      "                                                                 \n",
      " dense_13 (Dense)            (None, 128)               16512     \n",
      "                                                                 \n",
      " dense_14 (Dense)            (None, 64)                8256      \n",
      "                                                                 \n",
      " dense_15 (Dense)            (None, 2)                 130       \n",
      "                                                                 \n",
      "=================================================================\n",
      "Total params: 35,202\n",
      "Trainable params: 35,202\n",
      "Non-trainable params: 0\n",
      "_________________________________________________________________\n"
     ]
    }
   ],
   "source": [
    "# Build your own, new neural network here\n",
    "import tensorflow as tf\n",
    "first = tf.keras.models.Sequential([\n",
    "    tf.keras.layers.Dense(64, activation='relu', input_shape=(30,)), # input shape required in the first layer\n",
    "    tf.keras.layers.Dense(128, activation='relu'), # map 64 to 128 features and apply ReLU\n",
    "    tf.keras.layers.Dense(128, activation='relu'), # map 128 to 128 features and apply ReLU\n",
    "    tf.keras.layers.Dense(64, activation='relu'), # map 128 to 64 features and apply ReLU\n",
    "    tf.keras.layers.Dense(2, activation='softmax'), # softmax is used for classification\n",
    "    ])\n",
    "first.summary()"
   ]
  },
  {
   "cell_type": "code",
   "execution_count": 15,
   "metadata": {},
   "outputs": [
    {
     "name": "stdout",
     "output_type": "stream",
     "text": [
      "Epoch 1/5\n",
      "15/15 [==============================] - 0s 2ms/step - loss: 0.5920 - accuracy: 0.7758\n",
      "Epoch 2/5\n",
      "15/15 [==============================] - 0s 2ms/step - loss: 0.4826 - accuracy: 0.8901\n",
      "Epoch 3/5\n",
      "15/15 [==============================] - 0s 2ms/step - loss: 0.4036 - accuracy: 0.9077\n",
      "Epoch 4/5\n",
      "15/15 [==============================] - 0s 2ms/step - loss: 0.3417 - accuracy: 0.9187\n",
      "Epoch 5/5\n",
      "15/15 [==============================] - 0s 2ms/step - loss: 0.2957 - accuracy: 0.9275\n",
      "4/4 [==============================] - 0s 2ms/step - loss: 0.2688 - accuracy: 0.9474\n",
      "\n",
      "Out first neural network managed 94.74% accuracy.\n"
     ]
    }
   ],
   "source": [
    "# Compile it, train it, and evaluate it\n",
    "first.compile(\n",
    "    optimizer='sgd',\n",
    "    loss='sparse_categorical_crossentropy',\n",
    "    metrics=['accuracy'],\n",
    "    )\n",
    "first.fit(z_train,y_train,epochs=5)\n",
    "\n",
    "loss, accuracy = first.evaluate(z_test, y_test)\n",
    "\n",
    "print(f'\\nOut first neural network managed {round(accuracy * 100, 2)}% accuracy.')"
   ]
  },
  {
   "cell_type": "code",
   "execution_count": 16,
   "metadata": {},
   "outputs": [
    {
     "name": "stdout",
     "output_type": "stream",
     "text": [
      "Epoch 1/50\n",
      "15/15 [==============================] - 0s 3ms/step - loss: 0.1645 - accuracy: 0.9538\n",
      "Epoch 2/50\n",
      "15/15 [==============================] - 0s 2ms/step - loss: 0.0755 - accuracy: 0.9780\n",
      "Epoch 3/50\n",
      "15/15 [==============================] - 0s 2ms/step - loss: 0.0561 - accuracy: 0.9868\n",
      "Epoch 4/50\n",
      "15/15 [==============================] - 0s 2ms/step - loss: 0.0406 - accuracy: 0.9868\n",
      "Epoch 5/50\n",
      "15/15 [==============================] - 0s 2ms/step - loss: 0.0298 - accuracy: 0.9934\n",
      "Epoch 6/50\n",
      "15/15 [==============================] - 0s 2ms/step - loss: 0.0209 - accuracy: 0.9934\n",
      "Epoch 7/50\n",
      "15/15 [==============================] - 0s 2ms/step - loss: 0.0269 - accuracy: 0.9912\n",
      "Epoch 8/50\n",
      "15/15 [==============================] - 0s 2ms/step - loss: 0.0164 - accuracy: 0.9934\n",
      "Epoch 9/50\n",
      "15/15 [==============================] - 0s 2ms/step - loss: 0.0076 - accuracy: 0.9978\n",
      "Epoch 10/50\n",
      "15/15 [==============================] - 0s 2ms/step - loss: 0.0042 - accuracy: 1.0000\n",
      "Epoch 11/50\n",
      "15/15 [==============================] - 0s 2ms/step - loss: 0.0028 - accuracy: 1.0000\n",
      "Epoch 12/50\n",
      "15/15 [==============================] - 0s 2ms/step - loss: 0.0017 - accuracy: 1.0000\n",
      "Epoch 13/50\n",
      "15/15 [==============================] - 0s 2ms/step - loss: 0.0013 - accuracy: 1.0000\n",
      "Epoch 14/50\n",
      "15/15 [==============================] - 0s 2ms/step - loss: 0.0011 - accuracy: 1.0000\n",
      "Epoch 15/50\n",
      "15/15 [==============================] - 0s 2ms/step - loss: 7.8338e-04 - accuracy: 1.0000\n",
      "Epoch 16/50\n",
      "15/15 [==============================] - 0s 2ms/step - loss: 6.5533e-04 - accuracy: 1.0000\n",
      "Epoch 17/50\n",
      "15/15 [==============================] - 0s 2ms/step - loss: 5.4434e-04 - accuracy: 1.0000\n",
      "Epoch 18/50\n",
      "15/15 [==============================] - 0s 4ms/step - loss: 4.3208e-04 - accuracy: 1.0000\n",
      "Epoch 19/50\n",
      "15/15 [==============================] - 0s 2ms/step - loss: 3.7875e-04 - accuracy: 1.0000\n",
      "Epoch 20/50\n",
      "15/15 [==============================] - 0s 2ms/step - loss: 3.3114e-04 - accuracy: 1.0000\n",
      "Epoch 21/50\n",
      "15/15 [==============================] - 0s 2ms/step - loss: 2.8371e-04 - accuracy: 1.0000\n",
      "Epoch 22/50\n",
      "15/15 [==============================] - 0s 2ms/step - loss: 2.8108e-04 - accuracy: 1.0000\n",
      "Epoch 23/50\n",
      "15/15 [==============================] - 0s 2ms/step - loss: 2.4319e-04 - accuracy: 1.0000\n",
      "Epoch 24/50\n",
      "15/15 [==============================] - 0s 5ms/step - loss: 1.8991e-04 - accuracy: 1.0000\n",
      "Epoch 25/50\n",
      "15/15 [==============================] - 0s 2ms/step - loss: 1.7121e-04 - accuracy: 1.0000\n",
      "Epoch 26/50\n",
      "15/15 [==============================] - 0s 3ms/step - loss: 1.6329e-04 - accuracy: 1.0000\n",
      "Epoch 27/50\n",
      "15/15 [==============================] - 0s 2ms/step - loss: 1.4124e-04 - accuracy: 1.0000\n",
      "Epoch 28/50\n",
      "15/15 [==============================] - 0s 2ms/step - loss: 1.2973e-04 - accuracy: 1.0000\n",
      "Epoch 29/50\n",
      "15/15 [==============================] - 0s 2ms/step - loss: 1.1968e-04 - accuracy: 1.0000\n",
      "Epoch 30/50\n",
      "15/15 [==============================] - 0s 2ms/step - loss: 1.0804e-04 - accuracy: 1.0000\n",
      "Epoch 31/50\n",
      "15/15 [==============================] - 0s 2ms/step - loss: 1.0309e-04 - accuracy: 1.0000\n",
      "Epoch 32/50\n",
      "15/15 [==============================] - 0s 2ms/step - loss: 9.5645e-05 - accuracy: 1.0000\n",
      "Epoch 33/50\n",
      "15/15 [==============================] - 0s 2ms/step - loss: 8.6015e-05 - accuracy: 1.0000\n",
      "Epoch 34/50\n",
      "15/15 [==============================] - 0s 2ms/step - loss: 8.0182e-05 - accuracy: 1.0000\n",
      "Epoch 35/50\n",
      "15/15 [==============================] - 0s 2ms/step - loss: 7.7094e-05 - accuracy: 1.0000\n",
      "Epoch 36/50\n",
      "15/15 [==============================] - 0s 2ms/step - loss: 7.2182e-05 - accuracy: 1.0000\n",
      "Epoch 37/50\n",
      "15/15 [==============================] - 0s 2ms/step - loss: 6.6350e-05 - accuracy: 1.0000\n",
      "Epoch 38/50\n",
      "15/15 [==============================] - 0s 2ms/step - loss: 6.1577e-05 - accuracy: 1.0000\n",
      "Epoch 39/50\n",
      "15/15 [==============================] - 0s 2ms/step - loss: 5.7584e-05 - accuracy: 1.0000\n",
      "Epoch 40/50\n",
      "15/15 [==============================] - 0s 2ms/step - loss: 5.4607e-05 - accuracy: 1.0000\n",
      "Epoch 41/50\n",
      "15/15 [==============================] - 0s 2ms/step - loss: 5.0633e-05 - accuracy: 1.0000\n",
      "Epoch 42/50\n",
      "15/15 [==============================] - 0s 2ms/step - loss: 4.7508e-05 - accuracy: 1.0000\n",
      "Epoch 43/50\n",
      "15/15 [==============================] - 0s 2ms/step - loss: 4.4394e-05 - accuracy: 1.0000\n",
      "Epoch 44/50\n",
      "15/15 [==============================] - 0s 2ms/step - loss: 4.1348e-05 - accuracy: 1.0000\n",
      "Epoch 45/50\n",
      "15/15 [==============================] - 0s 5ms/step - loss: 3.8802e-05 - accuracy: 1.0000\n",
      "Epoch 46/50\n",
      "15/15 [==============================] - 0s 3ms/step - loss: 3.7723e-05 - accuracy: 1.0000\n",
      "Epoch 47/50\n",
      "15/15 [==============================] - 0s 2ms/step - loss: 3.4650e-05 - accuracy: 1.0000\n",
      "Epoch 48/50\n",
      "15/15 [==============================] - 0s 2ms/step - loss: 3.2151e-05 - accuracy: 1.0000\n",
      "Epoch 49/50\n",
      "15/15 [==============================] - 0s 2ms/step - loss: 3.0462e-05 - accuracy: 1.0000\n",
      "Epoch 50/50\n",
      "15/15 [==============================] - 0s 2ms/step - loss: 2.8182e-05 - accuracy: 1.0000\n",
      "4/4 [==============================] - 0s 2ms/step - loss: 0.2087 - accuracy: 0.9649\n",
      "\n",
      "Out second neural network managed 96.49% accuracy.\n"
     ]
    }
   ],
   "source": [
    "# And now try some other stuff, such as training for another number of epochs\n",
    "first.compile(\n",
    "    optimizer='adam',\n",
    "    loss='sparse_categorical_crossentropy',\n",
    "    metrics=['accuracy'],\n",
    "    )\n",
    "first.fit(z_train,y_train,epochs=50)\n",
    "\n",
    "loss, accuracy = first.evaluate(z_test, y_test)\n",
    "\n",
    "print(f'\\nOut second neural network managed {round(accuracy * 100, 2)}% accuracy.')"
   ]
  },
  {
   "cell_type": "code",
   "execution_count": 18,
   "metadata": {},
   "outputs": [],
   "source": [
    "# You may even want to try to split your train data to also \n",
    "# get validation data and then try to optimize the parameters of your network"
   ]
  }
 ],
 "metadata": {
  "kernelspec": {
   "display_name": "Python 3.10.4 ('amlfall22')",
   "language": "python",
   "name": "python3"
  },
  "language_info": {
   "codemirror_mode": {
    "name": "ipython",
    "version": 3
   },
   "file_extension": ".py",
   "mimetype": "text/x-python",
   "name": "python",
   "nbconvert_exporter": "python",
   "pygments_lexer": "ipython3",
   "version": "3.10.13"
  },
  "vscode": {
   "interpreter": {
    "hash": "d3cedec8935a2c28d6fd602c3007747750e2af1c4c937c29fac0d323bf1b544b"
   }
  }
 },
 "nbformat": 4,
 "nbformat_minor": 4
}
