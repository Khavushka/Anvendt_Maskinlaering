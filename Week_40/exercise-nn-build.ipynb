{
 "cells": [
  {
   "cell_type": "markdown",
   "metadata": {},
   "source": [
    "# Exercise - building neural networks using TensorFlow\n",
    "\n",
    "1. Start by replicating the neural network in the slides (not the training - building it and using the method $\\texttt{.summary}$. You can see the number of parameters in each layer. Can you relate this to the number of features, the number of hidden nodes, and the number of output nodes?\n",
    "2. Do you believe the model has too many parameters? Too few? Try to change the number of parameters (in whichever direction you believe is best) and then train the model on the breast cancer data. Is your model better than the one in the slides? **Bonus**: try also to change the number of epochs you train for, as well as anything else you might want to experiment with.\n",
    "\n",
    "**Note**: The number of epochs is the number of times the neural network sees each observation. In the above example, each observation is shown 5 times.\n",
    "\n",
    "**See slides for more details!**"
   ]
  },
  {
   "cell_type": "markdown",
   "metadata": {},
   "source": [
    "# Exercise 1\n",
    "\n",
    "Start by replicating the neural network in the slides (not the training - building it and using the method $\\texttt{.summary}$. You can see the number of parameters in each layer. Can you relate this to the number of features, the number of hidden nodes, and the number of output nodes?"
   ]
  },
  {
   "cell_type": "code",
   "execution_count": 5,
   "metadata": {},
   "outputs": [
    {
     "name": "stdout",
     "output_type": "stream",
     "text": [
      "Model: \"sequential\"\n",
      "_________________________________________________________________\n",
      " Layer (type)                Output Shape              Param #   \n",
      "=================================================================\n",
      " dense (Dense)               (None, 64)                1984      \n",
      "                                                                 \n",
      " dense_1 (Dense)             (None, 128)               8320      \n",
      "                                                                 \n",
      " dense_2 (Dense)             (None, 2)                 258       \n",
      "                                                                 \n",
      "=================================================================\n",
      "Total params: 10,562\n",
      "Trainable params: 10,562\n",
      "Non-trainable params: 0\n",
      "_________________________________________________________________\n"
     ]
    }
   ],
   "source": [
    "import tensorflow as tf\n",
    "\n",
    "my_nn = tf.keras.models.Sequential([\n",
    "    tf.keras.layers.Dense(64, activation='relu', input_shape=(30,)), # input shape required in the first layer\n",
    "    tf.keras.layers.Dense(128, activation='relu'), # map 64 to 128 features and apply ReLU\n",
    "    tf.keras.layers.Dense(2, activation='softmax'), # softmax is used for classification\n",
    "    ])\n",
    "\n",
    "my_nn.summary()"
   ]
  },
  {
   "cell_type": "markdown",
   "metadata": {},
   "source": [
    "# Exercise 2\n",
    "\n",
    "Do you believe the model has too many parameters? Too few? Try to change the number of parameters (in whichever direction you believe is best) and then train the model on the breast cancer data. Is your model better than the one in the slides? **Bonus**: try also to change the number of epochs you train for, as well as anything else you might want to experiment with."
   ]
  },
  {
   "cell_type": "code",
   "execution_count": 6,
   "metadata": {},
   "outputs": [],
   "source": [
    "from sklearn.datasets import load_breast_cancer\n",
    "from sklearn.model_selection import train_test_split\n",
    "from sklearn.preprocessing import StandardScaler\n",
    "\n",
    "# Use the `load_breast_cancer` function to construct your dataset\n",
    "x, y = load_breast_cancer(return_X_y=True)\n",
    "\n",
    "# Use `train_test_split` to split your data into a train and a test set.\n",
    "x_train, x_test, y_train, y_test = train_test_split(x, y, test_size=0.2, random_state=42)\n",
    "\n",
    "scaler = StandardScaler()\n",
    "z_train = scaler.fit_transform(x_train)\n",
    "z_test = scaler.transform(x_test)"
   ]
  },
  {
   "cell_type": "code",
   "execution_count": 7,
   "metadata": {},
   "outputs": [
    {
     "name": "stdout",
     "output_type": "stream",
     "text": [
      "Model: \"sequential_1\"\n",
      "_________________________________________________________________\n",
      " Layer (type)                Output Shape              Param #   \n",
      "=================================================================\n",
      " dense_3 (Dense)             (None, 64)                1984      \n",
      "                                                                 \n",
      " dense_4 (Dense)             (None, 128)               8320      \n",
      "                                                                 \n",
      " dense_5 (Dense)             (None, 128)               16512     \n",
      "                                                                 \n",
      " dense_6 (Dense)             (None, 64)                8256      \n",
      "                                                                 \n",
      " dense_7 (Dense)             (None, 2)                 130       \n",
      "                                                                 \n",
      "=================================================================\n",
      "Total params: 35,202\n",
      "Trainable params: 35,202\n",
      "Non-trainable params: 0\n",
      "_________________________________________________________________\n"
     ]
    }
   ],
   "source": [
    "# Build your own, new neural network here\n",
    "import tensorflow as tf\n",
    "first = tf.keras.models.Sequential([\n",
    "    tf.keras.layers.Dense(64, activation='relu', input_shape=(30,)), # input shape required in the first layer\n",
    "    tf.keras.layers.Dense(128, activation='relu'), # map 64 to 128 features and apply ReLU\n",
    "    tf.keras.layers.Dense(128, activation='relu'), # map 128 to 128 features and apply ReLU\n",
    "    tf.keras.layers.Dense(64, activation='relu'), # map 128 to 64 features and apply ReLU\n",
    "    tf.keras.layers.Dense(2, activation='softmax'), # softmax is used for classification\n",
    "    ])\n",
    "first.summary()"
   ]
  },
  {
   "cell_type": "code",
   "execution_count": 8,
   "metadata": {},
   "outputs": [
    {
     "name": "stdout",
     "output_type": "stream",
     "text": [
      "Epoch 1/5\n",
      "15/15 [==============================] - 1s 5ms/step - loss: 0.6546 - accuracy: 0.6440\n",
      "Epoch 2/5\n",
      "15/15 [==============================] - 0s 5ms/step - loss: 0.5419 - accuracy: 0.8637\n",
      "Epoch 3/5\n",
      "15/15 [==============================] - 0s 4ms/step - loss: 0.4565 - accuracy: 0.8967\n",
      "Epoch 4/5\n",
      "15/15 [==============================] - 0s 8ms/step - loss: 0.3872 - accuracy: 0.9143\n",
      "Epoch 5/5\n",
      "15/15 [==============================] - 0s 6ms/step - loss: 0.3283 - accuracy: 0.9231\n",
      "4/4 [==============================] - 0s 5ms/step - loss: 0.2891 - accuracy: 0.9649\n",
      "\n",
      "Out first neural network managed 96.49% accuracy.\n"
     ]
    }
   ],
   "source": [
    "# Compile it, train it, and evaluate it\n",
    "first.compile(\n",
    "    optimizer='sgd',\n",
    "    loss='sparse_categorical_crossentropy',\n",
    "    metrics=['accuracy'],\n",
    "    )\n",
    "first.fit(z_train,y_train,epochs=5)\n",
    "\n",
    "loss, accuracy = first.evaluate(z_test, y_test)\n",
    "\n",
    "print(f'\\nOut first neural network managed {round(accuracy * 100, 2)}% accuracy.')"
   ]
  },
  {
   "cell_type": "code",
   "execution_count": 9,
   "metadata": {},
   "outputs": [
    {
     "name": "stdout",
     "output_type": "stream",
     "text": [
      "Epoch 1/50\n",
      "15/15 [==============================] - 1s 5ms/step - loss: 0.1752 - accuracy: 0.9429\n",
      "Epoch 2/50\n",
      "15/15 [==============================] - 0s 5ms/step - loss: 0.0736 - accuracy: 0.9780\n",
      "Epoch 3/50\n",
      "15/15 [==============================] - 0s 6ms/step - loss: 0.0483 - accuracy: 0.9890\n",
      "Epoch 4/50\n",
      "15/15 [==============================] - 0s 5ms/step - loss: 0.0383 - accuracy: 0.9846\n",
      "Epoch 5/50\n",
      "15/15 [==============================] - 0s 4ms/step - loss: 0.0314 - accuracy: 0.9934\n",
      "Epoch 6/50\n",
      "15/15 [==============================] - 0s 5ms/step - loss: 0.0217 - accuracy: 0.9934\n",
      "Epoch 7/50\n",
      "15/15 [==============================] - 0s 5ms/step - loss: 0.0157 - accuracy: 0.9934\n",
      "Epoch 8/50\n",
      "15/15 [==============================] - 0s 5ms/step - loss: 0.0095 - accuracy: 0.9978\n",
      "Epoch 9/50\n",
      "15/15 [==============================] - 0s 5ms/step - loss: 0.0085 - accuracy: 0.9978\n",
      "Epoch 10/50\n",
      "15/15 [==============================] - 0s 6ms/step - loss: 0.0048 - accuracy: 1.0000\n",
      "Epoch 11/50\n",
      "15/15 [==============================] - 0s 6ms/step - loss: 0.0033 - accuracy: 1.0000\n",
      "Epoch 12/50\n",
      "15/15 [==============================] - 0s 5ms/step - loss: 0.0023 - accuracy: 1.0000\n",
      "Epoch 13/50\n",
      "15/15 [==============================] - 0s 7ms/step - loss: 0.0016 - accuracy: 1.0000\n",
      "Epoch 14/50\n",
      "15/15 [==============================] - 0s 6ms/step - loss: 9.2821e-04 - accuracy: 1.0000\n",
      "Epoch 15/50\n",
      "15/15 [==============================] - 0s 5ms/step - loss: 6.6221e-04 - accuracy: 1.0000\n",
      "Epoch 16/50\n",
      "15/15 [==============================] - 0s 5ms/step - loss: 5.2159e-04 - accuracy: 1.0000\n",
      "Epoch 17/50\n",
      "15/15 [==============================] - 0s 5ms/step - loss: 4.4178e-04 - accuracy: 1.0000\n",
      "Epoch 18/50\n",
      "15/15 [==============================] - 0s 5ms/step - loss: 4.2244e-04 - accuracy: 1.0000\n",
      "Epoch 19/50\n",
      "15/15 [==============================] - 0s 5ms/step - loss: 3.1967e-04 - accuracy: 1.0000\n",
      "Epoch 20/50\n",
      "15/15 [==============================] - 0s 5ms/step - loss: 2.9182e-04 - accuracy: 1.0000\n",
      "Epoch 21/50\n",
      "15/15 [==============================] - 0s 4ms/step - loss: 2.2817e-04 - accuracy: 1.0000\n",
      "Epoch 22/50\n",
      "15/15 [==============================] - 0s 4ms/step - loss: 2.0663e-04 - accuracy: 1.0000\n",
      "Epoch 23/50\n",
      "15/15 [==============================] - 0s 5ms/step - loss: 1.8186e-04 - accuracy: 1.0000\n",
      "Epoch 24/50\n",
      "15/15 [==============================] - 0s 5ms/step - loss: 1.6444e-04 - accuracy: 1.0000\n",
      "Epoch 25/50\n",
      "15/15 [==============================] - 0s 5ms/step - loss: 1.5055e-04 - accuracy: 1.0000\n",
      "Epoch 26/50\n",
      "15/15 [==============================] - 0s 5ms/step - loss: 1.3553e-04 - accuracy: 1.0000\n",
      "Epoch 27/50\n",
      "15/15 [==============================] - 0s 7ms/step - loss: 1.2510e-04 - accuracy: 1.0000\n",
      "Epoch 28/50\n",
      "15/15 [==============================] - 0s 5ms/step - loss: 1.2312e-04 - accuracy: 1.0000\n",
      "Epoch 29/50\n",
      "15/15 [==============================] - 0s 5ms/step - loss: 1.0566e-04 - accuracy: 1.0000\n",
      "Epoch 30/50\n",
      "15/15 [==============================] - 0s 6ms/step - loss: 9.7307e-05 - accuracy: 1.0000\n",
      "Epoch 31/50\n",
      "15/15 [==============================] - 0s 7ms/step - loss: 9.0945e-05 - accuracy: 1.0000\n",
      "Epoch 32/50\n",
      "15/15 [==============================] - 0s 5ms/step - loss: 8.5793e-05 - accuracy: 1.0000\n",
      "Epoch 33/50\n",
      "15/15 [==============================] - 0s 6ms/step - loss: 7.7883e-05 - accuracy: 1.0000\n",
      "Epoch 34/50\n",
      "15/15 [==============================] - 0s 7ms/step - loss: 7.2901e-05 - accuracy: 1.0000\n",
      "Epoch 35/50\n",
      "15/15 [==============================] - 0s 6ms/step - loss: 6.8605e-05 - accuracy: 1.0000\n",
      "Epoch 36/50\n",
      "15/15 [==============================] - 0s 4ms/step - loss: 6.4674e-05 - accuracy: 1.0000\n",
      "Epoch 37/50\n",
      "15/15 [==============================] - 0s 4ms/step - loss: 5.9773e-05 - accuracy: 1.0000\n",
      "Epoch 38/50\n",
      "15/15 [==============================] - 0s 4ms/step - loss: 5.5927e-05 - accuracy: 1.0000\n",
      "Epoch 39/50\n",
      "15/15 [==============================] - 0s 5ms/step - loss: 5.1879e-05 - accuracy: 1.0000\n",
      "Epoch 40/50\n",
      "15/15 [==============================] - 0s 4ms/step - loss: 4.8384e-05 - accuracy: 1.0000\n",
      "Epoch 41/50\n",
      "15/15 [==============================] - 0s 4ms/step - loss: 4.5376e-05 - accuracy: 1.0000\n",
      "Epoch 42/50\n",
      "15/15 [==============================] - 0s 4ms/step - loss: 4.2253e-05 - accuracy: 1.0000\n",
      "Epoch 43/50\n",
      "15/15 [==============================] - 0s 4ms/step - loss: 3.9767e-05 - accuracy: 1.0000\n",
      "Epoch 44/50\n",
      "15/15 [==============================] - 0s 4ms/step - loss: 3.5891e-05 - accuracy: 1.0000\n",
      "Epoch 45/50\n",
      "15/15 [==============================] - 0s 4ms/step - loss: 3.1476e-05 - accuracy: 1.0000\n",
      "Epoch 46/50\n",
      "15/15 [==============================] - 0s 4ms/step - loss: 2.6301e-05 - accuracy: 1.0000\n",
      "Epoch 47/50\n",
      "15/15 [==============================] - 0s 4ms/step - loss: 2.1470e-05 - accuracy: 1.0000\n",
      "Epoch 48/50\n",
      "15/15 [==============================] - 0s 4ms/step - loss: 1.8278e-05 - accuracy: 1.0000\n",
      "Epoch 49/50\n",
      "15/15 [==============================] - 0s 4ms/step - loss: 1.5410e-05 - accuracy: 1.0000\n",
      "Epoch 50/50\n",
      "15/15 [==============================] - 0s 5ms/step - loss: 1.3299e-05 - accuracy: 1.0000\n",
      "4/4 [==============================] - 1s 5ms/step - loss: 0.1603 - accuracy: 0.9825\n",
      "\n",
      "Out second neural network managed 98.25% accuracy.\n"
     ]
    }
   ],
   "source": [
    "# And now try some other stuff, such as training for another number of epochs\n",
    "first.compile(\n",
    "    optimizer='adam',\n",
    "    loss='sparse_categorical_crossentropy',\n",
    "    metrics=['accuracy'],\n",
    "    )\n",
    "first.fit(z_train,y_train,epochs=50)\n",
    "\n",
    "loss, accuracy = first.evaluate(z_test, y_test)\n",
    "\n",
    "print(f'\\nOut second neural network managed {round(accuracy * 100, 2)}% accuracy.')"
   ]
  },
  {
   "cell_type": "code",
   "execution_count": 10,
   "metadata": {},
   "outputs": [],
   "source": [
    "# You may even want to try to split your train data to also \n",
    "# get validation data and then try to optimize the parameters of your network"
   ]
  }
 ],
 "metadata": {
  "kernelspec": {
   "display_name": "Python 3.10.4 ('amlfall22')",
   "language": "python",
   "name": "python3"
  },
  "language_info": {
   "codemirror_mode": {
    "name": "ipython",
    "version": 3
   },
   "file_extension": ".py",
   "mimetype": "text/x-python",
   "name": "python",
   "nbconvert_exporter": "python",
   "pygments_lexer": "ipython3",
   "version": "3.10.13"
  },
  "vscode": {
   "interpreter": {
    "hash": "d3cedec8935a2c28d6fd602c3007747750e2af1c4c937c29fac0d323bf1b544b"
   }
  }
 },
 "nbformat": 4,
 "nbformat_minor": 4
}
