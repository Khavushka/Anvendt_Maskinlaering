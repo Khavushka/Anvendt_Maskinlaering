{
 "cells": [
  {
   "cell_type": "markdown",
   "metadata": {},
   "source": [
    "# Exercise \n",
    "\n",
    "1. Use the **load_wine** data (remember to split your data into a train and test data). Go through the steps in the previous slides to find the most important features."
   ]
  },
  {
   "cell_type": "code",
   "execution_count": 3,
   "metadata": {},
   "outputs": [
    {
     "name": "stdout",
     "output_type": "stream",
     "text": [
      "(142, 13) (36, 13) (142,) (36,)\n"
     ]
    }
   ],
   "source": [
    "from sklearn.datasets import load_wine\n",
    "from sklearn.model_selection import train_test_split\n",
    "from sklearn.metrics import accuracy_score\n",
    "from sklearn import tree\n",
    "from matplotlib import pyplot as plt\n",
    "\n",
    "# Use the `load_wine` function to construct your dataset\n",
    "X, y = load_wine(return_X_y=True)\n",
    "\n",
    "# Use `train_test_split` to split your data into a train and a test set.\n",
    "X_train, X_test, y_train, y_test =  train_test_split(X, y, test_size = 0.2, random_state=42)\n",
    "print(X_train.shape, X_test.shape, y_train.shape, y_test.shape)"
   ]
  },
  {
   "cell_type": "code",
   "execution_count": 4,
   "metadata": {},
   "outputs": [
    {
     "name": "stdout",
     "output_type": "stream",
     "text": [
      "DT with default settings achieved 94.4% accuracy.\n"
     ]
    }
   ],
   "source": [
    "# Initialize a DT\n",
    "dt = tree.DecisionTreeClassifier()\n",
    "\n",
    "# Fit your DT\n",
    "dt.fit(X_train, y_train)\n",
    "\n",
    "# Predict on your test data with your DT\n",
    "y_test_hat = dt.predict(X_test)\n",
    "\n",
    "# Obtain accuracy by using the `accuracy_score` function\n",
    "accuracy = accuracy_score(y_test_hat, y_test)\n",
    "\n",
    "# Print results\n",
    "print(f'DT with default settings achieved {round(accuracy * 100, 1)}% accuracy.')"
   ]
  },
  {
   "cell_type": "code",
   "execution_count": 5,
   "metadata": {},
   "outputs": [
    {
     "data": {
      "text/html": [
       "<div>\n",
       "<style scoped>\n",
       "    .dataframe tbody tr th:only-of-type {\n",
       "        vertical-align: middle;\n",
       "    }\n",
       "\n",
       "    .dataframe tbody tr th {\n",
       "        vertical-align: top;\n",
       "    }\n",
       "\n",
       "    .dataframe thead th {\n",
       "        text-align: right;\n",
       "    }\n",
       "</style>\n",
       "<table border=\"1\" class=\"dataframe\">\n",
       "  <thead>\n",
       "    <tr style=\"text-align: right;\">\n",
       "      <th></th>\n",
       "      <th>index</th>\n",
       "      <th>Feature</th>\n",
       "      <th>Importance</th>\n",
       "    </tr>\n",
       "  </thead>\n",
       "  <tbody>\n",
       "    <tr>\n",
       "      <th>0</th>\n",
       "      <td>6</td>\n",
       "      <td>flavanoids</td>\n",
       "      <td>0.411053</td>\n",
       "    </tr>\n",
       "    <tr>\n",
       "      <th>1</th>\n",
       "      <td>9</td>\n",
       "      <td>color_intensity</td>\n",
       "      <td>0.384934</td>\n",
       "    </tr>\n",
       "    <tr>\n",
       "      <th>2</th>\n",
       "      <td>12</td>\n",
       "      <td>proline</td>\n",
       "      <td>0.164075</td>\n",
       "    </tr>\n",
       "    <tr>\n",
       "      <th>3</th>\n",
       "      <td>2</td>\n",
       "      <td>ash</td>\n",
       "      <td>0.020942</td>\n",
       "    </tr>\n",
       "    <tr>\n",
       "      <th>4</th>\n",
       "      <td>0</td>\n",
       "      <td>alcohol</td>\n",
       "      <td>0.018995</td>\n",
       "    </tr>\n",
       "    <tr>\n",
       "      <th>5</th>\n",
       "      <td>1</td>\n",
       "      <td>malic_acid</td>\n",
       "      <td>0.000000</td>\n",
       "    </tr>\n",
       "    <tr>\n",
       "      <th>6</th>\n",
       "      <td>3</td>\n",
       "      <td>alcalinity_of_ash</td>\n",
       "      <td>0.000000</td>\n",
       "    </tr>\n",
       "    <tr>\n",
       "      <th>7</th>\n",
       "      <td>4</td>\n",
       "      <td>magnesium</td>\n",
       "      <td>0.000000</td>\n",
       "    </tr>\n",
       "    <tr>\n",
       "      <th>8</th>\n",
       "      <td>5</td>\n",
       "      <td>total_phenols</td>\n",
       "      <td>0.000000</td>\n",
       "    </tr>\n",
       "    <tr>\n",
       "      <th>9</th>\n",
       "      <td>7</td>\n",
       "      <td>nonflavanoid_phenols</td>\n",
       "      <td>0.000000</td>\n",
       "    </tr>\n",
       "  </tbody>\n",
       "</table>\n",
       "</div>"
      ],
      "text/plain": [
       "   index               Feature  Importance\n",
       "0      6            flavanoids    0.411053\n",
       "1      9       color_intensity    0.384934\n",
       "2     12               proline    0.164075\n",
       "3      2                   ash    0.020942\n",
       "4      0               alcohol    0.018995\n",
       "5      1            malic_acid    0.000000\n",
       "6      3     alcalinity_of_ash    0.000000\n",
       "7      4             magnesium    0.000000\n",
       "8      5         total_phenols    0.000000\n",
       "9      7  nonflavanoid_phenols    0.000000"
      ]
     },
     "execution_count": 5,
     "metadata": {},
     "output_type": "execute_result"
    }
   ],
   "source": [
    "# Show top 10 featuers. No need to change the code, but you can change the 10 to show fewer (or more) featuees\n",
    "import pandas as pd\n",
    "\n",
    "importances = dt.feature_importances_\n",
    "names = load_wine()['feature_names']\n",
    "\n",
    "feature_importance = pd.DataFrame(zip(names, importances), columns=['Feature', 'Importance'])\n",
    "feature_importance = feature_importance.sort_values('Importance', ascending=False).reset_index()\n",
    "feature_importance[:10]"
   ]
  },
  {
   "cell_type": "code",
   "execution_count": 6,
   "metadata": {},
   "outputs": [
    {
     "data": {
      "image/png": "[encoded data removed]",
      "text/plain": [
       "<Figure size 640x480 with 1 Axes>"
      ]
     },
     "metadata": {},
     "output_type": "display_data"
    }
   ],
   "source": [
    "# Plot it - no need to change anything, but you can change the 3 to another number if you want to show more features.\n",
    "from matplotlib import pyplot as plt\n",
    "\n",
    "plt.figure()\n",
    "plt.title(\"Feature importances\")\n",
    "plt.bar(feature_importance['Feature'][:3], feature_importance['Importance'][:3])\n",
    "plt.show()"
   ]
  },
  {
   "cell_type": "code",
   "execution_count": 8,
   "metadata": {},
   "outputs": [
    {
     "name": "stdout",
     "output_type": "stream",
     "text": [
      "[ 6  9 12  2  0]\n",
      "DT with only top features achieved 94.4% accuracy.\n"
     ]
    }
   ],
   "source": [
    "# Tree based on most important features only\n",
    "top_features = (-importances).argsort()[:5]\n",
    "print(top_features)\n",
    "\n",
    "Z_train = X_train[:, top_features]\n",
    "Z_test = X_test[:, top_features]\n",
    "\n",
    "# Initialize a DT\n",
    "dt = tree.DecisionTreeClassifier(min_samples_leaf=5, min_samples_split=5, max_features=5)\n",
    "\n",
    "# Fit your DT (on the Zs, i.e. the top featueres)\n",
    "dt.fit(Z_train, y_train)\n",
    "\n",
    "# Predict on your test data with your DT\n",
    "y_test_hat = dt.predict(Z_test)\n",
    "\n",
    "# Obtain accuracy by using the `accuracy_score` function\n",
    "accuracy = accuracy_score(y_test_hat, y_test)\n",
    "\n",
    "# Print results\n",
    "print(f'DT with only top features achieved {round(accuracy * 100, 1)}% accuracy.')"
   ]
  }
 ],
 "metadata": {
  "kernelspec": {
   "display_name": "Python 3.10.4 ('amlfall22')",
   "language": "python",
   "name": "python3"
  },
  "language_info": {
   "codemirror_mode": {
    "name": "ipython",
    "version": 3
   },
   "file_extension": ".py",
   "mimetype": "text/x-python",
   "name": "python",
   "nbconvert_exporter": "python",
   "pygments_lexer": "ipython3",
   "version": "3.10.11"
  },
  "vscode": {
   "interpreter": {
    "hash": "d3cedec8935a2c28d6fd602c3007747750e2af1c4c937c29fac0d323bf1b544b"
   }
  }
 },
 "nbformat": 4,
 "nbformat_minor": 4
}
