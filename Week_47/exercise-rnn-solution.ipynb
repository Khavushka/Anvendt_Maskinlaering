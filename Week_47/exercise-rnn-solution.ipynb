{
 "cells": [
  {
   "cell_type": "markdown",
   "metadata": {},
   "source": [
    "# Exercise - building RNNs\n",
    "\n",
    "1. Build three RNNs which take as input a sequence of length 5 with 20 features, uses a single recurrent layer with 20 nodes with a $\\texttt{ReLU}$ activation function, and then uses a $\\texttt{Dense}$ layer to perform classification of 10 classes. Use $\\texttt{SimpleRNN}$, $\\texttt{LSTM}$, and $\\texttt{GRU}$ for the recurrent layers (hence 3 total models). What is the number of parameters in each of the 3 cases?\n",
    "1. Modify your models fom **1.** using $\\texttt{Bidirectional}$ layers. Do this for (at least) the merging methods $\\texttt{concat}$ and $\\texttt{sum}$. What is the number of parameters in each of the 6 cases?\n",
    "1. Modify your models from **1.** by using a *second* recurrent layer (of the same type, so still 3 total models) with 10 nodes. What is the number of parameters in each of the 3 cases?\n",
    "\n",
    "**Note**: You may want to use:\n",
    "1. https://www.tensorflow.org/api_docs/python/tf/keras/layers/SimpleRNN\n",
    "1. https://www.tensorflow.org/api_docs/python/tf/keras/layers/LSTM\n",
    "1. https://www.tensorflow.org/api_docs/python/tf/keras/layers/GRU\n",
    "1. https://www.tensorflow.org/api_docs/python/tf/keras/layers/Bidirectional\n",
    "\n",
    "**See slides for more details!**"
   ]
  },
  {
   "cell_type": "markdown",
   "metadata": {},
   "source": [
    "# Setup"
   ]
  },
  {
   "cell_type": "code",
   "execution_count": 1,
   "metadata": {},
   "outputs": [],
   "source": [
    "import tensorflow as tf"
   ]
  },
  {
   "cell_type": "markdown",
   "metadata": {},
   "source": [
    "# Exercise 1\n",
    "\n",
    "Build three RNNs which takes as input a sequence of length 5 with 20 features, uses a single recurrent layer with 20 nodes with a $\\texttt{ReLU}$ activation function, and then uses a $\\texttt{Dense}$ layer to perform classification of 10 classes. Use $\\texttt{SimpleRNN}$, $\\texttt{LSTM}$, and $\\texttt{GRU}$ for the recurrent layers (hence 3 total models). What is the number of parameters in each of the 3 cases?"
   ]
  },
  {
   "cell_type": "code",
   "execution_count": 2,
   "metadata": {
    "scrolled": true
   },
   "outputs": [
    {
     "name": "stdout",
     "output_type": "stream",
     "text": [
      "Model: \"sequential\"\n",
      "_________________________________________________________________\n",
      " Layer (type)                Output Shape              Param #   \n",
      "=================================================================\n",
      " simple_rnn (SimpleRNN)      (None, 20)                820       \n",
      "                                                                 \n",
      " dense (Dense)               (None, 10)                210       \n",
      "                                                                 \n",
      "=================================================================\n",
      "Total params: 1,030\n",
      "Trainable params: 1,030\n",
      "Non-trainable params: 0\n",
      "_________________________________________________________________\n",
      "Model: \"sequential_1\"\n",
      "_________________________________________________________________\n",
      " Layer (type)                Output Shape              Param #   \n",
      "=================================================================\n",
      " lstm (LSTM)                 (None, 20)                3280      \n",
      "                                                                 \n",
      " dense_1 (Dense)             (None, 10)                210       \n",
      "                                                                 \n",
      "=================================================================\n",
      "Total params: 3,490\n",
      "Trainable params: 3,490\n",
      "Non-trainable params: 0\n",
      "_________________________________________________________________\n",
      "Model: \"sequential_2\"\n",
      "_________________________________________________________________\n",
      " Layer (type)                Output Shape              Param #   \n",
      "=================================================================\n",
      " gru (GRU)                   (None, 20)                2520      \n",
      "                                                                 \n",
      " dense_2 (Dense)             (None, 10)                210       \n",
      "                                                                 \n",
      "=================================================================\n",
      "Total params: 2,730\n",
      "Trainable params: 2,730\n",
      "Non-trainable params: 0\n",
      "_________________________________________________________________\n"
     ]
    }
   ],
   "source": [
    "recurrent_layer_types = [\n",
    "    tf.keras.layers.SimpleRNN,\n",
    "    tf.keras.layers.LSTM,\n",
    "    tf.keras.layers.GRU,\n",
    "]\n",
    "\n",
    "for layer_type in recurrent_layer_types:\n",
    "    model = tf.keras.models.Sequential([\n",
    "        layer_type(20, activation='relu', input_shape=(5, 20)),\n",
    "        tf.keras.layers.Dense(10, activation='softmax'),\n",
    "    ])\n",
    "    model.summary()"
   ]
  },
  {
   "cell_type": "markdown",
   "metadata": {},
   "source": [
    "**Comment**: ReLU is problematic for cuDNN implementation (it only supports hyperbolic tangent)."
   ]
  },
  {
   "cell_type": "markdown",
   "metadata": {},
   "source": [
    "# Exercise 2\n",
    "\n",
    "Modify your models fom **1.** using $\\texttt{Bidirectional}$ layers. Do this for (at least) the merging methods $\\texttt{concat}$ and $\\texttt{sum}$. What is the number of parameters in each of the 6 cases?"
   ]
  },
  {
   "cell_type": "code",
   "execution_count": 3,
   "metadata": {},
   "outputs": [
    {
     "name": "stdout",
     "output_type": "stream",
     "text": [
      "Model: \"sequential_3\"\n",
      "_________________________________________________________________\n",
      " Layer (type)                Output Shape              Param #   \n",
      "=================================================================\n",
      " bidirectional (Bidirectiona  (None, 40)               1640      \n",
      " l)                                                              \n",
      "                                                                 \n",
      " dense_3 (Dense)             (None, 10)                410       \n",
      "                                                                 \n",
      "=================================================================\n",
      "Total params: 2,050\n",
      "Trainable params: 2,050\n",
      "Non-trainable params: 0\n",
      "_________________________________________________________________\n",
      "Model: \"sequential_4\"\n",
      "_________________________________________________________________\n",
      " Layer (type)                Output Shape              Param #   \n",
      "=================================================================\n",
      " bidirectional_1 (Bidirectio  (None, 20)               1640      \n",
      " nal)                                                            \n",
      "                                                                 \n",
      " dense_4 (Dense)             (None, 10)                210       \n",
      "                                                                 \n",
      "=================================================================\n",
      "Total params: 1,850\n",
      "Trainable params: 1,850\n",
      "Non-trainable params: 0\n",
      "_________________________________________________________________\n",
      "Model: \"sequential_5\"\n",
      "_________________________________________________________________\n",
      " Layer (type)                Output Shape              Param #   \n",
      "=================================================================\n",
      " bidirectional_2 (Bidirectio  (None, 40)               6560      \n",
      " nal)                                                            \n",
      "                                                                 \n",
      " dense_5 (Dense)             (None, 10)                410       \n",
      "                                                                 \n",
      "=================================================================\n",
      "Total params: 6,970\n",
      "Trainable params: 6,970\n",
      "Non-trainable params: 0\n",
      "_________________________________________________________________\n",
      "Model: \"sequential_6\"\n",
      "_________________________________________________________________\n",
      " Layer (type)                Output Shape              Param #   \n",
      "=================================================================\n",
      " bidirectional_3 (Bidirectio  (None, 20)               6560      \n",
      " nal)                                                            \n",
      "                                                                 \n",
      " dense_6 (Dense)             (None, 10)                210       \n",
      "                                                                 \n",
      "=================================================================\n",
      "Total params: 6,770\n",
      "Trainable params: 6,770\n",
      "Non-trainable params: 0\n",
      "_________________________________________________________________\n",
      "Model: \"sequential_7\"\n",
      "_________________________________________________________________\n",
      " Layer (type)                Output Shape              Param #   \n",
      "=================================================================\n",
      " bidirectional_4 (Bidirectio  (None, 40)               5040      \n",
      " nal)                                                            \n",
      "                                                                 \n",
      " dense_7 (Dense)             (None, 10)                410       \n",
      "                                                                 \n",
      "=================================================================\n",
      "Total params: 5,450\n",
      "Trainable params: 5,450\n",
      "Non-trainable params: 0\n",
      "_________________________________________________________________\n",
      "Model: \"sequential_8\"\n",
      "_________________________________________________________________\n",
      " Layer (type)                Output Shape              Param #   \n",
      "=================================================================\n",
      " bidirectional_5 (Bidirectio  (None, 20)               5040      \n",
      " nal)                                                            \n",
      "                                                                 \n",
      " dense_8 (Dense)             (None, 10)                210       \n",
      "                                                                 \n",
      "=================================================================\n",
      "Total params: 5,250\n",
      "Trainable params: 5,250\n",
      "Non-trainable params: 0\n",
      "_________________________________________________________________\n"
     ]
    }
   ],
   "source": [
    "merging_methods = [\n",
    "    'concat',\n",
    "    'sum'\n",
    "]\n",
    "\n",
    "for layer_type in recurrent_layer_types:\n",
    "    for merging_method in merging_methods:\n",
    "        model = tf.keras.models.Sequential([\n",
    "            tf.keras.layers.Bidirectional(\n",
    "                layer_type(20, activation='relu'), \n",
    "                merge_mode=merging_method,\n",
    "                input_shape=(5, 20)),\n",
    "            tf.keras.layers.Dense(10, activation='softmax'),\n",
    "        ])\n",
    "        model.summary()"
   ]
  },
  {
   "cell_type": "markdown",
   "metadata": {},
   "source": [
    "# Exercise 3\n",
    "\n",
    "Modify your models from **1.** by using a *second* recurrent layer (of the same type, so still 3 total models) with 10 nodes. What is the number of parameters in each of the 3 cases?"
   ]
  },
  {
   "cell_type": "code",
   "execution_count": 4,
   "metadata": {},
   "outputs": [
    {
     "name": "stdout",
     "output_type": "stream",
     "text": [
      "Model: \"sequential_9\"\n",
      "_________________________________________________________________\n",
      " Layer (type)                Output Shape              Param #   \n",
      "=================================================================\n",
      " simple_rnn_3 (SimpleRNN)    (None, 5, 20)             820       \n",
      "                                                                 \n",
      " simple_rnn_4 (SimpleRNN)    (None, 10)                310       \n",
      "                                                                 \n",
      " dense_9 (Dense)             (None, 10)                110       \n",
      "                                                                 \n",
      "=================================================================\n",
      "Total params: 1,240\n",
      "Trainable params: 1,240\n",
      "Non-trainable params: 0\n",
      "_________________________________________________________________\n",
      "Model: \"sequential_10\"\n",
      "_________________________________________________________________\n",
      " Layer (type)                Output Shape              Param #   \n",
      "=================================================================\n",
      " lstm_3 (LSTM)               (None, 5, 20)             3280      \n",
      "                                                                 \n",
      " lstm_4 (LSTM)               (None, 10)                1240      \n",
      "                                                                 \n",
      " dense_10 (Dense)            (None, 10)                110       \n",
      "                                                                 \n",
      "=================================================================\n",
      "Total params: 4,630\n",
      "Trainable params: 4,630\n",
      "Non-trainable params: 0\n",
      "_________________________________________________________________\n",
      "Model: \"sequential_11\"\n",
      "_________________________________________________________________\n",
      " Layer (type)                Output Shape              Param #   \n",
      "=================================================================\n",
      " gru_3 (GRU)                 (None, 5, 20)             2520      \n",
      "                                                                 \n",
      " gru_4 (GRU)                 (None, 10)                960       \n",
      "                                                                 \n",
      " dense_11 (Dense)            (None, 10)                110       \n",
      "                                                                 \n",
      "=================================================================\n",
      "Total params: 3,590\n",
      "Trainable params: 3,590\n",
      "Non-trainable params: 0\n",
      "_________________________________________________________________\n"
     ]
    }
   ],
   "source": [
    "for layer_type in recurrent_layer_types:\n",
    "    model = tf.keras.models.Sequential([\n",
    "        layer_type(20, activation='relu', return_sequences=True, input_shape=(5, 20)),\n",
    "        layer_type(10), # the default activation is hyperbolic tangent\n",
    "        tf.keras.layers.Dense(10, activation='softmax'),\n",
    "    ])\n",
    "    model.summary()"
   ]
  }
 ],
 "metadata": {
  "kernelspec": {
   "display_name": "Python 3",
   "language": "python",
   "name": "python3"
  },
  "language_info": {
   "codemirror_mode": {
    "name": "ipython",
    "version": 3
   },
   "file_extension": ".py",
   "mimetype": "text/x-python",
   "name": "python",
   "nbconvert_exporter": "python",
   "pygments_lexer": "ipython3",
   "version": "3.10.9"
  }
 },
 "nbformat": 4,
 "nbformat_minor": 4
}
