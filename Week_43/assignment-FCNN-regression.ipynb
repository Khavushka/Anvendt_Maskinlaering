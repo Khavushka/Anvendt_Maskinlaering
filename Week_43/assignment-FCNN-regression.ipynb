{
 "cells": [
  {
   "cell_type": "markdown",
   "metadata": {},
   "source": [
    "# Assignment - optimization and regularization\n",
    "\n",
    "Hi there! In this assignment, you will use neural networks (or something else, if you want) to predict values in a regression problem.\n",
    "\n",
    "To get you started, I have provided a complete working example.\n",
    "\n",
    "When you are done, submit your results on the Kaggle webpage for this competition. If you do not like to show your score to everyone, you can use an anonymous username on Kaggle.\n",
    "\n",
    "However, I suggest you use your real name, after all it is just meant as an exercise and it is more fun that way. You can submit 5 times every day, so you can experiment with some stuff without being \"locked in\"."
   ]
  },
  {
   "cell_type": "markdown",
   "metadata": {},
   "source": [
    "# Details\n",
    "\n",
    "The metric used to score this assignment is root mean squared error."
   ]
  },
  {
   "cell_type": "markdown",
   "metadata": {},
   "source": [
    "# Kaggle\n",
    "\n",
    "The assignment uses Kaggle. You can use it to submit your predictions. It will then give you a score (based on **some** of the test data). The final score will be calculated using the **other** part of the test data (so you have to change of looking at the test data for the competition).\n",
    "\n",
    "You can visit the webpage here: https://www.kaggle.com/t/1cc454b8206b4a11870636ff394788eb. You need to create an account (free, just need an email)."
   ]
  },
  {
   "cell_type": "code",
   "execution_count": 1,
   "metadata": {},
   "outputs": [],
   "source": [
    "import tensorflow as tf\n",
    "import numpy as np\n",
    "import pandas as pd\n",
    "from sklearn.preprocessing import StandardScaler"
   ]
  },
  {
   "cell_type": "code",
   "execution_count": 2,
   "metadata": {},
   "outputs": [
    {
     "name": "stdout",
     "output_type": "stream",
     "text": [
      "(20000, 48) (5000, 48) (20000,)\n"
     ]
    }
   ],
   "source": [
    "# Load data (must be in same folder as this file, which it will be if you simply unzip the assignment).\n",
    "# Note that we don't have any y_test! This way you cannot \"cheat\"!\n",
    "\n",
    "x_train = np.load('x_train.npy')\n",
    "x_test = np.load('x_test.npy')\n",
    "y_train = np.load('y_train.npy')\n",
    "\n",
    "scaler = StandardScaler()\n",
    "\n",
    "x_train = scaler.fit_transform(x_train)\n",
    "x_test = scaler.transform(x_test)\n",
    "\n",
    "print(x_train.shape, x_test.shape, y_train.shape)"
   ]
  },
  {
   "cell_type": "code",
   "execution_count": 3,
   "metadata": {},
   "outputs": [
    {
     "name": "stdout",
     "output_type": "stream",
     "text": [
      "Epoch 1/10\n",
      "625/625 [==============================] - 2s 2ms/step - loss: 72.5301 - mae: 6.7388\n",
      "Epoch 2/10\n",
      "625/625 [==============================] - 1s 2ms/step - loss: 69.2012 - mae: 6.6525\n",
      "Epoch 3/10\n",
      "625/625 [==============================] - 1s 2ms/step - loss: 68.6514 - mae: 6.6384\n",
      "Epoch 4/10\n",
      "625/625 [==============================] - 1s 2ms/step - loss: 68.1157 - mae: 6.6164\n",
      "Epoch 5/10\n",
      "625/625 [==============================] - 1s 2ms/step - loss: 67.6694 - mae: 6.6041\n",
      "Epoch 6/10\n",
      "625/625 [==============================] - 1s 2ms/step - loss: 67.2102 - mae: 6.5766\n",
      "Epoch 7/10\n",
      "625/625 [==============================] - 1s 2ms/step - loss: 66.7706 - mae: 6.5500\n",
      "Epoch 8/10\n",
      "625/625 [==============================] - 1s 2ms/step - loss: 65.9032 - mae: 6.5105\n",
      "Epoch 9/10\n",
      "625/625 [==============================] - 1s 2ms/step - loss: 65.4200 - mae: 6.4883\n",
      "Epoch 10/10\n",
      "625/625 [==============================] - 1s 2ms/step - loss: 64.7789 - mae: 6.4488\n"
     ]
    },
    {
     "data": {
      "text/plain": [
       "<keras.callbacks.History at 0x23087be3190>"
      ]
     },
     "execution_count": 3,
     "metadata": {},
     "output_type": "execute_result"
    }
   ],
   "source": [
    "model = tf.keras.models.Sequential([\n",
    "    tf.keras.layers.Flatten(input_shape=(48,)),\n",
    "    tf.keras.layers.Dense(64, activation='relu'),\n",
    "    tf.keras.layers.Dense(64, activation='relu'),\n",
    "    tf.keras.layers.Dense(128, activation='relu'),\n",
    "    tf.keras.layers.Dense(1, activation='linear'),\n",
    "    ])\n",
    "model.compile(\n",
    "    loss='mse',\n",
    "    optimizer='adam',\n",
    "    metrics=['mae'],\n",
    "    )\n",
    "\n",
    "model.fit(x_train, y_train, epochs=10)"
   ]
  },
  {
   "cell_type": "markdown",
   "metadata": {},
   "source": [
    "The below code makes predictions and then saves them (after checking they are in correct format).\n",
    "\n",
    "It converts to appropriate $\\texttt{.csv}$ for Kaggle submit."
   ]
  },
  {
   "cell_type": "code",
   "execution_count": 4,
   "metadata": {},
   "outputs": [
    {
     "name": "stdout",
     "output_type": "stream",
     "text": [
      "157/157 [==============================] - 0s 1ms/step\n"
     ]
    }
   ],
   "source": [
    "y_test_hat = model.predict(x_test)\n",
    "y_test_hat_pd = pd.DataFrame({\n",
    "    'Id': list(range(5000)),\n",
    "    'Predicted': y_test_hat.reshape(-1),\n",
    "})"
   ]
  },
  {
   "cell_type": "code",
   "execution_count": 5,
   "metadata": {},
   "outputs": [],
   "source": [
    "# After you make your predictions, you should submit them on the Kaggle webpage for our competition.\n",
    "\n",
    "# Below is a small check that your output has the right type and shape\n",
    "assert isinstance(y_test_hat_pd, pd.DataFrame)\n",
    "assert all(y_test_hat_pd.columns == ['Id', 'Predicted'])\n",
    "assert len(y_test_hat_pd) == 5000\n",
    "\n",
    "# If you pass the checks, the file is saved.\n",
    "y_test_hat_pd.to_csv('y_test_hat.csv', index=False)"
   ]
  }
 ],
 "metadata": {
  "kernelspec": {
   "display_name": "Python 3.10.4 ('amlfall22')",
   "language": "python",
   "name": "python3"
  },
  "language_info": {
   "codemirror_mode": {
    "name": "ipython",
    "version": 3
   },
   "file_extension": ".py",
   "mimetype": "text/x-python",
   "name": "python",
   "nbconvert_exporter": "python",
   "pygments_lexer": "ipython3",
   "version": "3.10.4"
  },
  "vscode": {
   "interpreter": {
    "hash": "d3cedec8935a2c28d6fd602c3007747750e2af1c4c937c29fac0d323bf1b544b"
   }
  }
 },
 "nbformat": 4,
 "nbformat_minor": 4
}
