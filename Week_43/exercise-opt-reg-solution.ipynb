{
 "cells": [
  {
   "cell_type": "markdown",
   "metadata": {},
   "source": [
    "# Exercises - optimization and regularization\n",
    "\n",
    "1. Use the fashion MNIST data. Build a baseline model and evaluate its performance. Go through (one at a time) early stopping, weight regularization, dropout, and batch normalization, and see how these change the performance of your model. Which method is - in isolation - best when applied to your model?\n",
    "1. Now combine the methods, such as applying early stopping *and* dropout simultaneously. Optimally, try to work through all combinations (also of more than 2 methods).\n",
    "1. Using a validation set and what you learned in (2), aim for the best model possible (preferably *without* using convolutional layers).\n",
    "\n",
    "**Note**: You may want to use:\n",
    "1. https://www.tensorflow.org/api_docs/python/tf/keras/callbacks/EarlyStopping\n",
    "1. https://www.tensorflow.org/api_docs/python/tf/keras/regularizers\n",
    "1. https://www.tensorflow.org/api_docs/python/tf/keras/layers/Dropout\n",
    "1. https://www.tensorflow.org/api_docs/python/tf/keras/layers/BatchNormalization\n",
    "\n",
    "**See slides for more details!**"
   ]
  },
  {
   "cell_type": "markdown",
   "metadata": {},
   "source": [
    "# Setup\n",
    "\n",
    "Consider implementing a validation set."
   ]
  },
  {
   "cell_type": "code",
   "execution_count": 1,
   "metadata": {},
   "outputs": [],
   "source": [
    "import tensorflow as tf\n",
    "from sklearn.model_selection import train_test_split\n",
    "\n",
    "from matplotlib import pyplot as plt\n",
    "\n",
    "(x_train_all, y_train_all), (x_test, y_test) = tf.keras.datasets.fashion_mnist.load_data()\n",
    "x_train, x_val, y_train, y_val = train_test_split(x_train_all, y_train_all,test_size=0.2, random_state=42)\n",
    "\n",
    "x_train_all = x_train_all / 255\n",
    "x_train     = x_train / 255\n",
    "x_val       = x_val  / 255\n",
    "x_test      = x_test / 255"
   ]
  },
  {
   "cell_type": "code",
   "execution_count": 2,
   "metadata": {},
   "outputs": [],
   "source": [
    "# I suggest you implement a function to quickly build models, \n",
    "# where you can tune size, regularization, dropout, and batch normalization (and perhaps more!)\n",
    "# You may draw inspiration from the function from the slides, but note that the large model from there may be\n",
    "# prohibitively large!\n",
    "def build_model(size, activation, weight_regularizer, dropout, batch_norm):\n",
    "    layers = [tf.keras.layers.Flatten(input_shape=(28, 28))]\n",
    "    \n",
    "    nb_layers = size\n",
    "    nb_neurons = size ** 2 * 4\n",
    "    \n",
    "    for i in range(nb_layers):\n",
    "        layers.append(tf.keras.layers.Dense(nb_neurons, activation=activation, \n",
    "                                            kernel_regularizer=weight_regularizer))\n",
    "        if batch_norm:\n",
    "            layers.append(tf.keras.layers.BatchNormalization())\n",
    "        if dropout:\n",
    "            layers.append(tf.keras.layers.Dropout(0.2))\n",
    "\n",
    "    layers.append(tf.keras.layers.Dense(10, activation='softmax'))\n",
    "    \n",
    "    model = tf.keras.models.Sequential(layers)\n",
    "    model.compile(\n",
    "        loss='sparse_categorical_crossentropy',\n",
    "        optimizer=tf.keras.optimizers.Adam(0.0001),\n",
    "        metrics=['sparse_categorical_crossentropy', 'accuracy'],\n",
    "        )\n",
    "    \n",
    "    return model"
   ]
  },
  {
   "cell_type": "code",
   "execution_count": 3,
   "metadata": {},
   "outputs": [],
   "source": [
    "def plot_histories(histories, names, measure,xlim_max=40,ylim_min=0,ylim_max=10):\n",
    "    measure_to_pretty = {'sparse_categorical_crossentropy': 'loss', \n",
    "                         'accuracy': 'accuracy'}\n",
    "    nb_histories = len(histories)\n",
    "    fig = plt.figure(figsize=plt.figaspect(0.1 * nb_histories))\n",
    "    \n",
    "    for i in range(nb_histories):\n",
    "        ax = fig.add_subplot(1, nb_histories, i + 1)\n",
    "        ax.plot(histories[i].history[f'val_{measure}'], \n",
    "                label=f'Test {measure_to_pretty[measure]}, {names[i]}')\n",
    "        plt.xlabel('Epoch')\n",
    "        plt.ylabel(measure)\n",
    "        plt.legend()\n",
    "        plt.xlim(0,xlim_max)\n",
    "        plt.ylim(ylim_min,ylim_max)\n",
    "        plt.draw()\n",
    "\n",
    "    plt.show()"
   ]
  },
  {
   "cell_type": "markdown",
   "metadata": {},
   "source": [
    "# Exercise 1\n",
    "\n",
    "Use the fashion MNIST data. Build a baseline model and evaluate its performance. Go through (one at a time) early stopping, weight regularization, dropout, and batch normalization, and see how these change the performance of your model. Which method is - in isolation - best when applied to your model?"
   ]
  },
  {
   "cell_type": "markdown",
   "metadata": {},
   "source": [
    "### Answer: \n",
    "It seems, from the lecture notes that dropout (in isolation) produces the best perfomance. Batch normalization combined with early stopping seems promising. Batch normalization and dropout perhaps combined with early stopping might also be a strong candidate."
   ]
  },
  {
   "cell_type": "markdown",
   "metadata": {},
   "source": [
    "# Exercise 2\n",
    "\n",
    "Now combine the methods, such as applying early stopping *and* dropout simultaneously. Optimally, try to work through all combinations (also of more than 2 methods)."
   ]
  },
  {
   "cell_type": "code",
   "execution_count": 4,
   "metadata": {},
   "outputs": [
    {
     "name": "stdout",
     "output_type": "stream",
     "text": [
      "Epoch 1/100\n",
      "1500/1500 [==============================] - 27s 16ms/step - loss: 0.7836 - sparse_categorical_crossentropy: 0.7836 - accuracy: 0.7277 - val_loss: 0.4846 - val_sparse_categorical_crossentropy: 0.4846 - val_accuracy: 0.8273\n",
      "Epoch 2/100\n",
      "1500/1500 [==============================] - 23s 15ms/step - loss: 0.5221 - sparse_categorical_crossentropy: 0.5221 - accuracy: 0.8129 - val_loss: 0.4343 - val_sparse_categorical_crossentropy: 0.4343 - val_accuracy: 0.8426\n",
      "Epoch 3/100\n",
      "1500/1500 [==============================] - 28s 18ms/step - loss: 0.4522 - sparse_categorical_crossentropy: 0.4522 - accuracy: 0.8374 - val_loss: 0.4001 - val_sparse_categorical_crossentropy: 0.4001 - val_accuracy: 0.8553\n",
      "Epoch 4/100\n",
      "1500/1500 [==============================] - 29s 19ms/step - loss: 0.4069 - sparse_categorical_crossentropy: 0.4069 - accuracy: 0.8518 - val_loss: 0.3899 - val_sparse_categorical_crossentropy: 0.3899 - val_accuracy: 0.8548\n",
      "Epoch 5/100\n",
      "1500/1500 [==============================] - 34s 23ms/step - loss: 0.3759 - sparse_categorical_crossentropy: 0.3759 - accuracy: 0.8621 - val_loss: 0.3682 - val_sparse_categorical_crossentropy: 0.3682 - val_accuracy: 0.8643\n",
      "Epoch 6/100\n",
      "1500/1500 [==============================] - 34s 23ms/step - loss: 0.3497 - sparse_categorical_crossentropy: 0.3497 - accuracy: 0.8699 - val_loss: 0.3380 - val_sparse_categorical_crossentropy: 0.3380 - val_accuracy: 0.8791\n",
      "Epoch 7/100\n",
      "1500/1500 [==============================] - 32s 22ms/step - loss: 0.3295 - sparse_categorical_crossentropy: 0.3295 - accuracy: 0.8779 - val_loss: 0.3484 - val_sparse_categorical_crossentropy: 0.3484 - val_accuracy: 0.8783\n",
      "Epoch 8/100\n",
      "1500/1500 [==============================] - 31s 21ms/step - loss: 0.3139 - sparse_categorical_crossentropy: 0.3139 - accuracy: 0.8844 - val_loss: 0.3410 - val_sparse_categorical_crossentropy: 0.3410 - val_accuracy: 0.8789\n",
      "Epoch 9/100\n",
      "1500/1500 [==============================] - 28s 19ms/step - loss: 0.2979 - sparse_categorical_crossentropy: 0.2979 - accuracy: 0.8892 - val_loss: 0.3452 - val_sparse_categorical_crossentropy: 0.3452 - val_accuracy: 0.8758\n",
      "Epoch 10/100\n",
      "1500/1500 [==============================] - 25s 16ms/step - loss: 0.2867 - sparse_categorical_crossentropy: 0.2867 - accuracy: 0.8928 - val_loss: 0.3537 - val_sparse_categorical_crossentropy: 0.3537 - val_accuracy: 0.8714\n",
      "Epoch 11/100\n",
      "1500/1500 [==============================] - 26s 17ms/step - loss: 0.2704 - sparse_categorical_crossentropy: 0.2704 - accuracy: 0.8990 - val_loss: 0.3737 - val_sparse_categorical_crossentropy: 0.3737 - val_accuracy: 0.8683\n"
     ]
    }
   ],
   "source": [
    "model_large_bn_es    = build_model(10, 'relu', None, False, True)\n",
    "callback_large_bn_es = tf.keras.callbacks.EarlyStopping(monitor='val_loss', patience=5)\n",
    "history_large_bn_es  = model_large_bn_es.fit(x_train, y_train, \n",
    "                                      validation_data=(x_val, y_val), \n",
    "                                      epochs=100, verbose=1,  \n",
    "                                      callbacks=[callback_large_bn_es])"
   ]
  },
  {
   "cell_type": "code",
   "execution_count": 5,
   "metadata": {},
   "outputs": [
    {
     "name": "stdout",
     "output_type": "stream",
     "text": [
      "Epoch 1/100\n",
      "1500/1500 [==============================] - 36s 23ms/step - loss: 1.4963 - sparse_categorical_crossentropy: 1.4963 - accuracy: 0.4986 - val_loss: 0.6684 - val_sparse_categorical_crossentropy: 0.6684 - val_accuracy: 0.7573\n",
      "Epoch 2/100\n",
      "1500/1500 [==============================] - 33s 22ms/step - loss: 0.8529 - sparse_categorical_crossentropy: 0.8529 - accuracy: 0.6958 - val_loss: 0.5356 - val_sparse_categorical_crossentropy: 0.5356 - val_accuracy: 0.8005\n",
      "Epoch 3/100\n",
      "1500/1500 [==============================] - 37s 25ms/step - loss: 0.7104 - sparse_categorical_crossentropy: 0.7104 - accuracy: 0.7542 - val_loss: 0.4564 - val_sparse_categorical_crossentropy: 0.4564 - val_accuracy: 0.8332\n",
      "Epoch 4/100\n",
      "1500/1500 [==============================] - 33s 22ms/step - loss: 0.6299 - sparse_categorical_crossentropy: 0.6299 - accuracy: 0.7806 - val_loss: 0.4185 - val_sparse_categorical_crossentropy: 0.4185 - val_accuracy: 0.8458\n",
      "Epoch 5/100\n",
      "1500/1500 [==============================] - 28s 19ms/step - loss: 0.5639 - sparse_categorical_crossentropy: 0.5639 - accuracy: 0.8019 - val_loss: 0.4011 - val_sparse_categorical_crossentropy: 0.4011 - val_accuracy: 0.8535\n",
      "Epoch 6/100\n",
      "1500/1500 [==============================] - 26s 18ms/step - loss: 0.5233 - sparse_categorical_crossentropy: 0.5233 - accuracy: 0.8168 - val_loss: 0.3761 - val_sparse_categorical_crossentropy: 0.3761 - val_accuracy: 0.8572\n",
      "Epoch 7/100\n",
      "1500/1500 [==============================] - 31s 21ms/step - loss: 0.4934 - sparse_categorical_crossentropy: 0.4934 - accuracy: 0.8258 - val_loss: 0.4002 - val_sparse_categorical_crossentropy: 0.4002 - val_accuracy: 0.8485\n",
      "Epoch 8/100\n",
      "1500/1500 [==============================] - 34s 23ms/step - loss: 0.4671 - sparse_categorical_crossentropy: 0.4671 - accuracy: 0.8347 - val_loss: 0.3531 - val_sparse_categorical_crossentropy: 0.3531 - val_accuracy: 0.8699\n",
      "Epoch 9/100\n",
      "1500/1500 [==============================] - 30s 20ms/step - loss: 0.4446 - sparse_categorical_crossentropy: 0.4446 - accuracy: 0.8428 - val_loss: 0.3471 - val_sparse_categorical_crossentropy: 0.3471 - val_accuracy: 0.8711\n",
      "Epoch 10/100\n",
      "1500/1500 [==============================] - 30s 20ms/step - loss: 0.4207 - sparse_categorical_crossentropy: 0.4207 - accuracy: 0.8498 - val_loss: 0.3434 - val_sparse_categorical_crossentropy: 0.3434 - val_accuracy: 0.8742\n",
      "Epoch 11/100\n",
      "1500/1500 [==============================] - 26s 17ms/step - loss: 0.4162 - sparse_categorical_crossentropy: 0.4162 - accuracy: 0.8509 - val_loss: 0.3425 - val_sparse_categorical_crossentropy: 0.3425 - val_accuracy: 0.8734\n",
      "Epoch 12/100\n",
      "1500/1500 [==============================] - 27s 18ms/step - loss: 0.3980 - sparse_categorical_crossentropy: 0.3980 - accuracy: 0.8579 - val_loss: 0.3301 - val_sparse_categorical_crossentropy: 0.3301 - val_accuracy: 0.8748\n",
      "Epoch 13/100\n",
      "1500/1500 [==============================] - 33s 22ms/step - loss: 0.3886 - sparse_categorical_crossentropy: 0.3886 - accuracy: 0.8613 - val_loss: 0.3317 - val_sparse_categorical_crossentropy: 0.3317 - val_accuracy: 0.8798\n",
      "Epoch 14/100\n",
      "1500/1500 [==============================] - 30s 20ms/step - loss: 0.3783 - sparse_categorical_crossentropy: 0.3783 - accuracy: 0.8645 - val_loss: 0.3213 - val_sparse_categorical_crossentropy: 0.3213 - val_accuracy: 0.8824\n",
      "Epoch 15/100\n",
      "1500/1500 [==============================] - 30s 20ms/step - loss: 0.3652 - sparse_categorical_crossentropy: 0.3652 - accuracy: 0.8683 - val_loss: 0.3209 - val_sparse_categorical_crossentropy: 0.3209 - val_accuracy: 0.8813\n",
      "Epoch 16/100\n",
      "1500/1500 [==============================] - 31s 21ms/step - loss: 0.3512 - sparse_categorical_crossentropy: 0.3512 - accuracy: 0.8740 - val_loss: 0.3117 - val_sparse_categorical_crossentropy: 0.3117 - val_accuracy: 0.8864\n",
      "Epoch 17/100\n",
      "1500/1500 [==============================] - 26s 17ms/step - loss: 0.3477 - sparse_categorical_crossentropy: 0.3477 - accuracy: 0.8727 - val_loss: 0.3245 - val_sparse_categorical_crossentropy: 0.3245 - val_accuracy: 0.8823\n",
      "Epoch 18/100\n",
      "1500/1500 [==============================] - 28s 18ms/step - loss: 0.3393 - sparse_categorical_crossentropy: 0.3393 - accuracy: 0.8782 - val_loss: 0.3341 - val_sparse_categorical_crossentropy: 0.3341 - val_accuracy: 0.8814\n",
      "Epoch 19/100\n",
      "1500/1500 [==============================] - 36s 24ms/step - loss: 0.3313 - sparse_categorical_crossentropy: 0.3313 - accuracy: 0.8806 - val_loss: 0.3148 - val_sparse_categorical_crossentropy: 0.3148 - val_accuracy: 0.8868\n",
      "Epoch 20/100\n",
      "1500/1500 [==============================] - 33s 22ms/step - loss: 0.3273 - sparse_categorical_crossentropy: 0.3273 - accuracy: 0.8820 - val_loss: 0.3132 - val_sparse_categorical_crossentropy: 0.3132 - val_accuracy: 0.8825\n",
      "Epoch 21/100\n",
      "1500/1500 [==============================] - 33s 22ms/step - loss: 0.3201 - sparse_categorical_crossentropy: 0.3201 - accuracy: 0.8845 - val_loss: 0.2996 - val_sparse_categorical_crossentropy: 0.2996 - val_accuracy: 0.8932\n",
      "Epoch 22/100\n",
      "1500/1500 [==============================] - 30s 20ms/step - loss: 0.3180 - sparse_categorical_crossentropy: 0.3180 - accuracy: 0.8862 - val_loss: 0.3043 - val_sparse_categorical_crossentropy: 0.3043 - val_accuracy: 0.8903\n",
      "Epoch 23/100\n",
      "1500/1500 [==============================] - 26s 17ms/step - loss: 0.3109 - sparse_categorical_crossentropy: 0.3109 - accuracy: 0.8885 - val_loss: 0.3053 - val_sparse_categorical_crossentropy: 0.3053 - val_accuracy: 0.8913\n",
      "Epoch 24/100\n",
      "1500/1500 [==============================] - 28s 19ms/step - loss: 0.3046 - sparse_categorical_crossentropy: 0.3046 - accuracy: 0.8903 - val_loss: 0.3134 - val_sparse_categorical_crossentropy: 0.3134 - val_accuracy: 0.8860\n",
      "Epoch 25/100\n",
      "1500/1500 [==============================] - 32s 21ms/step - loss: 0.3016 - sparse_categorical_crossentropy: 0.3016 - accuracy: 0.8907 - val_loss: 0.3040 - val_sparse_categorical_crossentropy: 0.3040 - val_accuracy: 0.8901\n",
      "Epoch 26/100\n",
      "1500/1500 [==============================] - 31s 21ms/step - loss: 0.2943 - sparse_categorical_crossentropy: 0.2943 - accuracy: 0.8925 - val_loss: 0.3032 - val_sparse_categorical_crossentropy: 0.3032 - val_accuracy: 0.8869\n"
     ]
    }
   ],
   "source": [
    "model_large_do_bn_es    = build_model(10, 'relu', None, True, True)\n",
    "callback_large_do_bn_es = tf.keras.callbacks.EarlyStopping(monitor='val_loss', patience=5)\n",
    "history_large_do_bn_es  = model_large_do_bn_es.fit(x_train, y_train, \n",
    "                                      validation_data=(x_val, y_val), \n",
    "                                      epochs=100, verbose=1,  \n",
    "                                      callbacks=[callback_large_do_bn_es])"
   ]
  },
  {
   "cell_type": "code",
   "execution_count": 6,
   "metadata": {},
   "outputs": [
    {
     "data": {
      "image/png": "[encoded data removed]",
      "text/plain": [
       "<Figure size 1152x230.4 with 2 Axes>"
      ]
     },
     "metadata": {
      "needs_background": "light"
     },
     "output_type": "display_data"
    },
    {
     "data": {
      "image/png": "[encoded data removed]",
      "text/plain": [
       "<Figure size 1152x230.4 with 2 Axes>"
      ]
     },
     "metadata": {
      "needs_background": "light"
     },
     "output_type": "display_data"
    }
   ],
   "source": [
    "plot_histories(histories=[history_large_bn_es, history_large_do_bn_es], \n",
    "               names=['large model: BN plus ES','large model: BN plus ES plus D0'], \n",
    "               measure='sparse_categorical_crossentropy',            \n",
    "               xlim_max=100,ylim_min=0.3,ylim_max=0.8)\n",
    "plot_histories(histories=[history_large_bn_es, history_large_do_bn_es], \n",
    "               names=['large model: BN plus ES','large model: BN plus ES plus D0'],\n",
    "               measure='accuracy', \n",
    "               xlim_max=100,ylim_min=0.6,ylim_max=0.95)"
   ]
  },
  {
   "cell_type": "code",
   "execution_count": 7,
   "metadata": {},
   "outputs": [
    {
     "name": "stdout",
     "output_type": "stream",
     "text": [
      "375/375 [==============================] - 3s 7ms/step - loss: 0.3737 - sparse_categorical_crossentropy: 0.3737 - accuracy: 0.8683\n",
      "375/375 [==============================] - 2s 6ms/step - loss: 0.3032 - sparse_categorical_crossentropy: 0.3032 - accuracy: 0.8869: 1s - loss: 0.3076 - sparse_categoric\n"
     ]
    },
    {
     "data": {
      "text/plain": [
       "[0.3031512200832367, 0.3031512200832367, 0.8869166374206543]"
      ]
     },
     "execution_count": 7,
     "metadata": {},
     "output_type": "execute_result"
    }
   ],
   "source": [
    "model_large_bn_es.evaluate(x_val, y_val)\n",
    "model_large_do_bn_es.evaluate(x_val, y_val)"
   ]
  },
  {
   "cell_type": "markdown",
   "metadata": {},
   "source": [
    "# Exercise 3\n",
    "\n",
    "Using a validation set and what you learned in (2), aim for the best model possible (preferably *without* using convolutional layers)."
   ]
  },
  {
   "cell_type": "code",
   "execution_count": 8,
   "metadata": {},
   "outputs": [
    {
     "name": "stdout",
     "output_type": "stream",
     "text": [
      "Epoch 1/100\n",
      "1875/1875 [==============================] - 35s 18ms/step - loss: 1.3737 - sparse_categorical_crossentropy: 1.3737 - accuracy: 0.5204 - val_loss: 0.6315 - val_sparse_categorical_crossentropy: 0.6315 - val_accuracy: 0.7690\n",
      "Epoch 2/100\n",
      "1875/1875 [==============================] - 32s 17ms/step - loss: 0.7904 - sparse_categorical_crossentropy: 0.7904 - accuracy: 0.7155 - val_loss: 0.5167 - val_sparse_categorical_crossentropy: 0.5167 - val_accuracy: 0.7991\n",
      "Epoch 3/100\n",
      "1875/1875 [==============================] - 32s 17ms/step - loss: 0.6507 - sparse_categorical_crossentropy: 0.6507 - accuracy: 0.7732 - val_loss: 0.4590 - val_sparse_categorical_crossentropy: 0.4590 - val_accuracy: 0.8363\n",
      "Epoch 4/100\n",
      "1875/1875 [==============================] - 32s 17ms/step - loss: 0.5745 - sparse_categorical_crossentropy: 0.5745 - accuracy: 0.8000 - val_loss: 0.4216 - val_sparse_categorical_crossentropy: 0.4216 - val_accuracy: 0.8465\n",
      "Epoch 5/100\n",
      "1875/1875 [==============================] - 37s 20ms/step - loss: 0.5251 - sparse_categorical_crossentropy: 0.5251 - accuracy: 0.8169 - val_loss: 0.4008 - val_sparse_categorical_crossentropy: 0.4008 - val_accuracy: 0.8553\n",
      "Epoch 6/100\n",
      "1875/1875 [==============================] - 38s 20ms/step - loss: 0.4829 - sparse_categorical_crossentropy: 0.4829 - accuracy: 0.8297 - val_loss: 0.3839 - val_sparse_categorical_crossentropy: 0.3839 - val_accuracy: 0.8626\n",
      "Epoch 7/100\n",
      "1875/1875 [==============================] - 40s 21ms/step - loss: 0.4620 - sparse_categorical_crossentropy: 0.4620 - accuracy: 0.8354 - val_loss: 0.3834 - val_sparse_categorical_crossentropy: 0.3834 - val_accuracy: 0.8601\n",
      "Epoch 8/100\n",
      "1875/1875 [==============================] - 32s 17ms/step - loss: 0.4355 - sparse_categorical_crossentropy: 0.4355 - accuracy: 0.8465 - val_loss: 0.3663 - val_sparse_categorical_crossentropy: 0.3663 - val_accuracy: 0.8697\n",
      "Epoch 9/100\n",
      "1875/1875 [==============================] - 35s 19ms/step - loss: 0.4113 - sparse_categorical_crossentropy: 0.4113 - accuracy: 0.8532 - val_loss: 0.3587 - val_sparse_categorical_crossentropy: 0.3587 - val_accuracy: 0.8685\n",
      "Epoch 10/100\n",
      "1875/1875 [==============================] - 40s 21ms/step - loss: 0.3990 - sparse_categorical_crossentropy: 0.3990 - accuracy: 0.8564 - val_loss: 0.3518 - val_sparse_categorical_crossentropy: 0.3518 - val_accuracy: 0.8741\n",
      "Epoch 11/100\n",
      "1875/1875 [==============================] - 46s 25ms/step - loss: 0.3861 - sparse_categorical_crossentropy: 0.3861 - accuracy: 0.8613 - val_loss: 0.3463 - val_sparse_categorical_crossentropy: 0.3463 - val_accuracy: 0.8761\n",
      "Epoch 12/100\n",
      "1875/1875 [==============================] - 34s 18ms/step - loss: 0.3761 - sparse_categorical_crossentropy: 0.3761 - accuracy: 0.8650 - val_loss: 0.3492 - val_sparse_categorical_crossentropy: 0.3492 - val_accuracy: 0.8747\n",
      "Epoch 13/100\n",
      "1875/1875 [==============================] - 38s 20ms/step - loss: 0.3656 - sparse_categorical_crossentropy: 0.3656 - accuracy: 0.8684 - val_loss: 0.3391 - val_sparse_categorical_crossentropy: 0.3391 - val_accuracy: 0.8755\n",
      "Epoch 14/100\n",
      "1875/1875 [==============================] - 39s 21ms/step - loss: 0.3589 - sparse_categorical_crossentropy: 0.3589 - accuracy: 0.8713 - val_loss: 0.3320 - val_sparse_categorical_crossentropy: 0.3320 - val_accuracy: 0.8780\n",
      "Epoch 15/100\n",
      "1875/1875 [==============================] - 39s 21ms/step - loss: 0.3510 - sparse_categorical_crossentropy: 0.3510 - accuracy: 0.8742 - val_loss: 0.3439 - val_sparse_categorical_crossentropy: 0.3439 - val_accuracy: 0.8767\n",
      "Epoch 16/100\n",
      "1875/1875 [==============================] - 38s 20ms/step - loss: 0.3391 - sparse_categorical_crossentropy: 0.3391 - accuracy: 0.8774 - val_loss: 0.3580 - val_sparse_categorical_crossentropy: 0.3580 - val_accuracy: 0.8721\n",
      "Epoch 17/100\n",
      "1875/1875 [==============================] - 32s 17ms/step - loss: 0.3338 - sparse_categorical_crossentropy: 0.3338 - accuracy: 0.8818 - val_loss: 0.3243 - val_sparse_categorical_crossentropy: 0.3243 - val_accuracy: 0.8857\n",
      "Epoch 18/100\n",
      "1875/1875 [==============================] - 38s 20ms/step - loss: 0.3268 - sparse_categorical_crossentropy: 0.3268 - accuracy: 0.8827 - val_loss: 0.3322 - val_sparse_categorical_crossentropy: 0.3322 - val_accuracy: 0.8787\n",
      "Epoch 19/100\n",
      "1875/1875 [==============================] - 40s 21ms/step - loss: 0.3200 - sparse_categorical_crossentropy: 0.3200 - accuracy: 0.8844 - val_loss: 0.3282 - val_sparse_categorical_crossentropy: 0.3282 - val_accuracy: 0.8781\n",
      "Epoch 20/100\n",
      "1875/1875 [==============================] - 38s 20ms/step - loss: 0.3128 - sparse_categorical_crossentropy: 0.3128 - accuracy: 0.8859 - val_loss: 0.3130 - val_sparse_categorical_crossentropy: 0.3130 - val_accuracy: 0.8883\n",
      "Epoch 21/100\n",
      "1875/1875 [==============================] - 32s 17ms/step - loss: 0.3059 - sparse_categorical_crossentropy: 0.3059 - accuracy: 0.8890 - val_loss: 0.3219 - val_sparse_categorical_crossentropy: 0.3219 - val_accuracy: 0.8848\n",
      "Epoch 22/100\n",
      "1875/1875 [==============================] - 35s 19ms/step - loss: 0.3051 - sparse_categorical_crossentropy: 0.3051 - accuracy: 0.8905 - val_loss: 0.3209 - val_sparse_categorical_crossentropy: 0.3209 - val_accuracy: 0.8829\n",
      "Epoch 23/100\n",
      "1875/1875 [==============================] - 40s 21ms/step - loss: 0.2973 - sparse_categorical_crossentropy: 0.2973 - accuracy: 0.8903 - val_loss: 0.3219 - val_sparse_categorical_crossentropy: 0.3219 - val_accuracy: 0.8795\n",
      "Epoch 24/100\n",
      "1875/1875 [==============================] - 39s 21ms/step - loss: 0.2941 - sparse_categorical_crossentropy: 0.2941 - accuracy: 0.8932 - val_loss: 0.3166 - val_sparse_categorical_crossentropy: 0.3166 - val_accuracy: 0.8837\n",
      "Epoch 25/100\n",
      "1875/1875 [==============================] - 35s 19ms/step - loss: 0.2886 - sparse_categorical_crossentropy: 0.2886 - accuracy: 0.8949 - val_loss: 0.3115 - val_sparse_categorical_crossentropy: 0.3115 - val_accuracy: 0.8885\n",
      "Epoch 26/100\n",
      "1875/1875 [==============================] - 32s 17ms/step - loss: 0.2857 - sparse_categorical_crossentropy: 0.2857 - accuracy: 0.8969 - val_loss: 0.3155 - val_sparse_categorical_crossentropy: 0.3155 - val_accuracy: 0.8855\n",
      "Epoch 27/100\n",
      "1875/1875 [==============================] - 39s 21ms/step - loss: 0.2808 - sparse_categorical_crossentropy: 0.2808 - accuracy: 0.8976 - val_loss: 0.3091 - val_sparse_categorical_crossentropy: 0.3091 - val_accuracy: 0.8866\n",
      "Epoch 28/100\n",
      "1875/1875 [==============================] - 37s 20ms/step - loss: 0.2802 - sparse_categorical_crossentropy: 0.2802 - accuracy: 0.8989 - val_loss: 0.3063 - val_sparse_categorical_crossentropy: 0.3063 - val_accuracy: 0.8891\n",
      "Epoch 29/100\n",
      "1875/1875 [==============================] - 36s 19ms/step - loss: 0.2723 - sparse_categorical_crossentropy: 0.2723 - accuracy: 0.8997 - val_loss: 0.3202 - val_sparse_categorical_crossentropy: 0.3202 - val_accuracy: 0.8876\n",
      "Epoch 30/100\n",
      "1875/1875 [==============================] - 33s 18ms/step - loss: 0.2694 - sparse_categorical_crossentropy: 0.2694 - accuracy: 0.9018 - val_loss: 0.3110 - val_sparse_categorical_crossentropy: 0.3110 - val_accuracy: 0.8894\n",
      "Epoch 31/100\n",
      "1875/1875 [==============================] - 38s 20ms/step - loss: 0.2658 - sparse_categorical_crossentropy: 0.2658 - accuracy: 0.9026 - val_loss: 0.3142 - val_sparse_categorical_crossentropy: 0.3142 - val_accuracy: 0.8896\n",
      "Epoch 32/100\n",
      "1875/1875 [==============================] - 39s 21ms/step - loss: 0.2638 - sparse_categorical_crossentropy: 0.2638 - accuracy: 0.9024 - val_loss: 0.3084 - val_sparse_categorical_crossentropy: 0.3084 - val_accuracy: 0.8909\n",
      "Epoch 33/100\n",
      "1875/1875 [==============================] - 39s 21ms/step - loss: 0.2632 - sparse_categorical_crossentropy: 0.2632 - accuracy: 0.9040 - val_loss: 0.3096 - val_sparse_categorical_crossentropy: 0.3096 - val_accuracy: 0.8925\n",
      "Epoch 34/100\n",
      "1875/1875 [==============================] - 37s 20ms/step - loss: 0.2549 - sparse_categorical_crossentropy: 0.2549 - accuracy: 0.9062 - val_loss: 0.3070 - val_sparse_categorical_crossentropy: 0.3070 - val_accuracy: 0.8947\n",
      "Epoch 35/100\n",
      "1875/1875 [==============================] - 32s 17ms/step - loss: 0.2570 - sparse_categorical_crossentropy: 0.2570 - accuracy: 0.9055 - val_loss: 0.3060 - val_sparse_categorical_crossentropy: 0.3060 - val_accuracy: 0.8904\n",
      "Epoch 36/100\n",
      "1875/1875 [==============================] - 36s 19ms/step - loss: 0.2510 - sparse_categorical_crossentropy: 0.2510 - accuracy: 0.9079 - val_loss: 0.3055 - val_sparse_categorical_crossentropy: 0.3055 - val_accuracy: 0.8942\n",
      "Epoch 37/100\n",
      "1875/1875 [==============================] - 39s 21ms/step - loss: 0.2486 - sparse_categorical_crossentropy: 0.2486 - accuracy: 0.9110 - val_loss: 0.3044 - val_sparse_categorical_crossentropy: 0.3044 - val_accuracy: 0.8965\n",
      "Epoch 38/100\n",
      "1875/1875 [==============================] - 38s 20ms/step - loss: 0.2476 - sparse_categorical_crossentropy: 0.2476 - accuracy: 0.9096 - val_loss: 0.3136 - val_sparse_categorical_crossentropy: 0.3136 - val_accuracy: 0.8893\n",
      "Epoch 39/100\n",
      "1875/1875 [==============================] - 33s 18ms/step - loss: 0.2437 - sparse_categorical_crossentropy: 0.2437 - accuracy: 0.9103 - val_loss: 0.3142 - val_sparse_categorical_crossentropy: 0.3142 - val_accuracy: 0.8889\n",
      "Epoch 40/100\n",
      "1875/1875 [==============================] - 32s 17ms/step - loss: 0.2437 - sparse_categorical_crossentropy: 0.2437 - accuracy: 0.9104 - val_loss: 0.3113 - val_sparse_categorical_crossentropy: 0.3113 - val_accuracy: 0.8911\n",
      "Epoch 41/100\n",
      "1875/1875 [==============================] - 38s 20ms/step - loss: 0.2407 - sparse_categorical_crossentropy: 0.2407 - accuracy: 0.9103 - val_loss: 0.3065 - val_sparse_categorical_crossentropy: 0.3065 - val_accuracy: 0.8907\n",
      "Epoch 42/100\n",
      "1875/1875 [==============================] - 37s 20ms/step - loss: 0.2355 - sparse_categorical_crossentropy: 0.2355 - accuracy: 0.9129 - val_loss: 0.3000 - val_sparse_categorical_crossentropy: 0.3000 - val_accuracy: 0.8940\n",
      "Epoch 43/100\n",
      "1875/1875 [==============================] - 36s 19ms/step - loss: 0.2374 - sparse_categorical_crossentropy: 0.2374 - accuracy: 0.9144 - val_loss: 0.3111 - val_sparse_categorical_crossentropy: 0.3111 - val_accuracy: 0.8915\n",
      "Epoch 44/100\n",
      "1875/1875 [==============================] - 32s 17ms/step - loss: 0.2342 - sparse_categorical_crossentropy: 0.2342 - accuracy: 0.9157 - val_loss: 0.3032 - val_sparse_categorical_crossentropy: 0.3032 - val_accuracy: 0.8932\n",
      "Epoch 45/100\n",
      "1875/1875 [==============================] - 37s 20ms/step - loss: 0.2325 - sparse_categorical_crossentropy: 0.2325 - accuracy: 0.9144 - val_loss: 0.3179 - val_sparse_categorical_crossentropy: 0.3179 - val_accuracy: 0.8921\n",
      "Epoch 46/100\n",
      "1875/1875 [==============================] - 39s 21ms/step - loss: 0.2292 - sparse_categorical_crossentropy: 0.2292 - accuracy: 0.9167 - val_loss: 0.2985 - val_sparse_categorical_crossentropy: 0.2985 - val_accuracy: 0.8967\n",
      "Epoch 47/100\n",
      "1875/1875 [==============================] - 38s 20ms/step - loss: 0.2282 - sparse_categorical_crossentropy: 0.2282 - accuracy: 0.9166 - val_loss: 0.2990 - val_sparse_categorical_crossentropy: 0.2990 - val_accuracy: 0.8931\n",
      "Epoch 48/100\n",
      "1875/1875 [==============================] - 31s 17ms/step - loss: 0.2275 - sparse_categorical_crossentropy: 0.2275 - accuracy: 0.9160 - val_loss: 0.2960 - val_sparse_categorical_crossentropy: 0.2960 - val_accuracy: 0.8967\n",
      "Epoch 49/100\n",
      "1875/1875 [==============================] - 35s 19ms/step - loss: 0.2229 - sparse_categorical_crossentropy: 0.2229 - accuracy: 0.9180 - val_loss: 0.3013 - val_sparse_categorical_crossentropy: 0.3013 - val_accuracy: 0.8985\n",
      "Epoch 50/100\n",
      "1875/1875 [==============================] - 39s 21ms/step - loss: 0.2183 - sparse_categorical_crossentropy: 0.2183 - accuracy: 0.9204 - val_loss: 0.3031 - val_sparse_categorical_crossentropy: 0.3031 - val_accuracy: 0.8958\n",
      "Epoch 51/100\n",
      "1875/1875 [==============================] - 39s 21ms/step - loss: 0.2210 - sparse_categorical_crossentropy: 0.2210 - accuracy: 0.9198 - val_loss: 0.3176 - val_sparse_categorical_crossentropy: 0.3176 - val_accuracy: 0.8887\n",
      "Epoch 52/100\n",
      "1875/1875 [==============================] - 32s 17ms/step - loss: 0.2209 - sparse_categorical_crossentropy: 0.2209 - accuracy: 0.9193 - val_loss: 0.3106 - val_sparse_categorical_crossentropy: 0.3106 - val_accuracy: 0.8951\n",
      "Epoch 53/100\n",
      "1875/1875 [==============================] - 33s 17ms/step - loss: 0.2171 - sparse_categorical_crossentropy: 0.2171 - accuracy: 0.9203 - val_loss: 0.3107 - val_sparse_categorical_crossentropy: 0.3107 - val_accuracy: 0.8928\n",
      "Epoch 54/100\n",
      "1875/1875 [==============================] - 39s 21ms/step - loss: 0.2102 - sparse_categorical_crossentropy: 0.2102 - accuracy: 0.9216 - val_loss: 0.3146 - val_sparse_categorical_crossentropy: 0.3146 - val_accuracy: 0.8930\n",
      "Epoch 55/100\n",
      "1875/1875 [==============================] - 39s 21ms/step - loss: 0.2134 - sparse_categorical_crossentropy: 0.2134 - accuracy: 0.9217 - val_loss: 0.3034 - val_sparse_categorical_crossentropy: 0.3034 - val_accuracy: 0.8984\n",
      "Epoch 56/100\n",
      "1875/1875 [==============================] - 34s 18ms/step - loss: 0.2105 - sparse_categorical_crossentropy: 0.2105 - accuracy: 0.9220 - val_loss: 0.3074 - val_sparse_categorical_crossentropy: 0.3074 - val_accuracy: 0.8930\n",
      "Epoch 57/100\n",
      "1875/1875 [==============================] - 32s 17ms/step - loss: 0.2094 - sparse_categorical_crossentropy: 0.2094 - accuracy: 0.9235 - val_loss: 0.3017 - val_sparse_categorical_crossentropy: 0.3017 - val_accuracy: 0.8976\n",
      "Epoch 58/100\n",
      "1875/1875 [==============================] - 38s 20ms/step - loss: 0.2079 - sparse_categorical_crossentropy: 0.2079 - accuracy: 0.9245 - val_loss: 0.3076 - val_sparse_categorical_crossentropy: 0.3076 - val_accuracy: 0.8977\n",
      "Epoch 59/100\n",
      "1875/1875 [==============================] - 38s 20ms/step - loss: 0.2049 - sparse_categorical_crossentropy: 0.2049 - accuracy: 0.9246 - val_loss: 0.3067 - val_sparse_categorical_crossentropy: 0.3067 - val_accuracy: 0.8975\n",
      "Epoch 60/100\n",
      "1875/1875 [==============================] - 37s 20ms/step - loss: 0.2040 - sparse_categorical_crossentropy: 0.2040 - accuracy: 0.9255 - val_loss: 0.3016 - val_sparse_categorical_crossentropy: 0.3016 - val_accuracy: 0.8980\n",
      "Epoch 61/100\n",
      "1875/1875 [==============================] - 32s 17ms/step - loss: 0.1989 - sparse_categorical_crossentropy: 0.1989 - accuracy: 0.9272 - val_loss: 0.2969 - val_sparse_categorical_crossentropy: 0.2969 - val_accuracy: 0.9008\n",
      "Epoch 62/100\n",
      "1875/1875 [==============================] - 34s 18ms/step - loss: 0.1978 - sparse_categorical_crossentropy: 0.1978 - accuracy: 0.9279 - val_loss: 0.3019 - val_sparse_categorical_crossentropy: 0.3019 - val_accuracy: 0.9016\n",
      "Epoch 63/100\n",
      "1875/1875 [==============================] - 37s 20ms/step - loss: 0.1928 - sparse_categorical_crossentropy: 0.1928 - accuracy: 0.9284 - val_loss: 0.3026 - val_sparse_categorical_crossentropy: 0.3026 - val_accuracy: 0.8987\n",
      "Epoch 64/100\n",
      "1875/1875 [==============================] - 39s 21ms/step - loss: 0.1972 - sparse_categorical_crossentropy: 0.1972 - accuracy: 0.9284 - val_loss: 0.3083 - val_sparse_categorical_crossentropy: 0.3083 - val_accuracy: 0.8982\n",
      "Epoch 65/100\n",
      "1875/1875 [==============================] - 36s 19ms/step - loss: 0.1943 - sparse_categorical_crossentropy: 0.1943 - accuracy: 0.9297 - val_loss: 0.3094 - val_sparse_categorical_crossentropy: 0.3094 - val_accuracy: 0.8991\n",
      "Epoch 66/100\n",
      "1875/1875 [==============================] - 32s 17ms/step - loss: 0.1919 - sparse_categorical_crossentropy: 0.1919 - accuracy: 0.9293 - val_loss: 0.3079 - val_sparse_categorical_crossentropy: 0.3079 - val_accuracy: 0.8985\n",
      "Epoch 67/100\n",
      "1875/1875 [==============================] - 37s 20ms/step - loss: 0.1926 - sparse_categorical_crossentropy: 0.1926 - accuracy: 0.9285 - val_loss: 0.3028 - val_sparse_categorical_crossentropy: 0.3028 - val_accuracy: 0.9001\n",
      "Epoch 68/100\n",
      "1875/1875 [==============================] - 39s 21ms/step - loss: 0.1964 - sparse_categorical_crossentropy: 0.1964 - accuracy: 0.9277 - val_loss: 0.3025 - val_sparse_categorical_crossentropy: 0.3025 - val_accuracy: 0.8999\n",
      "Epoch 69/100\n"
     ]
    },
    {
     "name": "stdout",
     "output_type": "stream",
     "text": [
      "1875/1875 [==============================] - 37s 20ms/step - loss: 0.1900 - sparse_categorical_crossentropy: 0.1900 - accuracy: 0.9314 - val_loss: 0.3020 - val_sparse_categorical_crossentropy: 0.3020 - val_accuracy: 0.8968\n",
      "Epoch 70/100\n",
      "1875/1875 [==============================] - 32s 17ms/step - loss: 0.1872 - sparse_categorical_crossentropy: 0.1872 - accuracy: 0.9312 - val_loss: 0.3121 - val_sparse_categorical_crossentropy: 0.3121 - val_accuracy: 0.8981\n",
      "Epoch 71/100\n",
      "1875/1875 [==============================] - 35s 19ms/step - loss: 0.1842 - sparse_categorical_crossentropy: 0.1842 - accuracy: 0.9326 - val_loss: 0.3174 - val_sparse_categorical_crossentropy: 0.3174 - val_accuracy: 0.8979\n",
      "Epoch 72/100\n",
      "1875/1875 [==============================] - 37s 20ms/step - loss: 0.1864 - sparse_categorical_crossentropy: 0.1864 - accuracy: 0.9321 - val_loss: 0.3077 - val_sparse_categorical_crossentropy: 0.3077 - val_accuracy: 0.9005\n",
      "Epoch 73/100\n",
      "1875/1875 [==============================] - 42s 22ms/step - loss: 0.1835 - sparse_categorical_crossentropy: 0.1835 - accuracy: 0.9337 - val_loss: 0.3199 - val_sparse_categorical_crossentropy: 0.3199 - val_accuracy: 0.9010\n",
      "Epoch 74/100\n",
      "1875/1875 [==============================] - 36s 19ms/step - loss: 0.1821 - sparse_categorical_crossentropy: 0.1821 - accuracy: 0.9329 - val_loss: 0.3102 - val_sparse_categorical_crossentropy: 0.3102 - val_accuracy: 0.8963\n",
      "Epoch 75/100\n",
      "1875/1875 [==============================] - 32s 17ms/step - loss: 0.1861 - sparse_categorical_crossentropy: 0.1861 - accuracy: 0.9319 - val_loss: 0.3172 - val_sparse_categorical_crossentropy: 0.3172 - val_accuracy: 0.8961\n",
      "Epoch 76/100\n",
      "1875/1875 [==============================] - 37s 20ms/step - loss: 0.1858 - sparse_categorical_crossentropy: 0.1858 - accuracy: 0.9319 - val_loss: 0.3062 - val_sparse_categorical_crossentropy: 0.3062 - val_accuracy: 0.8974\n",
      "Epoch 77/100\n",
      "1875/1875 [==============================] - 37s 20ms/step - loss: 0.1812 - sparse_categorical_crossentropy: 0.1812 - accuracy: 0.9331 - val_loss: 0.3044 - val_sparse_categorical_crossentropy: 0.3044 - val_accuracy: 0.8966\n",
      "Epoch 78/100\n",
      "1875/1875 [==============================] - 39s 21ms/step - loss: 0.1791 - sparse_categorical_crossentropy: 0.1791 - accuracy: 0.9336 - val_loss: 0.3017 - val_sparse_categorical_crossentropy: 0.3017 - val_accuracy: 0.9019\n",
      "Epoch 79/100\n",
      "1875/1875 [==============================] - 33s 17ms/step - loss: 0.1775 - sparse_categorical_crossentropy: 0.1775 - accuracy: 0.9353 - val_loss: 0.3073 - val_sparse_categorical_crossentropy: 0.3073 - val_accuracy: 0.8992\n",
      "Epoch 80/100\n",
      "1875/1875 [==============================] - 36s 19ms/step - loss: 0.1772 - sparse_categorical_crossentropy: 0.1772 - accuracy: 0.9343 - val_loss: 0.3228 - val_sparse_categorical_crossentropy: 0.3228 - val_accuracy: 0.8959\n",
      "Epoch 81/100\n",
      "1875/1875 [==============================] - 39s 21ms/step - loss: 0.1733 - sparse_categorical_crossentropy: 0.1733 - accuracy: 0.9374 - val_loss: 0.3179 - val_sparse_categorical_crossentropy: 0.3179 - val_accuracy: 0.8989\n",
      "Epoch 82/100\n",
      "1875/1875 [==============================] - 39s 21ms/step - loss: 0.1758 - sparse_categorical_crossentropy: 0.1758 - accuracy: 0.9362 - val_loss: 0.3078 - val_sparse_categorical_crossentropy: 0.3078 - val_accuracy: 0.8971\n",
      "Epoch 83/100\n",
      "1875/1875 [==============================] - 33s 17ms/step - loss: 0.1735 - sparse_categorical_crossentropy: 0.1735 - accuracy: 0.9354 - val_loss: 0.3073 - val_sparse_categorical_crossentropy: 0.3073 - val_accuracy: 0.8982\n",
      "Epoch 84/100\n",
      "1875/1875 [==============================] - 35s 19ms/step - loss: 0.1733 - sparse_categorical_crossentropy: 0.1733 - accuracy: 0.9372 - val_loss: 0.3056 - val_sparse_categorical_crossentropy: 0.3056 - val_accuracy: 0.8958\n",
      "Epoch 85/100\n",
      "1875/1875 [==============================] - 39s 21ms/step - loss: 0.1694 - sparse_categorical_crossentropy: 0.1694 - accuracy: 0.9378 - val_loss: 0.3242 - val_sparse_categorical_crossentropy: 0.3242 - val_accuracy: 0.8986\n",
      "Epoch 86/100\n",
      "1875/1875 [==============================] - 39s 21ms/step - loss: 0.1723 - sparse_categorical_crossentropy: 0.1723 - accuracy: 0.9362 - val_loss: 0.3038 - val_sparse_categorical_crossentropy: 0.3038 - val_accuracy: 0.9020\n",
      "Epoch 87/100\n",
      "1875/1875 [==============================] - 36s 19ms/step - loss: 0.1698 - sparse_categorical_crossentropy: 0.1698 - accuracy: 0.9371 - val_loss: 0.3253 - val_sparse_categorical_crossentropy: 0.3253 - val_accuracy: 0.8957\n",
      "Epoch 88/100\n",
      "1875/1875 [==============================] - 31s 17ms/step - loss: 0.1675 - sparse_categorical_crossentropy: 0.1675 - accuracy: 0.9387 - val_loss: 0.3247 - val_sparse_categorical_crossentropy: 0.3247 - val_accuracy: 0.8976\n",
      "Epoch 89/100\n",
      "1875/1875 [==============================] - 37s 20ms/step - loss: 0.1659 - sparse_categorical_crossentropy: 0.1659 - accuracy: 0.9387 - val_loss: 0.3249 - val_sparse_categorical_crossentropy: 0.3249 - val_accuracy: 0.8987\n",
      "Epoch 90/100\n",
      "1875/1875 [==============================] - 39s 21ms/step - loss: 0.1648 - sparse_categorical_crossentropy: 0.1648 - accuracy: 0.9411 - val_loss: 0.3190 - val_sparse_categorical_crossentropy: 0.3190 - val_accuracy: 0.8981\n",
      "Epoch 91/100\n",
      "1875/1875 [==============================] - 38s 20ms/step - loss: 0.1677 - sparse_categorical_crossentropy: 0.1677 - accuracy: 0.9384 - val_loss: 0.3257 - val_sparse_categorical_crossentropy: 0.3257 - val_accuracy: 0.8988\n",
      "Epoch 92/100\n",
      "1875/1875 [==============================] - 32s 17ms/step - loss: 0.1680 - sparse_categorical_crossentropy: 0.1680 - accuracy: 0.9387 - val_loss: 0.3288 - val_sparse_categorical_crossentropy: 0.3288 - val_accuracy: 0.8967\n",
      "Epoch 93/100\n",
      "1875/1875 [==============================] - 37s 20ms/step - loss: 0.1618 - sparse_categorical_crossentropy: 0.1618 - accuracy: 0.9399 - val_loss: 0.3212 - val_sparse_categorical_crossentropy: 0.3212 - val_accuracy: 0.8975\n",
      "Epoch 94/100\n",
      "1875/1875 [==============================] - 38s 21ms/step - loss: 0.1620 - sparse_categorical_crossentropy: 0.1620 - accuracy: 0.9407 - val_loss: 0.3176 - val_sparse_categorical_crossentropy: 0.3176 - val_accuracy: 0.8997\n",
      "Epoch 95/100\n",
      "1875/1875 [==============================] - 37s 20ms/step - loss: 0.1620 - sparse_categorical_crossentropy: 0.1620 - accuracy: 0.9409 - val_loss: 0.3406 - val_sparse_categorical_crossentropy: 0.3406 - val_accuracy: 0.8938\n",
      "Epoch 96/100\n",
      "1875/1875 [==============================] - 33s 18ms/step - loss: 0.1629 - sparse_categorical_crossentropy: 0.1629 - accuracy: 0.9404 - val_loss: 0.3134 - val_sparse_categorical_crossentropy: 0.3134 - val_accuracy: 0.9022\n",
      "Epoch 97/100\n",
      "1875/1875 [==============================] - 34s 18ms/step - loss: 0.1577 - sparse_categorical_crossentropy: 0.1577 - accuracy: 0.9423 - val_loss: 0.3136 - val_sparse_categorical_crossentropy: 0.3136 - val_accuracy: 0.8995\n",
      "Epoch 98/100\n",
      "1875/1875 [==============================] - 39s 21ms/step - loss: 0.1535 - sparse_categorical_crossentropy: 0.1535 - accuracy: 0.9433 - val_loss: 0.3270 - val_sparse_categorical_crossentropy: 0.3270 - val_accuracy: 0.8985\n",
      "Epoch 99/100\n",
      "1875/1875 [==============================] - 38s 20ms/step - loss: 0.1586 - sparse_categorical_crossentropy: 0.1586 - accuracy: 0.9431 - val_loss: 0.3178 - val_sparse_categorical_crossentropy: 0.3178 - val_accuracy: 0.9004\n",
      "Epoch 100/100\n",
      "1875/1875 [==============================] - 34s 18ms/step - loss: 0.1562 - sparse_categorical_crossentropy: 0.1562 - accuracy: 0.9428 - val_loss: 0.3364 - val_sparse_categorical_crossentropy: 0.3364 - val_accuracy: 0.8928\n"
     ]
    }
   ],
   "source": [
    "model_large_do_bn    = build_model(10, 'relu', None, True, True)\n",
    "history_large_do_bn  = model_large_do_bn.fit(x_train_all, y_train_all, \n",
    "                                      validation_data=(x_test, y_test), \n",
    "                                      epochs=100, verbose=1)"
   ]
  },
  {
   "cell_type": "code",
   "execution_count": 9,
   "metadata": {},
   "outputs": [
    {
     "data": {
      "image/png": "[encoded data removed]",
      "text/plain": [
       "<Figure size 1152x144 with 1 Axes>"
      ]
     },
     "metadata": {
      "needs_background": "light"
     },
     "output_type": "display_data"
    },
    {
     "data": {
      "image/png": "[encoded data removed]",
      "text/plain": [
       "<Figure size 1152x144 with 1 Axes>"
      ]
     },
     "metadata": {
      "needs_background": "light"
     },
     "output_type": "display_data"
    }
   ],
   "source": [
    "plot_histories(histories=[history_large_do_bn], \n",
    "               names=['large model: BN plus D0'], \n",
    "               measure='sparse_categorical_crossentropy',            \n",
    "               xlim_max=100,ylim_min=0.3,ylim_max=0.8)\n",
    "plot_histories(histories=[history_large_do_bn], \n",
    "               names=['large model: BN plus D0'],\n",
    "               measure='accuracy', \n",
    "               xlim_max=100,ylim_min=0.6,ylim_max=0.95)"
   ]
  },
  {
   "cell_type": "code",
   "execution_count": 10,
   "metadata": {},
   "outputs": [
    {
     "name": "stdout",
     "output_type": "stream",
     "text": [
      "313/313 [==============================] - 2s 5ms/step - loss: 0.3364 - sparse_categorical_crossentropy: 0.3364 - accuracy: 0.8928\n"
     ]
    },
    {
     "data": {
      "text/plain": [
       "[0.3363952338695526, 0.3363952338695526, 0.892799973487854]"
      ]
     },
     "execution_count": 10,
     "metadata": {},
     "output_type": "execute_result"
    }
   ],
   "source": [
    "model_large_do_bn.evaluate(x_test, y_test)"
   ]
  }
 ],
 "metadata": {
  "kernelspec": {
   "display_name": "Python 3",
   "language": "python",
   "name": "python3"
  },
  "language_info": {
   "codemirror_mode": {
    "name": "ipython",
    "version": 3
   },
   "file_extension": ".py",
   "mimetype": "text/x-python",
   "name": "python",
   "nbconvert_exporter": "python",
   "pygments_lexer": "ipython3",
   "version": "3.10.4"
  }
 },
 "nbformat": 4,
 "nbformat_minor": 4
}
