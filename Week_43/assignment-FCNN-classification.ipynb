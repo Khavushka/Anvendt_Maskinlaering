{
 "cells": [
  {
   "cell_type": "markdown",
   "metadata": {},
   "source": [
    "# Assignment - classification\n",
    "\n",
    "Hi there! In this assignment, you will use a fully connected neural network (FCNN) to solve an adapted Question 1 of the winter 2023 exam in applied machine learning:\n",
    "\n",
    "As in Assignment 1, the primary objective of this exam is to perform image classification using the PCam dataset. For a detailed description of the dataset, please refer to the assignment 1 description. The assignment is posted as a Kaggle competition and is available here: https://www.kaggle.com/t/cda2949c5097437581cdb9abd32091ae\n",
    "\n",
    "To get you started, I have provided a complete working example, which is decent but not very impressive.\n",
    "\n",
    "When you are done, submit your results on the Kaggle webpage for this competition. If you do not like to show your score to everyone, you may use an anonymous username on Kaggle.\n",
    "\n",
    "However, I suggest you use your real name, after all it is just meant as an exercise and it is more fun that way. You can submit 5 times every day, so you can experiment with some stuff without being \"locked in\".\n",
    "\n",
    "# Details\n",
    "\n",
    "The metric used to score this assignment is accuracy (as in the first assignment).\n",
    "\n",
    "### Question (adapted from the exam):\n",
    "Use FCNN to perform image classification (tumor detection). Consider among other things the following:\n",
    "1. Different activation functions\n",
    "2. Different number of layers\n",
    "3. Different number of neurons in each layer\n",
    "4. Different learning rates\n",
    "5. Different batch sizes\n",
    "6. Different number of epochs\n",
    "7. Different optimizers\n",
    "\n",
    "**Note:** When you do hyperparameter tuning, you should use the validation set. The test set should only be used for the final evaluation.\n"
   ]
  },
  {
   "cell_type": "markdown",
   "metadata": {},
   "source": [
    "# Hints to get you started (with a very simple model)"
   ]
  },
  {
   "cell_type": "code",
   "execution_count": 53,
   "metadata": {},
   "outputs": [],
   "source": [
    "import tensorflow as tf\n",
    "from tensorflow.keras.optimizers import SGD\n",
    "import numpy as np\n",
    "from sklearn.preprocessing import StandardScaler\n",
    "import pandas as pd"
   ]
  },
  {
   "cell_type": "markdown",
   "metadata": {},
   "source": [
    "Defining a function that takes a (None,96,96,3) array and turn it into (None, 32,32,1) (grayscale, resize and normalize). This function might also become handy if the original images are too large for your hardware configuration."
   ]
  },
  {
   "cell_type": "code",
   "execution_count": 55,
   "metadata": {},
   "outputs": [],
   "source": [
    "def resize_and_normalize_image(image):\n",
    "    image = tf.image.resize(image,[32,32])\n",
    "    image = tf.image.rgb_to_grayscale(image)\n",
    "    return image / 255.0\n",
    "\n",
    "def convert_sample(data):\n",
    "\n",
    "# Create a TensorFlow dataset from the training data features\n",
    "    dataset = tf.data.Dataset.from_tensor_slices(data)\n",
    "\n",
    "# Define a function to resize each image in the dataset\n",
    "\n",
    "# Apply the resize function to each image in the dataset\n",
    "    resized_dataset = dataset.map(resize_and_normalize_image)\n",
    "\n",
    "# Convert the resized dataset to a NumPy array\n",
    "    resized_arr = np.array(list(resized_dataset.as_numpy_iterator()))\n",
    "\n",
    "    return resized_arr"
   ]
  },
  {
   "cell_type": "code",
   "execution_count": 65,
   "metadata": {},
   "outputs": [
    {
     "name": "stdout",
     "output_type": "stream",
     "text": [
      "Shape of the raw training data: (26214, 96, 96, 3)\n",
      "Shape of the raw test data: (1638, 96, 96, 3)\n",
      "Shape the resized training data: (26214, 32, 32, 1)\n",
      "Shape the resized test data: (1638, 32, 32, 1)\n",
      "Shape of the raw labels: (26214, 1)\n"
     ]
    }
   ],
   "source": [
    "# Load the training data features\n",
    "X_train_raw = np.load('/mnt/c/Users/cmd/Dropbox/Teaching/amlFall2023/assignments/Xtrain.npy')\n",
    "print(f'Shape of the raw training data: {X_train_raw.shape}')\n",
    "X_test_raw = np.load('/mnt/c/Users/cmd/Dropbox/Teaching/amlFall2023/assignments/Xtest.npy')\n",
    "print(f'Shape of the raw test data: {X_test_raw.shape}')\n",
    "\n",
    "X_train = convert_sample(X_train_raw)\n",
    "print(f'Shape the resized training data: {X_train.shape}')\n",
    "\n",
    "X_test = convert_sample(X_test_raw)\n",
    "print(f'Shape the resized test data: {X_test.shape}')\n",
    "\n",
    "y_raw = np.load('/mnt/c/Users/cmd/Dropbox/Teaching/amlFall2023/assignments/ytrain.npy')\n",
    "y_raw = y_raw.reshape(-1,1) \n",
    "print(f'Shape of the raw labels: {y_raw.shape}')\n"
   ]
  },
  {
   "cell_type": "code",
   "execution_count": 68,
   "metadata": {},
   "outputs": [
    {
     "name": "stdout",
     "output_type": "stream",
     "text": [
      "Epoch 1/10\n",
      "820/820 [==============================] - 5s 6ms/step - loss: 0.6886 - accuracy: 0.5345\n",
      "Epoch 2/10\n",
      "820/820 [==============================] - 5s 6ms/step - loss: 0.6816 - accuracy: 0.5565\n",
      "Epoch 3/10\n",
      "820/820 [==============================] - 5s 6ms/step - loss: 0.6763 - accuracy: 0.5656\n",
      "Epoch 4/10\n",
      "820/820 [==============================] - 4s 5ms/step - loss: 0.6539 - accuracy: 0.6079\n",
      "Epoch 5/10\n",
      "820/820 [==============================] - 5s 5ms/step - loss: 0.6392 - accuracy: 0.6307\n",
      "Epoch 6/10\n",
      "820/820 [==============================] - 4s 5ms/step - loss: 0.6322 - accuracy: 0.6445\n",
      "Epoch 7/10\n",
      "820/820 [==============================] - 4s 5ms/step - loss: 0.6274 - accuracy: 0.6503\n",
      "Epoch 8/10\n",
      "820/820 [==============================] - 4s 5ms/step - loss: 0.6207 - accuracy: 0.6592\n",
      "Epoch 9/10\n",
      "820/820 [==============================] - 4s 5ms/step - loss: 0.6166 - accuracy: 0.6634\n",
      "Epoch 10/10\n",
      "820/820 [==============================] - 4s 5ms/step - loss: 0.6101 - accuracy: 0.6714\n"
     ]
    },
    {
     "data": {
      "text/plain": [
       "<keras.src.callbacks.History at 0x7fd6303a8950>"
      ]
     },
     "execution_count": 68,
     "metadata": {},
     "output_type": "execute_result"
    }
   ],
   "source": [
    "model = tf.keras.models.Sequential([\n",
    "    tf.keras.layers.Flatten(input_shape=(32,32,1)),\n",
    "    tf.keras.layers.Dense(64, activation='relu'),\n",
    "    tf.keras.layers.Dense(128, activation='relu'),\n",
    "    tf.keras.layers.Dense(2, activation='softmax'),\n",
    "    ])\n",
    "\n",
    "sgd_opt = SGD(learning_rate=0.01, momentum=0.9, nesterov=True)\n",
    "\n",
    "model.compile(optimizer=sgd_opt,\n",
    "              loss='sparse_categorical_crossentropy',\n",
    "              metrics=['accuracy'])\n",
    "\n",
    "model.fit(X_train, y_raw, epochs=10)"
   ]
  },
  {
   "cell_type": "markdown",
   "metadata": {},
   "source": [
    "The below code makes predictions and then saves them (after checking they are in correct format).\n",
    "\n",
    "The argmax converts probabilities to specific class predictions.\n",
    "\n",
    "And finally convert to appropriate $\\texttt{.csv}$ for Kaggle submit."
   ]
  },
  {
   "cell_type": "code",
   "execution_count": 69,
   "metadata": {},
   "outputs": [
    {
     "name": "stdout",
     "output_type": "stream",
     "text": [
      "52/52 [==============================] - 0s 6ms/step\n"
     ]
    }
   ],
   "source": [
    "y_test_hat = model.predict(X_test)\n",
    "y_test_hat = np.argmax(y_test_hat, axis=1)\n",
    "\n",
    "ytest_hat_pd = pd.DataFrame({\n",
    "    'Id': list(range(len(y_test_hat))),\n",
    "    'Predicted': y_test_hat.reshape(-1,),\n",
    "})\n",
    "\n",
    "ytest_hat_pd.to_csv('y_test_hat_fcnn.csv', index=False)"
   ]
  }
 ],
 "metadata": {
  "kernelspec": {
   "display_name": "Python 3.10.4 ('amlfall22')",
   "language": "python",
   "name": "python3"
  },
  "language_info": {
   "codemirror_mode": {
    "name": "ipython",
    "version": 3
   },
   "file_extension": ".py",
   "mimetype": "text/x-python",
   "name": "python",
   "nbconvert_exporter": "python",
   "pygments_lexer": "ipython3",
   "version": "3.11.5"
  },
  "vscode": {
   "interpreter": {
    "hash": "d3cedec8935a2c28d6fd602c3007747750e2af1c4c937c29fac0d323bf1b544b"
   }
  }
 },
 "nbformat": 4,
 "nbformat_minor": 4
}
